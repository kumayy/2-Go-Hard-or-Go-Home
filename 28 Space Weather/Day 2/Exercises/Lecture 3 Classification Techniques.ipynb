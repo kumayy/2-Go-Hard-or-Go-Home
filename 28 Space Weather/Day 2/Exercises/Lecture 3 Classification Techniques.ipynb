{
 "cells": [
  {
   "cell_type": "markdown",
   "id": "cf14d3b8",
   "metadata": {},
   "source": [
    "# Classification Workbook\n",
    "Welcome to the Classification workbook. Let's start by importing some of our custom libraries."
   ]
  },
  {
   "cell_type": "code",
   "execution_count": 1,
   "id": "d1d3d9e6",
   "metadata": {},
   "outputs": [],
   "source": [
    "import numpy as np\n",
    "import pandas as pd\n",
    "\n",
    "from matplotlib import pyplot as plt\n",
    "%matplotlib inline\n",
    "\n",
    "import seaborn as sns\n",
    "sns.set_style('darkgrid')"
   ]
  },
  {
   "cell_type": "markdown",
   "id": "03e3c107",
   "metadata": {},
   "source": [
    "## 1. Classification Algorithms\n",
    "In the class, we discussed four different classification methods. Let's investigate them in more detail here."
   ]
  },
  {
   "cell_type": "markdown",
   "id": "30c38f3d",
   "metadata": {},
   "source": [
    "### 1.1. Binary Classification\n",
    "Binary classification is when the target is determined with True or False. Let's create a simple x and y arrays for exploring conditional classification."
   ]
  },
  {
   "cell_type": "code",
   "execution_count": 2,
   "id": "a4247d5f",
   "metadata": {},
   "outputs": [],
   "source": [
    "x = np.linspace(0, 1, 100)"
   ]
  },
  {
   "cell_type": "code",
   "execution_count": 3,
   "id": "2b7c68d5",
   "metadata": {},
   "outputs": [],
   "source": [
    "np.random.seed(123)\n",
    "noise = np.random.uniform(-0.2, 0.2, 100)"
   ]
  },
  {
   "cell_type": "code",
   "execution_count": 4,
   "id": "c641ccee",
   "metadata": {},
   "outputs": [
    {
     "data": {
      "text/plain": [
       "array([ 0.07858767, -0.07544326, -0.0890574 ,  0.05082894,  0.12819163,\n",
       "        0.01974763,  0.25291174,  0.14463897,  0.07318084,  0.0477561 ,\n",
       "        0.03828131,  0.20273099,  0.09664102, -0.04481571,  0.10063184,\n",
       "        0.24671331,  0.03461285,  0.04189787,  0.19443873,  0.20465023,\n",
       "        0.25578059,  0.35189393,  0.31200435,  0.27673264,  0.3314016 ,\n",
       "        0.18170882,  0.20734172,  0.16403257,  0.2003139 ,  0.34531974,\n",
       "        0.13987228,  0.28661178,  0.29557743,  0.33080737,  0.31376646,\n",
       "        0.27843984,  0.33417689,  0.53109304,  0.56150239,  0.39467406,\n",
       "        0.45362158,  0.26038877,  0.35115662,  0.40027392,  0.59096811,\n",
       "        0.3547276 ,  0.45786017,  0.66897139,  0.49264253,  0.54010731,\n",
       "        0.35330197,  0.64568784,  0.56647658,  0.55338074,  0.48256008,\n",
       "        0.47720387,  0.53246545,  0.64827788,  0.73604132,  0.60012853,\n",
       "        0.67378612,  0.65053624,  0.67622403,  0.70623926,  0.78340162,\n",
       "        0.48984365,  0.7721398 ,  0.57423423,  0.56455787,  0.72595248,\n",
       "        0.54535571,  0.87130245,  0.77817232,  0.82674028,  0.55392643,\n",
       "        0.79534851,  0.79039084,  0.64136164,  0.64910699,  0.87619161,\n",
       "        0.73558738,  0.89496994,  0.85003613,  0.79396407,  1.01853784,\n",
       "        0.99525386,  0.8116459 ,  0.69622446,  0.81079612,  0.85826417,\n",
       "        0.99107444,  1.11733531,  0.87165888,  1.04441306,  0.98676572,\n",
       "        1.03627668,  0.83014795,  0.9393485 ,  0.88624135,  0.93738241])"
      ]
     },
     "execution_count": 4,
     "metadata": {},
     "output_type": "execute_result"
    }
   ],
   "source": [
    "x+noise"
   ]
  },
  {
   "cell_type": "code",
   "execution_count": 5,
   "id": "5064469a",
   "metadata": {},
   "outputs": [
    {
     "data": {
      "text/plain": [
       "array([False, False, False, False, False, False, False, False, False,\n",
       "       False, False, False, False, False, False, False, False, False,\n",
       "       False, False, False, False, False, False, False, False, False,\n",
       "       False, False, False, False, False, False, False, False, False,\n",
       "       False,  True,  True, False, False, False, False, False,  True,\n",
       "       False, False,  True, False,  True, False,  True,  True,  True,\n",
       "       False, False,  True,  True,  True,  True,  True,  True,  True,\n",
       "        True,  True, False,  True,  True,  True,  True,  True,  True,\n",
       "        True,  True,  True,  True,  True,  True,  True,  True,  True,\n",
       "        True,  True,  True,  True,  True,  True,  True,  True,  True,\n",
       "        True,  True,  True,  True,  True,  True,  True,  True,  True,\n",
       "        True])"
      ]
     },
     "execution_count": 5,
     "metadata": {},
     "output_type": "execute_result"
    }
   ],
   "source": [
    "(x+noise)>0.5"
   ]
  },
  {
   "cell_type": "code",
   "execution_count": 6,
   "id": "1a1a9db6",
   "metadata": {},
   "outputs": [
    {
     "data": {
      "text/plain": [
       "array([0, 0, 0, 0, 0, 0, 0, 0, 0, 0, 0, 0, 0, 0, 0, 0, 0, 0, 0, 0, 0, 0,\n",
       "       0, 0, 0, 0, 0, 0, 0, 0, 0, 0, 0, 0, 0, 0, 0, 1, 1, 0, 0, 0, 0, 0,\n",
       "       1, 0, 0, 1, 0, 1, 0, 1, 1, 1, 0, 0, 1, 1, 1, 1, 1, 1, 1, 1, 1, 0,\n",
       "       1, 1, 1, 1, 1, 1, 1, 1, 1, 1, 1, 1, 1, 1, 1, 1, 1, 1, 1, 1, 1, 1,\n",
       "       1, 1, 1, 1, 1, 1, 1, 1, 1, 1, 1, 1])"
      ]
     },
     "execution_count": 6,
     "metadata": {},
     "output_type": "execute_result"
    }
   ],
   "source": [
    "((x+noise)>0.5).astype(int)"
   ]
  },
  {
   "cell_type": "code",
   "execution_count": 7,
   "id": "9d95dcbd",
   "metadata": {},
   "outputs": [],
   "source": [
    "y = ((x+noise)>0.5).astype(int)"
   ]
  },
  {
   "cell_type": "code",
   "execution_count": 8,
   "id": "2f5f12da",
   "metadata": {},
   "outputs": [
    {
     "data": {
      "text/plain": [
       "array([0, 0, 0, 0, 0, 0, 0, 0, 0, 0, 0, 0, 0, 0, 0, 0, 0, 0, 0, 0, 0, 0,\n",
       "       0, 0, 0, 0, 0, 0, 0, 0, 0, 0, 0, 0, 0, 0, 0, 1, 1, 0, 0, 0, 0, 0,\n",
       "       1, 0, 0, 1, 0, 1, 0, 1, 1, 1, 0, 0, 1, 1, 1, 1, 1, 1, 1, 1, 1, 0,\n",
       "       1, 1, 1, 1, 1, 1, 1, 1, 1, 1, 1, 1, 1, 1, 1, 1, 1, 1, 1, 1, 1, 1,\n",
       "       1, 1, 1, 1, 1, 1, 1, 1, 1, 1, 1, 1])"
      ]
     },
     "execution_count": 8,
     "metadata": {},
     "output_type": "execute_result"
    }
   ],
   "source": [
    "y"
   ]
  },
  {
   "cell_type": "code",
   "execution_count": 11,
   "id": "48d82206",
   "metadata": {},
   "outputs": [
    {
     "data": {
      "text/plain": [
       "array([False, False, False, False, False, False, False, False, False,\n",
       "       False, False, False, False, False, False, False, False, False,\n",
       "       False, False, False, False, False, False, False, False, False,\n",
       "       False, False, False, False, False, False, False, False, False,\n",
       "       False, False, False, False, False, False, False, False, False,\n",
       "       False, False, False, False, False,  True,  True,  True,  True,\n",
       "        True,  True,  True,  True,  True,  True,  True,  True,  True,\n",
       "        True,  True,  True,  True,  True,  True,  True,  True,  True,\n",
       "        True,  True,  True,  True,  True,  True,  True,  True,  True,\n",
       "        True,  True,  True,  True,  True,  True,  True,  True,  True,\n",
       "        True,  True,  True,  True,  True,  True,  True,  True,  True,\n",
       "        True])"
      ]
     },
     "execution_count": 11,
     "metadata": {},
     "output_type": "execute_result"
    }
   ],
   "source": [
    "x>0.5"
   ]
  },
  {
   "cell_type": "code",
   "execution_count": 10,
   "id": "c26e83e3",
   "metadata": {},
   "outputs": [
    {
     "data": {
      "text/plain": [
       "<matplotlib.collections.PathCollection at 0x140765b80>"
      ]
     },
     "execution_count": 10,
     "metadata": {},
     "output_type": "execute_result"
    },
    {
     "data": {
      "image/png": "[encoded data removed]",
      "text/plain": [
       "<Figure size 432x288 with 1 Axes>"
      ]
     },
     "metadata": {},
     "output_type": "display_data"
    }
   ],
   "source": [
    "fig = plt.figure(figsize=(6,4))\n",
    "ax = plt.subplot(111)\n",
    "\n",
    "ax.plot(x, x>0.5, 'r.')\n",
    "ax.scatter(x, y, color='b')"
   ]
  },
  {
   "cell_type": "markdown",
   "id": "5e42da92",
   "metadata": {},
   "source": [
    "Simple as that, we built a mask that attributes values below 0.5 to 0 and above 0.5 to 1. When we use an encoder for a binary classification problem, we can use this type of classification easily."
   ]
  },
  {
   "cell_type": "markdown",
   "id": "95b610de",
   "metadata": {},
   "source": [
    "### 1.2. Logistic Regression\n",
    "We have used Logistic Regression before, but unlike the name implies LogisticRegression is best suited for classification problems."
   ]
  },
  {
   "cell_type": "code",
   "execution_count": 12,
   "id": "af014452",
   "metadata": {},
   "outputs": [],
   "source": [
    "from sklearn.linear_model import LogisticRegression"
   ]
  },
  {
   "cell_type": "code",
   "execution_count": 13,
   "id": "1ce3eb03",
   "metadata": {},
   "outputs": [],
   "source": [
    "lr_model = LogisticRegression()"
   ]
  },
  {
   "cell_type": "code",
   "execution_count": 14,
   "id": "b2889ca9",
   "metadata": {},
   "outputs": [
    {
     "data": {
      "text/plain": [
       "LogisticRegression()"
      ]
     },
     "execution_count": 14,
     "metadata": {},
     "output_type": "execute_result"
    }
   ],
   "source": [
    "lr_model.fit(x.reshape(100,1),y)"
   ]
  },
  {
   "cell_type": "code",
   "execution_count": 15,
   "id": "31d865c6",
   "metadata": {},
   "outputs": [
    {
     "data": {
      "text/plain": [
       "array([0, 0, 0, 0, 0, 0, 0, 0, 0, 0, 0, 0, 0, 0, 0, 0, 0, 0, 0, 0, 0, 0,\n",
       "       0, 0, 0, 0, 0, 0, 0, 0, 0, 0, 0, 0, 0, 0, 0, 0, 0, 0, 0, 0, 0, 0,\n",
       "       0, 0, 0, 0, 0, 1, 1, 1, 1, 1, 1, 1, 1, 1, 1, 1, 1, 1, 1, 1, 1, 1,\n",
       "       1, 1, 1, 1, 1, 1, 1, 1, 1, 1, 1, 1, 1, 1, 1, 1, 1, 1, 1, 1, 1, 1,\n",
       "       1, 1, 1, 1, 1, 1, 1, 1, 1, 1, 1, 1])"
      ]
     },
     "execution_count": 15,
     "metadata": {},
     "output_type": "execute_result"
    }
   ],
   "source": [
    "lr_model.predict(x.reshape(100,1))"
   ]
  },
  {
   "cell_type": "code",
   "execution_count": 16,
   "id": "6fea7eaa",
   "metadata": {},
   "outputs": [
    {
     "data": {
      "text/plain": [
       "array([ True,  True,  True,  True,  True,  True,  True,  True,  True,\n",
       "        True,  True,  True,  True,  True,  True,  True,  True,  True,\n",
       "        True,  True,  True,  True,  True,  True,  True,  True,  True,\n",
       "        True,  True,  True,  True,  True,  True,  True,  True,  True,\n",
       "        True, False, False,  True])"
      ]
     },
     "execution_count": 16,
     "metadata": {},
     "output_type": "execute_result"
    }
   ],
   "source": [
    "(lr_model.predict(x.reshape(100,1))==y)[:40]"
   ]
  },
  {
   "cell_type": "markdown",
   "id": "17994122",
   "metadata": {},
   "source": [
    "This tells us model doesn't always predict the values of y. Remember with LogisticRegression, it is always wise to look at the probability. "
   ]
  },
  {
   "cell_type": "code",
   "execution_count": 18,
   "id": "44684140",
   "metadata": {},
   "outputs": [
    {
     "data": {
      "text/plain": [
       "array([[0.89531454, 0.10468546],\n",
       "       [0.89107222, 0.10892778],\n",
       "       [0.88667974, 0.11332026],\n",
       "       [0.88213356, 0.11786644],\n",
       "       [0.87743021, 0.12256979],\n",
       "       [0.87256629, 0.12743371],\n",
       "       [0.8675385 , 0.1324615 ],\n",
       "       [0.86234363, 0.13765637],\n",
       "       [0.85697862, 0.14302138],\n",
       "       [0.85144054, 0.14855946],\n",
       "       [0.84572661, 0.15427339],\n",
       "       [0.83983425, 0.16016575],\n",
       "       [0.83376108, 0.16623892],\n",
       "       [0.82750492, 0.17249508],\n",
       "       [0.82106385, 0.17893615],\n",
       "       [0.8144362 , 0.1855638 ],\n",
       "       [0.80762059, 0.19237941],\n",
       "       [0.80061592, 0.19938408],\n",
       "       [0.79342145, 0.20657855],\n",
       "       [0.78603676, 0.21396324],\n",
       "       [0.77846179, 0.22153821],\n",
       "       [0.77069688, 0.22930312],\n",
       "       [0.76274275, 0.23725725],\n",
       "       [0.75460057, 0.24539943],\n",
       "       [0.74627191, 0.25372809],\n",
       "       [0.73775882, 0.26224118],\n",
       "       [0.72906379, 0.27093621],\n",
       "       [0.72018981, 0.27981019],\n",
       "       [0.71114034, 0.28885966],\n",
       "       [0.70191933, 0.29808067],\n",
       "       [0.69253123, 0.30746877],\n",
       "       [0.682981  , 0.317019  ],\n",
       "       [0.67327408, 0.32672592],\n",
       "       [0.66341641, 0.33658359],\n",
       "       [0.65341443, 0.34658557],\n",
       "       [0.64327504, 0.35672496],\n",
       "       [0.63300563, 0.36699437],\n",
       "       [0.62261402, 0.37738598],\n",
       "       [0.61210848, 0.38789152],\n",
       "       [0.60149767, 0.39850233],\n",
       "       [0.59079064, 0.40920936],\n",
       "       [0.57999681, 0.42000319],\n",
       "       [0.56912592, 0.43087408],\n",
       "       [0.55818798, 0.44181202],\n",
       "       [0.5471933 , 0.4528067 ],\n",
       "       [0.53615238, 0.46384762],\n",
       "       [0.52507589, 0.47492411],\n",
       "       [0.51397468, 0.48602532],\n",
       "       [0.50285967, 0.49714033],\n",
       "       [0.49174183, 0.50825817],\n",
       "       [0.48063214, 0.51936786],\n",
       "       [0.46954158, 0.53045842],\n",
       "       [0.45848102, 0.54151898],\n",
       "       [0.44746123, 0.55253877],\n",
       "       [0.4364928 , 0.5635072 ],\n",
       "       [0.42558616, 0.57441384],\n",
       "       [0.41475145, 0.58524855],\n",
       "       [0.40399857, 0.59600143],\n",
       "       [0.39333711, 0.60666289],\n",
       "       [0.38277631, 0.61722369]])"
      ]
     },
     "execution_count": 18,
     "metadata": {},
     "output_type": "execute_result"
    }
   ],
   "source": [
    "lr_model.predict_proba(x.reshape(100,1))[:60]"
   ]
  },
  {
   "cell_type": "code",
   "execution_count": 19,
   "id": "1b8c502a",
   "metadata": {},
   "outputs": [
    {
     "data": {
      "text/plain": [
       "<matplotlib.legend.Legend at 0x141046790>"
      ]
     },
     "execution_count": 19,
     "metadata": {},
     "output_type": "execute_result"
    },
    {
     "data": {
      "image/png": "[encoded data removed]",
      "text/plain": [
       "<Figure size 432x288 with 1 Axes>"
      ]
     },
     "metadata": {},
     "output_type": "display_data"
    }
   ],
   "source": [
    "fig = plt.figure(figsize=(6,4))\n",
    "ax = plt.subplot(111)\n",
    "\n",
    "ax.plot(x, y, 'bo', label='y')\n",
    "ax.plot(x, lr_model.predict(x.reshape(100,1)), 'r.', label='$y_{pred}$')\n",
    "ax.plot(x, lr_model.predict_proba(x.reshape(100,1))[:,1], 'k--', label='Log. Reg.')\n",
    "ax.legend()"
   ]
  },
  {
   "cell_type": "markdown",
   "id": "90d6d134",
   "metadata": {},
   "source": [
    "The probabilities are not as \"certain\". Remember, we can always fine tune the logistic regression with C, penalty parameter."
   ]
  },
  {
   "cell_type": "markdown",
   "id": "0f7fbeeb",
   "metadata": {},
   "source": [
    "### 1.3. Decision Tree and Random Forest Classification\n",
    "This is also an old friend of ours. Let's see how we can use RandomForest as a classifier."
   ]
  },
  {
   "cell_type": "code",
   "execution_count": 20,
   "id": "2650b9f8",
   "metadata": {},
   "outputs": [],
   "source": [
    "from sklearn.ensemble import RandomForestClassifier"
   ]
  },
  {
   "cell_type": "code",
   "execution_count": 21,
   "id": "0a06f8af",
   "metadata": {},
   "outputs": [],
   "source": [
    "rf_model = RandomForestClassifier(random_state=123)"
   ]
  },
  {
   "cell_type": "code",
   "execution_count": 22,
   "id": "338b7c62",
   "metadata": {},
   "outputs": [
    {
     "data": {
      "text/plain": [
       "RandomForestClassifier(random_state=123)"
      ]
     },
     "execution_count": 22,
     "metadata": {},
     "output_type": "execute_result"
    }
   ],
   "source": [
    "rf_model.fit(x.reshape(100,1),y)"
   ]
  },
  {
   "cell_type": "code",
   "execution_count": 23,
   "id": "7b9d5868",
   "metadata": {},
   "outputs": [],
   "source": [
    "X = x.reshape(100,1)"
   ]
  },
  {
   "cell_type": "code",
   "execution_count": 24,
   "id": "f6bc5096",
   "metadata": {},
   "outputs": [],
   "source": [
    "pred = rf_model.predict_proba(X)"
   ]
  },
  {
   "cell_type": "code",
   "execution_count": 26,
   "id": "333761de",
   "metadata": {},
   "outputs": [],
   "source": [
    "pred2 = rf_model.predict(X)"
   ]
  },
  {
   "cell_type": "code",
   "execution_count": 34,
   "id": "b177eede",
   "metadata": {},
   "outputs": [
    {
     "data": {
      "text/plain": [
       "<matplotlib.legend.Legend at 0x142cefcd0>"
      ]
     },
     "execution_count": 34,
     "metadata": {},
     "output_type": "execute_result"
    },
    {
     "data": {
      "image/png": "[encoded data removed]",
      "text/plain": [
       "<Figure size 432x288 with 1 Axes>"
      ]
     },
     "metadata": {},
     "output_type": "display_data"
    }
   ],
   "source": [
    "fig = plt.figure(figsize=(6,4))\n",
    "ax = plt.subplot(111)\n",
    "\n",
    "ax.scatter(x, y, color='b')\n",
    "ax.plot(X, pred[:,1], 'k--', label='RF Classifier Probability')\n",
    "ax.plot(X, pred2, 'r.', label='RF Classifier Prediction')\n",
    "ax.legend()"
   ]
  },
  {
   "cell_type": "code",
   "execution_count": 28,
   "id": "882ba033",
   "metadata": {},
   "outputs": [],
   "source": [
    "rf_model2 = RandomForestClassifier(random_state=123, n_estimators=10, min_samples_leaf=20)"
   ]
  },
  {
   "cell_type": "code",
   "execution_count": 29,
   "id": "1cfd4c85",
   "metadata": {},
   "outputs": [
    {
     "data": {
      "text/plain": [
       "RandomForestClassifier(min_samples_leaf=20, n_estimators=10, random_state=123)"
      ]
     },
     "execution_count": 29,
     "metadata": {},
     "output_type": "execute_result"
    }
   ],
   "source": [
    "rf_model2.fit(X,y)"
   ]
  },
  {
   "cell_type": "code",
   "execution_count": 31,
   "id": "e780cbd2",
   "metadata": {},
   "outputs": [],
   "source": [
    "pred_prob_model2 = rf_model2.predict_proba(X)\n",
    "pred_model2 = rf_model2.predict(X)"
   ]
  },
  {
   "cell_type": "code",
   "execution_count": 32,
   "id": "4d4735d2",
   "metadata": {},
   "outputs": [
    {
     "data": {
      "text/plain": [
       "<matplotlib.legend.Legend at 0x141d071c0>"
      ]
     },
     "execution_count": 32,
     "metadata": {},
     "output_type": "execute_result"
    },
    {
     "data": {
      "image/png": "[encoded data removed]",
      "text/plain": [
       "<Figure size 432x288 with 1 Axes>"
      ]
     },
     "metadata": {},
     "output_type": "display_data"
    }
   ],
   "source": [
    "fig = plt.figure(figsize=(6,4))\n",
    "ax = plt.subplot(111)\n",
    "\n",
    "ax.scatter(x, y, color='b')\n",
    "ax.plot(X, pred_prob_model2[:,1], 'k--', label='Constrained RF Classifier Prob')\n",
    "ax.plot(X, pred_model2, 'r.', label='Constrained RF Classifier Pred')\n",
    "ax.legend(loc=2)"
   ]
  },
  {
   "cell_type": "markdown",
   "id": "9db8f569",
   "metadata": {},
   "source": [
    "### 1.4. k-Nearest Neighbour Classification"
   ]
  },
  {
   "cell_type": "code",
   "execution_count": 35,
   "id": "a2eae07b",
   "metadata": {},
   "outputs": [],
   "source": [
    "from sklearn.neighbors import KNeighborsClassifier"
   ]
  },
  {
   "cell_type": "code",
   "execution_count": 36,
   "id": "b643a988",
   "metadata": {},
   "outputs": [],
   "source": [
    "knn_model = KNeighborsClassifier(n_neighbors=3)"
   ]
  },
  {
   "cell_type": "code",
   "execution_count": 37,
   "id": "77f2326f",
   "metadata": {},
   "outputs": [
    {
     "data": {
      "text/plain": [
       "KNeighborsClassifier(n_neighbors=3)"
      ]
     },
     "execution_count": 37,
     "metadata": {},
     "output_type": "execute_result"
    }
   ],
   "source": [
    "knn_model.fit(X,y)"
   ]
  },
  {
   "cell_type": "code",
   "execution_count": 41,
   "id": "ee54fdec",
   "metadata": {},
   "outputs": [],
   "source": [
    "pred_prob4 = knn_model.predict_proba(X)\n",
    "pred_knn4 = knn_model.predict(X)"
   ]
  },
  {
   "cell_type": "code",
   "execution_count": 42,
   "id": "70737182",
   "metadata": {},
   "outputs": [
    {
     "data": {
      "text/plain": [
       "<matplotlib.legend.Legend at 0x142e12fd0>"
      ]
     },
     "execution_count": 42,
     "metadata": {},
     "output_type": "execute_result"
    },
    {
     "data": {
      "image/png": "[encoded data removed]",
      "text/plain": [
       "<Figure size 432x288 with 1 Axes>"
      ]
     },
     "metadata": {},
     "output_type": "display_data"
    }
   ],
   "source": [
    "fig = plt.figure(figsize=(6,4))\n",
    "ax = plt.subplot(111)\n",
    "\n",
    "ax.scatter(x, y, color='b')\n",
    "ax.plot(X, pred_prob4[:,1], 'k--', label='kNN Prob')\n",
    "ax.plot(X, pred_knn4, 'r.', label='kNN Pred')\n",
    "ax.legend(loc=2)"
   ]
  },
  {
   "cell_type": "markdown",
   "id": "07abdecd",
   "metadata": {},
   "source": [
    "Again, we can finetune the kNN to get better results."
   ]
  },
  {
   "cell_type": "code",
   "execution_count": 43,
   "id": "2aeb6109",
   "metadata": {},
   "outputs": [
    {
     "data": {
      "text/plain": [
       "KNeighborsClassifier(n_neighbors=10)"
      ]
     },
     "execution_count": 43,
     "metadata": {},
     "output_type": "execute_result"
    }
   ],
   "source": [
    "knn_model2 = KNeighborsClassifier(n_neighbors=10, weights='uniform')\n",
    "knn_model2.fit(X,y)"
   ]
  },
  {
   "cell_type": "code",
   "execution_count": 44,
   "id": "b49313db",
   "metadata": {},
   "outputs": [],
   "source": [
    "pred5 = knn_model2.predict(X)"
   ]
  },
  {
   "cell_type": "code",
   "execution_count": 46,
   "id": "8e771ea7",
   "metadata": {},
   "outputs": [
    {
     "data": {
      "text/plain": [
       "<matplotlib.legend.Legend at 0x142e81550>"
      ]
     },
     "execution_count": 46,
     "metadata": {},
     "output_type": "execute_result"
    },
    {
     "data": {
      "image/png": "[encoded data removed]",
      "text/plain": [
       "<Figure size 432x288 with 1 Axes>"
      ]
     },
     "metadata": {},
     "output_type": "display_data"
    }
   ],
   "source": [
    "fig = plt.figure(figsize=(6,4))\n",
    "ax = plt.subplot(111)\n",
    "\n",
    "ax.scatter(x, y, color='b')\n",
    "ax.plot(X, pred5, 'r.', label='kNN')\n",
    "ax.legend(loc=2)"
   ]
  },
  {
   "cell_type": "markdown",
   "id": "0814c484",
   "metadata": {},
   "source": [
    "## 2. Evaluation Methods\n",
    "Let's remember what our x and y were."
   ]
  },
  {
   "cell_type": "code",
   "execution_count": 47,
   "id": "b7589b09",
   "metadata": {},
   "outputs": [
    {
     "name": "stdout",
     "output_type": "stream",
     "text": [
      "[[0.        ]\n",
      " [0.01010101]\n",
      " [0.02020202]\n",
      " [0.03030303]\n",
      " [0.04040404]\n",
      " [0.05050505]\n",
      " [0.06060606]\n",
      " [0.07070707]\n",
      " [0.08080808]\n",
      " [0.09090909]\n",
      " [0.1010101 ]\n",
      " [0.11111111]\n",
      " [0.12121212]\n",
      " [0.13131313]\n",
      " [0.14141414]\n",
      " [0.15151515]\n",
      " [0.16161616]\n",
      " [0.17171717]\n",
      " [0.18181818]\n",
      " [0.19191919]\n",
      " [0.2020202 ]\n",
      " [0.21212121]\n",
      " [0.22222222]\n",
      " [0.23232323]\n",
      " [0.24242424]\n",
      " [0.25252525]\n",
      " [0.26262626]\n",
      " [0.27272727]\n",
      " [0.28282828]\n",
      " [0.29292929]\n",
      " [0.3030303 ]\n",
      " [0.31313131]\n",
      " [0.32323232]\n",
      " [0.33333333]\n",
      " [0.34343434]\n",
      " [0.35353535]\n",
      " [0.36363636]\n",
      " [0.37373737]\n",
      " [0.38383838]\n",
      " [0.39393939]\n",
      " [0.4040404 ]\n",
      " [0.41414141]\n",
      " [0.42424242]\n",
      " [0.43434343]\n",
      " [0.44444444]\n",
      " [0.45454545]\n",
      " [0.46464646]\n",
      " [0.47474747]\n",
      " [0.48484848]\n",
      " [0.49494949]\n",
      " [0.50505051]\n",
      " [0.51515152]\n",
      " [0.52525253]\n",
      " [0.53535354]\n",
      " [0.54545455]\n",
      " [0.55555556]\n",
      " [0.56565657]\n",
      " [0.57575758]\n",
      " [0.58585859]\n",
      " [0.5959596 ]\n",
      " [0.60606061]\n",
      " [0.61616162]\n",
      " [0.62626263]\n",
      " [0.63636364]\n",
      " [0.64646465]\n",
      " [0.65656566]\n",
      " [0.66666667]\n",
      " [0.67676768]\n",
      " [0.68686869]\n",
      " [0.6969697 ]\n",
      " [0.70707071]\n",
      " [0.71717172]\n",
      " [0.72727273]\n",
      " [0.73737374]\n",
      " [0.74747475]\n",
      " [0.75757576]\n",
      " [0.76767677]\n",
      " [0.77777778]\n",
      " [0.78787879]\n",
      " [0.7979798 ]\n",
      " [0.80808081]\n",
      " [0.81818182]\n",
      " [0.82828283]\n",
      " [0.83838384]\n",
      " [0.84848485]\n",
      " [0.85858586]\n",
      " [0.86868687]\n",
      " [0.87878788]\n",
      " [0.88888889]\n",
      " [0.8989899 ]\n",
      " [0.90909091]\n",
      " [0.91919192]\n",
      " [0.92929293]\n",
      " [0.93939394]\n",
      " [0.94949495]\n",
      " [0.95959596]\n",
      " [0.96969697]\n",
      " [0.97979798]\n",
      " [0.98989899]\n",
      " [1.        ]] [0 0 0 0 0 0 0 0 0 0 0 0 0 0 0 0 0 0 0 0 0 0 0 0 0 0 0 0 0 0 0 0 0 0 0 0 0\n",
      " 1 1 0 0 0 0 0 1 0 0 1 0 1 0 1 1 1 0 0 1 1 1 1 1 1 1 1 1 0 1 1 1 1 1 1 1 1\n",
      " 1 1 1 1 1 1 1 1 1 1 1 1 1 1 1 1 1 1 1 1 1 1 1 1 1 1]\n"
     ]
    }
   ],
   "source": [
    "print(X, y)"
   ]
  },
  {
   "cell_type": "markdown",
   "id": "229bf8f3",
   "metadata": {},
   "source": [
    "### 2.1. Accuracy Score\n",
    "We start with the simple accuracy score. "
   ]
  },
  {
   "cell_type": "code",
   "execution_count": 48,
   "id": "3f4486d8",
   "metadata": {},
   "outputs": [],
   "source": [
    "from sklearn.metrics import accuracy_score"
   ]
  },
  {
   "cell_type": "code",
   "execution_count": 49,
   "id": "7fd648da",
   "metadata": {},
   "outputs": [],
   "source": [
    "pred = lr_model.predict(X)"
   ]
  },
  {
   "cell_type": "code",
   "execution_count": 50,
   "id": "57c4d5c0",
   "metadata": {},
   "outputs": [],
   "source": [
    "pred2 = rf_model.predict(X)"
   ]
  },
  {
   "cell_type": "code",
   "execution_count": 51,
   "id": "b7aa1ab1",
   "metadata": {},
   "outputs": [],
   "source": [
    "pred3 = rf_model2.predict(X)"
   ]
  },
  {
   "cell_type": "code",
   "execution_count": 52,
   "id": "0ee726a3",
   "metadata": {},
   "outputs": [],
   "source": [
    "pred4 = knn_model.predict(X)"
   ]
  },
  {
   "cell_type": "code",
   "execution_count": 53,
   "id": "e07b3479",
   "metadata": {},
   "outputs": [
    {
     "name": "stdout",
     "output_type": "stream",
     "text": [
      "Logistic Reg. Acc: 0.92\n",
      "Random Forest Acc: 1.0\n",
      "Constrained Random Forest Acc: 0.92\n",
      "KNN Acc: 0.94\n"
     ]
    }
   ],
   "source": [
    "print( 'Logistic Reg. Acc:', accuracy_score(y, pred))\n",
    "print( 'Random Forest Acc:', accuracy_score(y, pred2))\n",
    "print( 'Constrained Random Forest Acc:', accuracy_score(y, pred3))\n",
    "print( 'KNN Acc:', accuracy_score(y, pred4))"
   ]
  },
  {
   "cell_type": "markdown",
   "id": "1dffc1d7",
   "metadata": {},
   "source": [
    "This is what the metric says, but is something fishy?"
   ]
  },
  {
   "cell_type": "markdown",
   "id": "3bd4a5d5",
   "metadata": {},
   "source": [
    "### 2.2. Confusion Matrix"
   ]
  },
  {
   "cell_type": "code",
   "execution_count": 54,
   "id": "9eeef4ca",
   "metadata": {},
   "outputs": [],
   "source": [
    "from sklearn.metrics import confusion_matrix"
   ]
  },
  {
   "cell_type": "code",
   "execution_count": 55,
   "id": "82d16e69",
   "metadata": {},
   "outputs": [
    {
     "name": "stdout",
     "output_type": "stream",
     "text": [
      "Log. Reg.:\n",
      " [[45  4]\n",
      " [ 4 47]]\n"
     ]
    }
   ],
   "source": [
    "print('Log. Reg.:\\n', confusion_matrix(y, pred))"
   ]
  },
  {
   "cell_type": "code",
   "execution_count": 56,
   "id": "14ec24b9",
   "metadata": {},
   "outputs": [
    {
     "name": "stdout",
     "output_type": "stream",
     "text": [
      "Random Forest:\n",
      " [[49  0]\n",
      " [ 0 51]]\n"
     ]
    }
   ],
   "source": [
    "print('Random Forest:\\n',confusion_matrix(y, pred2))"
   ]
  },
  {
   "cell_type": "code",
   "execution_count": 57,
   "id": "758d2e42",
   "metadata": {},
   "outputs": [
    {
     "name": "stdout",
     "output_type": "stream",
     "text": [
      "Const. RF.:\n",
      " [[45  4]\n",
      " [ 4 47]]\n"
     ]
    }
   ],
   "source": [
    "print('Const. RF.:\\n', confusion_matrix(y, pred3))"
   ]
  },
  {
   "cell_type": "code",
   "execution_count": 58,
   "id": "c5142680",
   "metadata": {},
   "outputs": [
    {
     "name": "stdout",
     "output_type": "stream",
     "text": [
      "KNN:\n",
      " [[46  3]\n",
      " [ 3 48]]\n"
     ]
    }
   ],
   "source": [
    "print('KNN:\\n', confusion_matrix(y, pred4))"
   ]
  },
  {
   "cell_type": "code",
   "execution_count": 59,
   "id": "f3e1f25f",
   "metadata": {},
   "outputs": [
    {
     "data": {
      "image/png": "[encoded data removed]",
      "text/plain": [
       "<Figure size 432x432 with 2 Axes>"
      ]
     },
     "metadata": {},
     "output_type": "display_data"
    }
   ],
   "source": [
    "from sklearn.metrics import plot_confusion_matrix\n",
    "fig = plt.figure(figsize=[6,6])\n",
    "ax = plt.subplot(111)\n",
    "cb = plot_confusion_matrix(knn_model, X, y, ax=ax,cmap='cividis') \n",
    "ax.grid()\n",
    "plt.show()"
   ]
  },
  {
   "cell_type": "markdown",
   "id": "2da18e20",
   "metadata": {},
   "source": [
    "Okay, this is more revealing about the performance of the individual model."
   ]
  },
  {
   "cell_type": "markdown",
   "id": "120f8025",
   "metadata": {},
   "source": [
    "### 2.3. Precision-Recall\n",
    "Precision and recall is another way of assessing the performance of a model."
   ]
  },
  {
   "cell_type": "code",
   "execution_count": 60,
   "id": "ac8fa4d5",
   "metadata": {},
   "outputs": [],
   "source": [
    "from sklearn.metrics import precision_recall_curve"
   ]
  },
  {
   "cell_type": "code",
   "execution_count": 61,
   "id": "94f80e3e",
   "metadata": {},
   "outputs": [
    {
     "name": "stdout",
     "output_type": "stream",
     "text": [
      "Log. Reg.:\n",
      " (array([0.51      , 0.92156863, 1.        ]), array([1.        , 0.92156863, 0.        ]), array([0, 1]))\n",
      "Random Forest:\n",
      " (array([1., 1.]), array([1., 0.]), array([1]))\n",
      "Const. RF.:\n",
      " (array([0.51      , 0.92156863, 1.        ]), array([1.        , 0.92156863, 0.        ]), array([0, 1]))\n",
      "KNN:\n",
      " (array([0.51      , 0.94117647, 1.        ]), array([1.        , 0.94117647, 0.        ]), array([0, 1]))\n"
     ]
    }
   ],
   "source": [
    "print('Log. Reg.:\\n', precision_recall_curve(y, pred))\n",
    "print('Random Forest:\\n',precision_recall_curve(y, pred2))\n",
    "print('Const. RF.:\\n', precision_recall_curve(y, pred3))\n",
    "print('KNN:\\n', precision_recall_curve(y, pred4))"
   ]
  },
  {
   "cell_type": "markdown",
   "id": "dbf3f298",
   "metadata": {},
   "source": [
    "Well, this didn't explain much."
   ]
  },
  {
   "cell_type": "code",
   "execution_count": 62,
   "id": "666d2bb5",
   "metadata": {},
   "outputs": [],
   "source": [
    "from sklearn.metrics import PrecisionRecallDisplay"
   ]
  },
  {
   "cell_type": "code",
   "execution_count": 63,
   "id": "3a0b500e",
   "metadata": {},
   "outputs": [
    {
     "data": {
      "text/plain": [
       "Text(0.5, 1.0, 'Log. Reg.')"
      ]
     },
     "execution_count": 63,
     "metadata": {},
     "output_type": "execute_result"
    },
    {
     "data": {
      "image/png": "[encoded data removed]",
      "text/plain": [
       "<Figure size 432x288 with 1 Axes>"
      ]
     },
     "metadata": {},
     "output_type": "display_data"
    }
   ],
   "source": [
    "precision, recall, thresholds = precision_recall_curve(y, pred)\n",
    "disp = PrecisionRecallDisplay(precision=precision, recall=recall)\n",
    "disp.plot()\n",
    "disp.ax_.set_title('Log. Reg.')"
   ]
  },
  {
   "cell_type": "code",
   "execution_count": 64,
   "id": "d8f4e3cb",
   "metadata": {},
   "outputs": [
    {
     "data": {
      "text/plain": [
       "array([0, 1])"
      ]
     },
     "execution_count": 64,
     "metadata": {},
     "output_type": "execute_result"
    }
   ],
   "source": [
    "thresholds"
   ]
  },
  {
   "cell_type": "code",
   "execution_count": 65,
   "id": "a20dfc8b",
   "metadata": {},
   "outputs": [
    {
     "data": {
      "text/plain": [
       "(0.0, 1.2)"
      ]
     },
     "execution_count": 65,
     "metadata": {},
     "output_type": "execute_result"
    },
    {
     "data": {
      "image/png": "[encoded data removed]",
      "text/plain": [
       "<Figure size 432x288 with 1 Axes>"
      ]
     },
     "metadata": {},
     "output_type": "display_data"
    }
   ],
   "source": [
    "precision, recall, thresholds = precision_recall_curve(y, pred)\n",
    "plt.title(\"Precision-Recall vs Threshold Chart\")\n",
    "plt.plot(thresholds, precision[: -1], \"bo\", label=\"Precision\")\n",
    "plt.plot(thresholds, recall[: -1], \"ro\", label=\"Recall\")\n",
    "plt.ylabel(\"Precision, Recall\")\n",
    "plt.xlabel(\"Threshold\")\n",
    "plt.legend(loc=\"lower left\")\n",
    "plt.ylim([0,1.2])"
   ]
  },
  {
   "cell_type": "code",
   "execution_count": 66,
   "id": "a66f5a50",
   "metadata": {},
   "outputs": [
    {
     "data": {
      "text/plain": [
       "Text(0.5, 1.0, 'RF')"
      ]
     },
     "execution_count": 66,
     "metadata": {},
     "output_type": "execute_result"
    },
    {
     "data": {
      "image/png": "[encoded data removed]",
      "text/plain": [
       "<Figure size 432x288 with 1 Axes>"
      ]
     },
     "metadata": {},
     "output_type": "display_data"
    }
   ],
   "source": [
    "precision, recall, _ = precision_recall_curve(y, pred2)\n",
    "disp = PrecisionRecallDisplay(precision=precision, recall=recall)\n",
    "disp.plot()\n",
    "disp.ax_.set_title('RF')"
   ]
  },
  {
   "cell_type": "code",
   "execution_count": 67,
   "id": "9ee8b1b8",
   "metadata": {},
   "outputs": [
    {
     "data": {
      "text/plain": [
       "Text(0.5, 1.0, 'Constrained RF')"
      ]
     },
     "execution_count": 67,
     "metadata": {},
     "output_type": "execute_result"
    },
    {
     "data": {
      "image/png": "[encoded data removed]",
      "text/plain": [
       "<Figure size 432x288 with 1 Axes>"
      ]
     },
     "metadata": {},
     "output_type": "display_data"
    }
   ],
   "source": [
    "precision, recall, _ = precision_recall_curve(y, pred3)\n",
    "disp = PrecisionRecallDisplay(precision=precision, recall=recall)\n",
    "disp.plot()\n",
    "disp.ax_.set_title('Constrained RF')"
   ]
  },
  {
   "cell_type": "code",
   "execution_count": 68,
   "id": "7b675a9b",
   "metadata": {},
   "outputs": [
    {
     "data": {
      "text/plain": [
       "Text(0.5, 1.0, 'KNN')"
      ]
     },
     "execution_count": 68,
     "metadata": {},
     "output_type": "execute_result"
    },
    {
     "data": {
      "image/png": "[encoded data removed]",
      "text/plain": [
       "<Figure size 432x288 with 1 Axes>"
      ]
     },
     "metadata": {},
     "output_type": "display_data"
    }
   ],
   "source": [
    "precision, recall, _ = precision_recall_curve(y, pred4)\n",
    "disp = PrecisionRecallDisplay(precision=precision, recall=recall)\n",
    "disp.plot()\n",
    "disp.ax_.set_title('KNN')"
   ]
  },
  {
   "cell_type": "markdown",
   "id": "78e3f1d7",
   "metadata": {},
   "source": [
    "Now we know! Unconstrained Random Forest is overfitting."
   ]
  },
  {
   "cell_type": "markdown",
   "id": "ea25a87e",
   "metadata": {},
   "source": [
    "### 2.4. ROC Curve\n",
    "The last performance metric for classifications we wil learn in class today is the ROC curves. This is also very popular among data scientists."
   ]
  },
  {
   "cell_type": "code",
   "execution_count": 69,
   "id": "6bea46f3",
   "metadata": {},
   "outputs": [],
   "source": [
    "from sklearn.metrics import roc_curve, roc_auc_score"
   ]
  },
  {
   "cell_type": "code",
   "execution_count": 70,
   "id": "e1e107f2",
   "metadata": {},
   "outputs": [],
   "source": [
    "# Calculate ROC curve from y and predictions\n",
    "fpr, tpr, thresholds = roc_curve(y, pred)\n",
    "lr_df = pd.DataFrame({'FPR': fpr, 'TPR' : tpr, 'Thresholds' : thresholds})"
   ]
  },
  {
   "cell_type": "code",
   "execution_count": 71,
   "id": "eb7fea2d",
   "metadata": {},
   "outputs": [],
   "source": [
    "fpr, tpr, thresholds = roc_curve(y, pred2)\n",
    "rf_df = pd.DataFrame({'FPR': fpr, 'TPR' : tpr, 'Thresholds' : thresholds})"
   ]
  },
  {
   "cell_type": "code",
   "execution_count": 72,
   "id": "14d5dc5d",
   "metadata": {},
   "outputs": [],
   "source": [
    "fpr, tpr, thresholds = roc_curve(y, pred3)\n",
    "crf_df = pd.DataFrame({'FPR': fpr, 'TPR' : tpr, 'Thresholds' : thresholds})"
   ]
  },
  {
   "cell_type": "code",
   "execution_count": 73,
   "id": "87dfa63e",
   "metadata": {},
   "outputs": [],
   "source": [
    "fpr, tpr, thresholds = roc_curve(y, pred4)\n",
    "knn_df = pd.DataFrame({'FPR': fpr, 'TPR' : tpr, 'Thresholds' : thresholds})"
   ]
  },
  {
   "cell_type": "code",
   "execution_count": 74,
   "id": "9f0d8c92",
   "metadata": {},
   "outputs": [
    {
     "data": {
      "text/html": [
       "<div>\n",
       "<style scoped>\n",
       "    .dataframe tbody tr th:only-of-type {\n",
       "        vertical-align: middle;\n",
       "    }\n",
       "\n",
       "    .dataframe tbody tr th {\n",
       "        vertical-align: top;\n",
       "    }\n",
       "\n",
       "    .dataframe thead th {\n",
       "        text-align: right;\n",
       "    }\n",
       "</style>\n",
       "<table border=\"1\" class=\"dataframe\">\n",
       "  <thead>\n",
       "    <tr style=\"text-align: right;\">\n",
       "      <th></th>\n",
       "      <th>FPR</th>\n",
       "      <th>TPR</th>\n",
       "      <th>Thresholds</th>\n",
       "    </tr>\n",
       "  </thead>\n",
       "  <tbody>\n",
       "    <tr>\n",
       "      <th>0</th>\n",
       "      <td>0.000000</td>\n",
       "      <td>0.000000</td>\n",
       "      <td>2</td>\n",
       "    </tr>\n",
       "    <tr>\n",
       "      <th>1</th>\n",
       "      <td>0.081633</td>\n",
       "      <td>0.921569</td>\n",
       "      <td>1</td>\n",
       "    </tr>\n",
       "    <tr>\n",
       "      <th>2</th>\n",
       "      <td>1.000000</td>\n",
       "      <td>1.000000</td>\n",
       "      <td>0</td>\n",
       "    </tr>\n",
       "  </tbody>\n",
       "</table>\n",
       "</div>"
      ],
      "text/plain": [
       "        FPR       TPR  Thresholds\n",
       "0  0.000000  0.000000           2\n",
       "1  0.081633  0.921569           1\n",
       "2  1.000000  1.000000           0"
      ]
     },
     "execution_count": 74,
     "metadata": {},
     "output_type": "execute_result"
    }
   ],
   "source": [
    "lr_df.head()"
   ]
  },
  {
   "cell_type": "code",
   "execution_count": 75,
   "id": "70366ab8",
   "metadata": {},
   "outputs": [
    {
     "data": {
      "image/png": "[encoded data removed]",
      "text/plain": [
       "<Figure size 576x432 with 1 Axes>"
      ]
     },
     "metadata": {},
     "output_type": "display_data"
    }
   ],
   "source": [
    "fig = plt.figure(figsize=(8,6))\n",
    "\n",
    "ax = plt.subplot(111)\n",
    "ax.plot(lr_df.FPR, lr_df.TPR, color='darkorange',\n",
    "         linewidth=2, label='Log. Reg. AUROC = {:0.2f}'.format(roc_auc_score(y, pred)))\n",
    "ax.plot(rf_df.FPR, rf_df.TPR, color='firebrick',\n",
    "         linewidth=2, label='RF AUROC = {:0.2f}'.format(roc_auc_score(y, pred2)))\n",
    "ax.plot(crf_df.FPR, crf_df.TPR, color='forestgreen', linestyle='--', \n",
    "         linewidth=2, label='CRF AUROC = {:0.2f}'.format(roc_auc_score(y, pred3)))\n",
    "ax.plot(knn_df.FPR, knn_df.TPR, color='navy',\n",
    "         linewidth=2, label='KNN AUROC = {:0.2f}'.format(roc_auc_score(y, pred4)))\n",
    "\n",
    "ax.plot([0, 1], [0, 1], color='k', lw=2, linestyle='--')\n",
    "ax.set_xlim([-0.1, 1.0])\n",
    "ax.set_ylim([0.0, 1.05])\n",
    "ax.set_xlabel('False Positive Rate')\n",
    "ax.set_ylabel('True Positive Rate')\n",
    "plt.title('Receiver operating characteristic example')\n",
    "ax.legend(loc=\"lower right\")\n",
    "plt.show()"
   ]
  },
  {
   "cell_type": "markdown",
   "id": "a0735b59",
   "metadata": {},
   "source": [
    "👏 Congratulations, you have completed the Classification Workbook!"
   ]
  },
  {
   "cell_type": "code",
   "execution_count": null,
   "id": "afcddc6e",
   "metadata": {},
   "outputs": [],
   "source": []
  }
 ],
 "metadata": {
  "kernelspec": {
   "display_name": "Python 3 (ipykernel)",
   "language": "python",
   "name": "python3"
  },
  "language_info": {
   "codemirror_mode": {
    "name": "ipython",
    "version": 3
   },
   "file_extension": ".py",
   "mimetype": "text/x-python",
   "name": "python",
   "nbconvert_exporter": "python",
   "pygments_lexer": "ipython3",
   "version": "3.8.2"
  }
 },
 "nbformat": 4,
 "nbformat_minor": 5
}
