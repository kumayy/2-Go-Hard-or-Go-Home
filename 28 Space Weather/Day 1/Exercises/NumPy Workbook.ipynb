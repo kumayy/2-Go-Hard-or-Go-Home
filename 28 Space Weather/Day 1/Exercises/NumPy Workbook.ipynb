{
 "cells": [
  {
   "cell_type": "markdown",
   "metadata": {},
   "source": [
    "# NumPy Workbook\n",
    "Welcome to the NumPy Workbook. Let's start with importing the NumPy library."
   ]
  },
  {
   "cell_type": "code",
   "execution_count": 1,
   "metadata": {},
   "outputs": [],
   "source": [
    "import numpy as np"
   ]
  },
  {
   "cell_type": "markdown",
   "metadata": {},
   "source": [
    "## 1.NumPy Arrays"
   ]
  },
  {
   "cell_type": "markdown",
   "metadata": {},
   "source": [
    "Let's start with defining a NumPy array."
   ]
  },
  {
   "cell_type": "code",
   "execution_count": 2,
   "metadata": {},
   "outputs": [],
   "source": [
    "array_a = np.array([1,2,3,4])"
   ]
  },
  {
   "cell_type": "code",
   "execution_count": 3,
   "metadata": {},
   "outputs": [
    {
     "name": "stdout",
     "output_type": "stream",
     "text": [
      "[1 2 3 4]\n"
     ]
    }
   ],
   "source": [
    "print(array_a)"
   ]
  },
  {
   "cell_type": "markdown",
   "metadata": {},
   "source": [
    "It is important to note that we have used square brackets inside the paranthesis to define the elements of the array."
   ]
  },
  {
   "cell_type": "code",
   "execution_count": 4,
   "metadata": {},
   "outputs": [],
   "source": [
    "array_b = np.array([[1,2,3,4], [5,6,7,8]])"
   ]
  },
  {
   "cell_type": "code",
   "execution_count": 5,
   "metadata": {},
   "outputs": [
    {
     "name": "stdout",
     "output_type": "stream",
     "text": [
      "[[1 2 3 4]\n",
      " [5 6 7 8]]\n"
     ]
    }
   ],
   "source": [
    "print(array_b)"
   ]
  },
  {
   "cell_type": "markdown",
   "metadata": {},
   "source": [
    "Let's explore a few of the functionality with these arrays."
   ]
  },
  {
   "cell_type": "markdown",
   "metadata": {},
   "source": [
    "#### Using print and type functionalities."
   ]
  },
  {
   "cell_type": "code",
   "execution_count": 6,
   "metadata": {},
   "outputs": [
    {
     "name": "stdout",
     "output_type": "stream",
     "text": [
      "Type of array_a is:  <class 'numpy.ndarray'>\n"
     ]
    }
   ],
   "source": [
    "print('Type of array_a is: ', type(array_a))"
   ]
  },
  {
   "cell_type": "code",
   "execution_count": 7,
   "metadata": {},
   "outputs": [
    {
     "name": "stdout",
     "output_type": "stream",
     "text": [
      "Type of array_b is:  <class 'numpy.ndarray'>\n"
     ]
    }
   ],
   "source": [
    "print('Type of array_b is: ', type(array_b))"
   ]
  },
  {
   "cell_type": "markdown",
   "metadata": {},
   "source": [
    "#### Using the size, shape, ndim, len functionalities."
   ]
  },
  {
   "cell_type": "code",
   "execution_count": 8,
   "metadata": {},
   "outputs": [
    {
     "name": "stdout",
     "output_type": "stream",
     "text": [
      "Size of array_a is:  4\n"
     ]
    }
   ],
   "source": [
    "print('Size of array_a is: ',array_a.size)"
   ]
  },
  {
   "cell_type": "code",
   "execution_count": 9,
   "metadata": {},
   "outputs": [
    {
     "name": "stdout",
     "output_type": "stream",
     "text": [
      "Size of array_b is:  8\n"
     ]
    }
   ],
   "source": [
    "print('Size of array_b is: ', array_b.size)"
   ]
  },
  {
   "cell_type": "code",
   "execution_count": 10,
   "metadata": {},
   "outputs": [
    {
     "name": "stdout",
     "output_type": "stream",
     "text": [
      "Shape of array_a is:  (4,)\n"
     ]
    }
   ],
   "source": [
    "print('Shape of array_a is: ', array_a.shape)"
   ]
  },
  {
   "cell_type": "code",
   "execution_count": 11,
   "metadata": {},
   "outputs": [
    {
     "name": "stdout",
     "output_type": "stream",
     "text": [
      "Shape of array_b is:  (2, 4)\n"
     ]
    }
   ],
   "source": [
    "print('Shape of array_b is: ', array_b.shape)"
   ]
  },
  {
   "cell_type": "code",
   "execution_count": 12,
   "metadata": {},
   "outputs": [
    {
     "name": "stdout",
     "output_type": "stream",
     "text": [
      "Dimensions of array_a are:  1\n"
     ]
    }
   ],
   "source": [
    "print('Dimensions of array_a are: ', array_a.ndim)"
   ]
  },
  {
   "cell_type": "code",
   "execution_count": 13,
   "metadata": {},
   "outputs": [
    {
     "name": "stdout",
     "output_type": "stream",
     "text": [
      "Dimensions of array_b are:  2\n"
     ]
    }
   ],
   "source": [
    "print('Dimensions of array_b are: ', array_b.ndim)"
   ]
  },
  {
   "cell_type": "code",
   "execution_count": 14,
   "metadata": {},
   "outputs": [
    {
     "name": "stdout",
     "output_type": "stream",
     "text": [
      "Length of array_a is:  4\n"
     ]
    }
   ],
   "source": [
    "print('Length of array_a is: ', len(array_a))"
   ]
  },
  {
   "cell_type": "code",
   "execution_count": 15,
   "metadata": {},
   "outputs": [
    {
     "name": "stdout",
     "output_type": "stream",
     "text": [
      "Length of array_b is:  2\n"
     ]
    }
   ],
   "source": [
    "print('Length of array_b is: ', len(array_b))"
   ]
  },
  {
   "cell_type": "markdown",
   "metadata": {},
   "source": [
    "'len' function returned only the first dimension!"
   ]
  },
  {
   "cell_type": "markdown",
   "metadata": {},
   "source": [
    "#### Understanding the index."
   ]
  },
  {
   "cell_type": "markdown",
   "metadata": {},
   "source": [
    "Python uses 0 based indexing. Let's go through the exercises below to understand items and indices."
   ]
  },
  {
   "cell_type": "code",
   "execution_count": 16,
   "metadata": {},
   "outputs": [
    {
     "name": "stdout",
     "output_type": "stream",
     "text": [
      "Array_a is: \n",
      " [1 2 3 4]\n"
     ]
    }
   ],
   "source": [
    "print('Array_a is: \\n', array_a)"
   ]
  },
  {
   "cell_type": "code",
   "execution_count": 17,
   "metadata": {},
   "outputs": [
    {
     "name": "stdout",
     "output_type": "stream",
     "text": [
      "Array_b is: \n",
      " [[1 2 3 4]\n",
      " [5 6 7 8]]\n"
     ]
    }
   ],
   "source": [
    "print('Array_b is: \\n', array_b)"
   ]
  },
  {
   "cell_type": "code",
   "execution_count": 18,
   "metadata": {},
   "outputs": [
    {
     "name": "stdout",
     "output_type": "stream",
     "text": [
      "Index 1 of array_a is:  2\n"
     ]
    }
   ],
   "source": [
    "print('Index 1 of array_a is: ', array_a[1])"
   ]
  },
  {
   "cell_type": "code",
   "execution_count": 19,
   "metadata": {},
   "outputs": [
    {
     "name": "stdout",
     "output_type": "stream",
     "text": [
      "Index 0 of array_a is:  1\n"
     ]
    }
   ],
   "source": [
    "print('Index 0 of array_a is: ', array_a[0])"
   ]
  },
  {
   "cell_type": "code",
   "execution_count": 20,
   "metadata": {
    "scrolled": true
   },
   "outputs": [
    {
     "ename": "IndexError",
     "evalue": "index 4 is out of bounds for axis 0 with size 4",
     "output_type": "error",
     "traceback": [
      "\u001b[0;31m---------------------------------------------------------------------------\u001b[0m",
      "\u001b[0;31mIndexError\u001b[0m                                Traceback (most recent call last)",
      "Input \u001b[0;32mIn [20]\u001b[0m, in \u001b[0;36m<cell line: 1>\u001b[0;34m()\u001b[0m\n\u001b[0;32m----> 1\u001b[0m \u001b[38;5;28mprint\u001b[39m(\u001b[38;5;124m'\u001b[39m\u001b[38;5;124mIndex 4 of array_a is: \u001b[39m\u001b[38;5;124m'\u001b[39m, \u001b[43marray_a\u001b[49m\u001b[43m[\u001b[49m\u001b[38;5;241;43m4\u001b[39;49m\u001b[43m]\u001b[49m)\n",
      "\u001b[0;31mIndexError\u001b[0m: index 4 is out of bounds for axis 0 with size 4"
     ]
    }
   ],
   "source": [
    "print('Index 4 of array_a is: ', array_a[4])"
   ]
  },
  {
   "cell_type": "code",
   "execution_count": 21,
   "metadata": {},
   "outputs": [
    {
     "name": "stdout",
     "output_type": "stream",
     "text": [
      "Index 3 of array_a is:  4\n"
     ]
    }
   ],
   "source": [
    "print('Index 3 of array_a is: ', array_a[3])"
   ]
  },
  {
   "cell_type": "code",
   "execution_count": 22,
   "metadata": {},
   "outputs": [
    {
     "name": "stdout",
     "output_type": "stream",
     "text": [
      "Last item of array_a is:  4\n"
     ]
    }
   ],
   "source": [
    "print('Last item of array_a is: ', array_a[-1])"
   ]
  },
  {
   "cell_type": "code",
   "execution_count": 23,
   "metadata": {},
   "outputs": [
    {
     "ename": "IndexError",
     "evalue": "index 4 is out of bounds for axis 0 with size 2",
     "output_type": "error",
     "traceback": [
      "\u001b[0;31m---------------------------------------------------------------------------\u001b[0m",
      "\u001b[0;31mIndexError\u001b[0m                                Traceback (most recent call last)",
      "Input \u001b[0;32mIn [23]\u001b[0m, in \u001b[0;36m<cell line: 1>\u001b[0;34m()\u001b[0m\n\u001b[0;32m----> 1\u001b[0m \u001b[38;5;28mprint\u001b[39m(\u001b[38;5;124m'\u001b[39m\u001b[38;5;124mIndex 4 of array_b is: \u001b[39m\u001b[38;5;124m'\u001b[39m, \u001b[43marray_b\u001b[49m\u001b[43m[\u001b[49m\u001b[38;5;241;43m4\u001b[39;49m\u001b[43m]\u001b[49m)\n",
      "\u001b[0;31mIndexError\u001b[0m: index 4 is out of bounds for axis 0 with size 2"
     ]
    }
   ],
   "source": [
    "print('Index 4 of array_b is: ', array_b[4])"
   ]
  },
  {
   "cell_type": "code",
   "execution_count": 24,
   "metadata": {},
   "outputs": [
    {
     "name": "stdout",
     "output_type": "stream",
     "text": [
      "4th item of array_b is:  4\n"
     ]
    }
   ],
   "source": [
    "print('4th item of array_b is: ', array_b[0,3])"
   ]
  },
  {
   "cell_type": "code",
   "execution_count": 25,
   "metadata": {},
   "outputs": [
    {
     "name": "stdout",
     "output_type": "stream",
     "text": [
      "4th item of array_b is:  4\n"
     ]
    }
   ],
   "source": [
    "print('4th item of array_b is: ', array_b[0,-1])"
   ]
  },
  {
   "cell_type": "code",
   "execution_count": 26,
   "metadata": {},
   "outputs": [
    {
     "name": "stdout",
     "output_type": "stream",
     "text": [
      "6th item of array_b is:  6\n"
     ]
    }
   ],
   "source": [
    "print('6th item of array_b is: ', array_b[1,1])"
   ]
  },
  {
   "cell_type": "markdown",
   "metadata": {},
   "source": [
    "### Creating NumPy arrays."
   ]
  },
  {
   "cell_type": "code",
   "execution_count": 28,
   "metadata": {},
   "outputs": [
    {
     "name": "stdout",
     "output_type": "stream",
     "text": [
      "array_zeros is: \n",
      " [0. 0. 0. 0. 0.]\n",
      "Shape of array_zeros is:  (5,)\n",
      "Size of array_zeros is:  5\n",
      "Dimensions of array_zeros is:  1\n",
      "Length of array_zeros is:  5\n"
     ]
    }
   ],
   "source": [
    "# Create an array of shape 5,1 with zeros.\n",
    "array_zeros = np.zeros(5)\n",
    "print('array_zeros is: \\n', array_zeros)\n",
    "print('Shape of array_zeros is: ', array_zeros.shape)\n",
    "print('Size of array_zeros is: ', array_zeros.size)\n",
    "print('Dimensions of array_zeros is: ', array_zeros.ndim)\n",
    "print('Length of array_zeros is: ', len(array_zeros))"
   ]
  },
  {
   "cell_type": "code",
   "execution_count": 30,
   "metadata": {},
   "outputs": [
    {
     "name": "stdout",
     "output_type": "stream",
     "text": [
      "array_ones is: \n",
      " [[1. 1.]\n",
      " [1. 1.]\n",
      " [1. 1.]\n",
      " [1. 1.]\n",
      " [1. 1.]]\n",
      "Shape of array_ones is:  (5, 2)\n",
      "Size of array_ones is:  10\n",
      "Dimensions of array_ones is:  2\n",
      "Length of array_ones is:  5\n"
     ]
    }
   ],
   "source": [
    "# Create an array of shape 5,2 with ones.\n",
    "array_ones = np.ones([5,2])\n",
    "print('array_ones is: \\n', array_ones)\n",
    "print('Shape of array_ones is: ', array_ones.shape)\n",
    "print('Size of array_ones is: ', array_ones.size)\n",
    "print('Dimensions of array_ones is: ', array_ones.ndim)\n",
    "print('Length of array_ones is: ', len(array_ones))"
   ]
  },
  {
   "cell_type": "code",
   "execution_count": 31,
   "metadata": {},
   "outputs": [
    {
     "name": "stdout",
     "output_type": "stream",
     "text": [
      "array_empty is: \n",
      " [[[2.00000000e+000 1.29073959e-231 9.38724727e-323]\n",
      "  [0.00000000e+000 0.00000000e+000 5.02034658e+175]]\n",
      "\n",
      " [[1.36949091e-071 1.13070363e-042 1.12159792e-047]\n",
      "  [7.24780137e-042 8.23824047e-043 5.19439565e-144]]\n",
      "\n",
      " [[3.59751658e+252 1.46901661e+179 8.37404147e+242]\n",
      "  [2.59027926e-144 3.80985069e+180 5.70895899e+281]]\n",
      "\n",
      " [[2.59027912e-144 7.79952704e-143 9.91604872e+164]\n",
      "  [2.00562045e-076 4.27345210e-033 1.32390754e-071]]\n",
      "\n",
      " [[2.59027860e-144 2.59903818e-144 5.88728852e-091]\n",
      "  [6.76092015e-067 2.31738028e-052 1.11475752e+261]]]\n",
      "Shape of array_empty is:  (5, 2, 3)\n",
      "Size of array_empty is:  30\n",
      "Dimensions of array_empty is:  3\n"
     ]
    }
   ],
   "source": [
    "# Create an empty array of shape 5,2,3.\n",
    "array_empty = np.empty([5,2,3])\n",
    "print('array_empty is: \\n', array_empty)\n",
    "print('Shape of array_empty is: ', array_empty.shape)\n",
    "print('Size of array_empty is: ', array_empty.size)\n",
    "print('Dimensions of array_empty is: ', array_empty.ndim)"
   ]
  },
  {
   "cell_type": "markdown",
   "metadata": {},
   "source": [
    "We can also create an array in a range of evenly spaced intervals with the arange function. aranged_array = np.arange(first number, last number, step size). Let's go:"
   ]
  },
  {
   "cell_type": "code",
   "execution_count": 32,
   "metadata": {
    "scrolled": true
   },
   "outputs": [
    {
     "name": "stdout",
     "output_type": "stream",
     "text": [
      "The aranged_array is:  [ 0  3  6  9 12 15 18 21]\n",
      "The shape of the aranged_array is:  (8,)\n"
     ]
    }
   ],
   "source": [
    "# Create an array from 0 to 22, with increments of 3.\n",
    "aranged_array = np.arange(0, 22, 3)\n",
    "print('The aranged_array is: ', aranged_array)\n",
    "print('The shape of the aranged_array is: ', aranged_array.shape)"
   ]
  },
  {
   "cell_type": "markdown",
   "metadata": {},
   "source": [
    "Similarly, we can create linearly spaced arrays using linspace function. spaced_array = np.linspace(first number, last number, number of intervals)."
   ]
  },
  {
   "cell_type": "code",
   "execution_count": 33,
   "metadata": {},
   "outputs": [
    {
     "name": "stdout",
     "output_type": "stream",
     "text": [
      "The spaced_array is: \n",
      " [ 0.  3.  6.  9. 12. 15. 18. 21.]\n",
      "The shape of the spaced_array is:  (8,)\n"
     ]
    }
   ],
   "source": [
    "# Create an array from 0 to 21, with 7 intervals.\n",
    "spaced_array = np.linspace(0, 21, 8)\n",
    "print('The spaced_array is: \\n', spaced_array)\n",
    "print('The shape of the spaced_array is: ',spaced_array.shape)"
   ]
  },
  {
   "cell_type": "markdown",
   "metadata": {},
   "source": [
    "We can also reshape the arrays using .transpose() and .reshape() function."
   ]
  },
  {
   "cell_type": "code",
   "execution_count": 34,
   "metadata": {},
   "outputs": [
    {
     "name": "stdout",
     "output_type": "stream",
     "text": [
      "The spaced_array is: \n",
      " [ 0.  3.  6.  9. 12. 15. 18. 21.]\n",
      "The shape of the spaced_array is:  (8,)\n",
      "The spaced_array_transpose is: \n",
      " [ 0.  3.  6.  9. 12. 15. 18. 21.]\n",
      "The shape of the spaced_array_transpose is:  (8,)\n"
     ]
    }
   ],
   "source": [
    "spaced_array_transpose = spaced_array.transpose()\n",
    "print('The spaced_array is: \\n', spaced_array)\n",
    "print('The shape of the spaced_array is: ',spaced_array.shape)\n",
    "print('The spaced_array_transpose is: \\n', spaced_array_transpose)\n",
    "print('The shape of the spaced_array_transpose is: ',spaced_array_transpose.shape)"
   ]
  },
  {
   "cell_type": "code",
   "execution_count": 35,
   "metadata": {},
   "outputs": [
    {
     "name": "stdout",
     "output_type": "stream",
     "text": [
      "The spaced_array_reversed is: \n",
      " [[ 0.  3.  6.  9. 12. 15. 18. 21.]]\n",
      "The shape of the spaced_array_reversed is:  (1, 8)\n"
     ]
    }
   ],
   "source": [
    "spaced_array_reversed = np.reshape(spaced_array, newshape=(1, len(spaced_array)))\n",
    "print('The spaced_array_reversed is: \\n', spaced_array_reversed)\n",
    "print('The shape of the spaced_array_reversed is: ',spaced_array_reversed.shape)"
   ]
  },
  {
   "cell_type": "code",
   "execution_count": 36,
   "metadata": {},
   "outputs": [
    {
     "name": "stdout",
     "output_type": "stream",
     "text": [
      "The spaced_array_reshaped is: \n",
      " [[ 0.  3.  6.  9.]\n",
      " [12. 15. 18. 21.]]\n",
      "The shape of the spaced_array_reshaped is:  (2, 4)\n"
     ]
    }
   ],
   "source": [
    "spaced_array_reshaped = np.reshape(spaced_array, newshape=(2, 4))\n",
    "print('The spaced_array_reshaped is: \\n', spaced_array_reshaped)\n",
    "print('The shape of the spaced_array_reshaped is: ',spaced_array_reshaped.shape)"
   ]
  },
  {
   "cell_type": "code",
   "execution_count": 37,
   "metadata": {},
   "outputs": [
    {
     "name": "stdout",
     "output_type": "stream",
     "text": [
      "The spaced_array_reshaped_transpose is: \n",
      " [[ 0. 12.]\n",
      " [ 3. 15.]\n",
      " [ 6. 18.]\n",
      " [ 9. 21.]]\n",
      "The shape of the spaced_array_reshaped_transpose is:  (4, 2)\n"
     ]
    }
   ],
   "source": [
    "spaced_array_reshaped_transpose = np.reshape(spaced_array, newshape=(2, 4)).transpose()\n",
    "print('The spaced_array_reshaped_transpose is: \\n', spaced_array_reshaped_transpose)\n",
    "print('The shape of the spaced_array_reshaped_transpose is: ',spaced_array_reshaped_transpose.shape)"
   ]
  },
  {
   "cell_type": "markdown",
   "metadata": {},
   "source": [
    "## 2.Basic NumPy Functions"
   ]
  },
  {
   "cell_type": "code",
   "execution_count": 38,
   "metadata": {},
   "outputs": [
    {
     "name": "stdout",
     "output_type": "stream",
     "text": [
      "Sample array is: \n",
      " [[  0.   5.  10.  15.  20.  25.  30.]\n",
      " [ 35.  40.  45.  50.  55.  60.  65.]\n",
      " [ 70.  75.  80.  85.  90.  95. 100.]]\n",
      "Min value of sample array is:  0.0\n",
      "Max value of sample array is:  100.0\n",
      "Mean value of sample array is:  50.0\n",
      "Sum of sample array values is:  1050.0\n"
     ]
    }
   ],
   "source": [
    "# Min, Max, Mean, Sum can be calculated easily.\n",
    "sample_array = np.linspace(0,100,21).reshape(3,7)\n",
    "print('Sample array is: \\n', sample_array)\n",
    "print('Min value of sample array is: ', sample_array.min())\n",
    "print('Max value of sample array is: ', sample_array.max())\n",
    "print('Mean value of sample array is: ', sample_array.mean())\n",
    "print('Sum of sample array values is: ', sample_array.sum())"
   ]
  },
  {
   "cell_type": "code",
   "execution_count": 39,
   "metadata": {},
   "outputs": [
    {
     "name": "stdout",
     "output_type": "stream",
     "text": [
      "Second row of sample array is: \n",
      " [35. 40. 45. 50. 55. 60. 65.]\n"
     ]
    }
   ],
   "source": [
    "# Certain elements of an array can be accessd with \"slicing\".\n",
    "print('Second row of sample array is: \\n', sample_array[1,:])"
   ]
  },
  {
   "cell_type": "markdown",
   "metadata": {},
   "source": [
    "## 3.Custom Functions with NumPy"
   ]
  },
  {
   "cell_type": "code",
   "execution_count": 40,
   "metadata": {},
   "outputs": [],
   "source": [
    "### Custom Functions can be built with the following structure:\n",
    "\n",
    "def my_function(input):\n",
    "    output = input*2 + 1\n",
    "    return output"
   ]
  },
  {
   "cell_type": "code",
   "execution_count": 41,
   "metadata": {},
   "outputs": [
    {
     "name": "stdout",
     "output_type": "stream",
     "text": [
      "11\n"
     ]
    }
   ],
   "source": [
    "a = 5\n",
    "b = my_function(a)\n",
    "\n",
    "print(b)"
   ]
  },
  {
   "cell_type": "markdown",
   "metadata": {},
   "source": [
    "#### For Loops"
   ]
  },
  {
   "cell_type": "markdown",
   "metadata": {},
   "source": [
    "The elements of an array can be called separately through an iterative loop."
   ]
  },
  {
   "cell_type": "code",
   "execution_count": 42,
   "metadata": {},
   "outputs": [
    {
     "name": "stdout",
     "output_type": "stream",
     "text": [
      "Sample array is : \n",
      " [ 0  5 10 15]\n"
     ]
    }
   ],
   "source": [
    "sample_array = np.arange(0,20,5)\n",
    "print('Sample array is : \\n', sample_array)"
   ]
  },
  {
   "cell_type": "markdown",
   "metadata": {},
   "source": [
    "How will we access each element on this array? There are two ways, we can directly call elements in an array or call the index of elements. Check out these two codes and see what is different.\n"
   ]
  },
  {
   "cell_type": "code",
   "execution_count": 43,
   "metadata": {},
   "outputs": [
    {
     "name": "stdout",
     "output_type": "stream",
     "text": [
      "0\n",
      "5\n",
      "10\n",
      "15\n"
     ]
    }
   ],
   "source": [
    "for item in (sample_array):\n",
    "    print(item)"
   ]
  },
  {
   "cell_type": "code",
   "execution_count": 44,
   "metadata": {},
   "outputs": [
    {
     "name": "stdout",
     "output_type": "stream",
     "text": [
      "l\n",
      "e\n",
      "a\n",
      "r\n",
      "n\n",
      "i\n",
      "n\n",
      "g\n"
     ]
    }
   ],
   "source": [
    "for character in 'learning':\n",
    "    print(character)"
   ]
  },
  {
   "cell_type": "code",
   "execution_count": 46,
   "metadata": {},
   "outputs": [
    {
     "name": "stdout",
     "output_type": "stream",
     "text": [
      "0 th element of the sample array is:  0\n",
      "1 th element of the sample array is:  5\n",
      "2 th element of the sample array is:  10\n",
      "3 th element of the sample array is:  15\n"
     ]
    }
   ],
   "source": [
    "for i in range(len(sample_array)): \n",
    "    print(i,'th element of the sample array is: ', sample_array[i])"
   ]
  },
  {
   "cell_type": "markdown",
   "metadata": {},
   "source": [
    "We can also perform computations on the sample array and store the new values to a new NumPy array."
   ]
  },
  {
   "cell_type": "code",
   "execution_count": 47,
   "metadata": {},
   "outputs": [],
   "source": [
    "# First, let's create a new array of zeros, with the same length of sample_array.\n",
    "new_array = np.zeros(len(sample_array))"
   ]
  },
  {
   "cell_type": "code",
   "execution_count": 48,
   "metadata": {},
   "outputs": [],
   "source": [
    "for i in range(len(sample_array)):\n",
    "    new_array[i] = my_function(sample_array[i])"
   ]
  },
  {
   "cell_type": "code",
   "execution_count": 49,
   "metadata": {},
   "outputs": [
    {
     "name": "stdout",
     "output_type": "stream",
     "text": [
      "The values of new array are: \n",
      " [ 1. 11. 21. 31.]\n"
     ]
    }
   ],
   "source": [
    "print('The values of new array are: \\n', new_array)"
   ]
  },
  {
   "cell_type": "markdown",
   "metadata": {},
   "source": [
    "#### if/else/elif statements <br>\n",
    "Another important computational tool is decision making. We can use if, else, and elif statement in Python to make logic based selections. "
   ]
  },
  {
   "cell_type": "code",
   "execution_count": 51,
   "metadata": {},
   "outputs": [
    {
     "name": "stdout",
     "output_type": "stream",
     "text": [
      " a>=b:  True \n",
      " b<a:  True \n",
      " a==b:  False \n",
      " a==c:  True \n",
      " a!=b:  True \n",
      " a!=c:  False\n"
     ]
    }
   ],
   "source": [
    "a = 100\n",
    "b = 50\n",
    "c = 100\n",
    "\n",
    "print(' a>=b: ', a>=b, '\\n', 'b<a: ', b<=a, '\\n', 'a==b: ', a==b, '\\n', 'a==c: ', a==c, '\\n', 'a!=b: ', a!=b, '\\n', 'a!=c: ', a!=c)"
   ]
  },
  {
   "cell_type": "markdown",
   "metadata": {},
   "source": [
    "For example, let's start with a discrete function, where:\n",
    "$$ y(x) = 10x-1, x \\gt 0 $$\n",
    "$$ y(x) = 1, x = 0 $$\n",
    "$$ y(x) = 2x/5, x \\lt 0 $$ <br>\n",
    "\n",
    "We can write this in Python as follows:"
   ]
  },
  {
   "cell_type": "code",
   "execution_count": 52,
   "metadata": {},
   "outputs": [],
   "source": [
    "def function1_for_y(x):\n",
    "    if (x > 0):\n",
    "        y = 10.*x - 1\n",
    "    if (x == 0):\n",
    "        y = 1.\n",
    "    if (x < 0):\n",
    "        y = 2.*x/5.\n",
    "        \n",
    "    return y"
   ]
  },
  {
   "cell_type": "code",
   "execution_count": 54,
   "metadata": {},
   "outputs": [],
   "source": [
    "def function2_for_y(x):\n",
    "    if (x > 0):\n",
    "        y = 10.*x - 1\n",
    "    elif (x == 0):\n",
    "        y = 1.\n",
    "    else: \n",
    "        y = 2.*x/5.      \n",
    "    return y"
   ]
  },
  {
   "cell_type": "code",
   "execution_count": 55,
   "metadata": {},
   "outputs": [
    {
     "name": "stdout",
     "output_type": "stream",
     "text": [
      "Value -1:  -2.0 Value -2:  -2.0\n",
      "Value -1:  1.0 Value -2:  1.0\n",
      "Value -1:  49.0 Value -2:  49.0\n"
     ]
    }
   ],
   "source": [
    "print('Value -1: ', function1_for_y(-5), 'Value -2: ',function2_for_y(-5))\n",
    "print('Value -1: ', function1_for_y(0), 'Value -2: ',function2_for_y(0))\n",
    "print('Value -1: ', function1_for_y(5), 'Value -2: ',function2_for_y(5))"
   ]
  },
  {
   "cell_type": "markdown",
   "metadata": {},
   "source": [
    "What happens when we try to pass an array?"
   ]
  },
  {
   "cell_type": "code",
   "execution_count": 56,
   "metadata": {},
   "outputs": [
    {
     "name": "stdout",
     "output_type": "stream",
     "text": [
      "[-10.  -8.  -6.  -4.  -2.   0.   2.   4.   6.   8.  10.]\n"
     ]
    }
   ],
   "source": [
    "x = np.linspace(-10,10,11)\n",
    "print(x)"
   ]
  },
  {
   "cell_type": "code",
   "execution_count": 57,
   "metadata": {},
   "outputs": [
    {
     "ename": "ValueError",
     "evalue": "The truth value of an array with more than one element is ambiguous. Use a.any() or a.all()",
     "output_type": "error",
     "traceback": [
      "\u001b[0;31m---------------------------------------------------------------------------\u001b[0m",
      "\u001b[0;31mValueError\u001b[0m                                Traceback (most recent call last)",
      "Input \u001b[0;32mIn [57]\u001b[0m, in \u001b[0;36m<cell line: 1>\u001b[0;34m()\u001b[0m\n\u001b[0;32m----> 1\u001b[0m \u001b[38;5;28mprint\u001b[39m(\u001b[38;5;124m'\u001b[39m\u001b[38;5;124mValue -1: \u001b[39m\u001b[38;5;124m'\u001b[39m, \u001b[43mfunction1_for_y\u001b[49m\u001b[43m(\u001b[49m\u001b[43mx\u001b[49m\u001b[43m)\u001b[49m, \u001b[38;5;124m'\u001b[39m\u001b[38;5;124mValue -2: \u001b[39m\u001b[38;5;124m'\u001b[39m,function2_for_y(x))\n",
      "Input \u001b[0;32mIn [52]\u001b[0m, in \u001b[0;36mfunction1_for_y\u001b[0;34m(x)\u001b[0m\n\u001b[1;32m      1\u001b[0m \u001b[38;5;28;01mdef\u001b[39;00m \u001b[38;5;21mfunction1_for_y\u001b[39m(x):\n\u001b[0;32m----> 2\u001b[0m     \u001b[38;5;28;01mif\u001b[39;00m (x \u001b[38;5;241m>\u001b[39m \u001b[38;5;241m0\u001b[39m):\n\u001b[1;32m      3\u001b[0m         y \u001b[38;5;241m=\u001b[39m \u001b[38;5;241m10.\u001b[39m\u001b[38;5;241m*\u001b[39mx \u001b[38;5;241m-\u001b[39m \u001b[38;5;241m1\u001b[39m\n\u001b[1;32m      4\u001b[0m     \u001b[38;5;28;01mif\u001b[39;00m (x \u001b[38;5;241m==\u001b[39m \u001b[38;5;241m0\u001b[39m):\n",
      "\u001b[0;31mValueError\u001b[0m: The truth value of an array with more than one element is ambiguous. Use a.any() or a.all()"
     ]
    }
   ],
   "source": [
    "print('Value -1: ', function1_for_y(x), 'Value -2: ',function2_for_y(x))"
   ]
  },
  {
   "cell_type": "code",
   "execution_count": 59,
   "metadata": {},
   "outputs": [
    {
     "name": "stdout",
     "output_type": "stream",
     "text": [
      "0 -10.0 [-4.]\n",
      "1 -8.0 [-3.2]\n",
      "2 -6.0 [-2.4]\n",
      "3 -4.0 [-1.6]\n",
      "4 -2.0 [-0.8]\n",
      "5 0.0 [1.]\n",
      "6 2.0 [19.]\n",
      "7 4.0 [39.]\n",
      "8 6.0 [59.]\n",
      "9 8.0 [79.]\n",
      "10 10.0 [99.]\n"
     ]
    }
   ],
   "source": [
    "y = np.zeros([11,1])\n",
    "\n",
    "for i in range(11): # or range(len(y))\n",
    "    y[i] = function1_for_y(x[i])\n",
    "    \n",
    "    print(i,x[i],y[i])"
   ]
  },
  {
   "cell_type": "markdown",
   "metadata": {},
   "source": [
    "#### And/or statements\n",
    "And/or statements help with creating filters and conditions."
   ]
  },
  {
   "cell_type": "code",
   "execution_count": 60,
   "metadata": {},
   "outputs": [
    {
     "name": "stdout",
     "output_type": "stream",
     "text": [
      "True True False\n"
     ]
    }
   ],
   "source": [
    "a = 100\n",
    "b = 50\n",
    "c = 10\n",
    "\n",
    "print(a>b, a>c,a==b)"
   ]
  },
  {
   "cell_type": "code",
   "execution_count": 61,
   "metadata": {},
   "outputs": [
    {
     "name": "stdout",
     "output_type": "stream",
     "text": [
      "a is the biggest number.\n"
     ]
    }
   ],
   "source": [
    "if (a>b and b>c):\n",
    "    print('a is the biggest number.')"
   ]
  },
  {
   "cell_type": "code",
   "execution_count": 62,
   "metadata": {},
   "outputs": [
    {
     "name": "stdout",
     "output_type": "stream",
     "text": [
      "True\n"
     ]
    }
   ],
   "source": [
    "print( (a>b and b>c))"
   ]
  },
  {
   "cell_type": "code",
   "execution_count": 63,
   "metadata": {},
   "outputs": [],
   "source": [
    "if (b>a and a>c):\n",
    "    print ('b is the biggest number.')"
   ]
  },
  {
   "cell_type": "code",
   "execution_count": 64,
   "metadata": {},
   "outputs": [
    {
     "name": "stdout",
     "output_type": "stream",
     "text": [
      "False\n"
     ]
    }
   ],
   "source": [
    "print( (b>a and a>c))"
   ]
  },
  {
   "cell_type": "code",
   "execution_count": 65,
   "metadata": {},
   "outputs": [
    {
     "name": "stdout",
     "output_type": "stream",
     "text": [
      "True\n"
     ]
    }
   ],
   "source": [
    "print( (b<a or b<c))"
   ]
  },
  {
   "cell_type": "code",
   "execution_count": 66,
   "metadata": {},
   "outputs": [
    {
     "name": "stdout",
     "output_type": "stream",
     "text": [
      "[-10.  -8.  -6.  -4.  -2.   0.   2.   4.   6.   8.  10.]\n",
      "Positive x values:  [ 2.  4.  6.  8. 10.]\n",
      "Negative x values:  [-10.  -8.  -6.  -4.  -2.]\n"
     ]
    }
   ],
   "source": [
    "print(x)\n",
    "print('Positive x values: ', x[(x>0)])\n",
    "print('Negative x values: ', x[(x<0)])"
   ]
  },
  {
   "cell_type": "code",
   "execution_count": 68,
   "metadata": {},
   "outputs": [
    {
     "name": "stdout",
     "output_type": "stream",
     "text": [
      "y values for positive x values:  [[19.]\n",
      " [39.]\n",
      " [59.]\n",
      " [79.]\n",
      " [99.]]\n",
      "y values for negative x values:  [[-4. ]\n",
      " [-3.2]\n",
      " [-2.4]\n",
      " [-1.6]\n",
      " [-0.8]]\n"
     ]
    }
   ],
   "source": [
    "print('y values for positive x values: ', y[(x>0)])\n",
    "print('y values for negative x values: ', y[(x<0)])"
   ]
  },
  {
   "cell_type": "code",
   "execution_count": 69,
   "metadata": {},
   "outputs": [],
   "source": [
    "a = [1,2,3,4,5,6,7,8,9,10]"
   ]
  },
  {
   "cell_type": "code",
   "execution_count": 78,
   "metadata": {},
   "outputs": [
    {
     "data": {
      "text/plain": [
       "4.5"
      ]
     },
     "execution_count": 78,
     "metadata": {},
     "output_type": "execute_result"
    }
   ],
   "source": [
    "a = np.array(a)\n",
    "\n",
    "(a.size-1)/2"
   ]
  },
  {
   "cell_type": "code",
   "execution_count": 83,
   "metadata": {},
   "outputs": [
    {
     "ename": "TypeError",
     "evalue": "'tuple' object is not callable",
     "output_type": "error",
     "traceback": [
      "\u001b[0;31m---------------------------------------------------------------------------\u001b[0m",
      "\u001b[0;31mTypeError\u001b[0m                                 Traceback (most recent call last)",
      "Input \u001b[0;32mIn [83]\u001b[0m, in \u001b[0;36m<cell line: 1>\u001b[0;34m()\u001b[0m\n\u001b[0;32m----> 1\u001b[0m \u001b[43ma\u001b[49m\u001b[38;5;241;43m.\u001b[39;49m\u001b[43mshape\u001b[49m\u001b[43m(\u001b[49m\u001b[43m)\u001b[49m\n",
      "\u001b[0;31mTypeError\u001b[0m: 'tuple' object is not callable"
     ]
    }
   ],
   "source": [
    "a.shape()"
   ]
  },
  {
   "cell_type": "markdown",
   "metadata": {},
   "source": [
    "👏👏👏👏 Congratulations! You have completed the NumPy Workbook. Copy this workbook with a new name and try changing the exercises to explore the functions further."
   ]
  }
 ],
 "metadata": {
  "kernelspec": {
   "display_name": "Python 3 (ipykernel)",
   "language": "python",
   "name": "python3"
  },
  "language_info": {
   "codemirror_mode": {
    "name": "ipython",
    "version": 3
   },
   "file_extension": ".py",
   "mimetype": "text/x-python",
   "name": "python",
   "nbconvert_exporter": "python",
   "pygments_lexer": "ipython3",
   "version": "3.8.2"
  }
 },
 "nbformat": 4,
 "nbformat_minor": 4
}
