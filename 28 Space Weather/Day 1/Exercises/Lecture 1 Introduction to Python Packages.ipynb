{
 "cells": [
  {
   "cell_type": "markdown",
   "id": "54c71da1",
   "metadata": {},
   "source": [
    "# PANDAS WORKBOOK"
   ]
  },
  {
   "cell_type": "markdown",
   "id": "6815b5e0",
   "metadata": {},
   "source": [
    "We start by importing our libraries and label them with the namespace alias."
   ]
  },
  {
   "cell_type": "code",
   "execution_count": 1,
   "id": "1ac11fb0",
   "metadata": {},
   "outputs": [],
   "source": [
    "import numpy as np\n",
    "import pandas as pd"
   ]
  },
  {
   "cell_type": "markdown",
   "id": "15b13224",
   "metadata": {},
   "source": [
    "## 1. Creating Dataframes"
   ]
  },
  {
   "cell_type": "markdown",
   "id": "cf821a1a",
   "metadata": {},
   "source": [
    "The core of Pandas is the dataframe. So let's see how we can create a Pandas dataframe from a Series or NumPy array."
   ]
  },
  {
   "cell_type": "code",
   "execution_count": 2,
   "id": "2c3b2eaf",
   "metadata": {},
   "outputs": [
    {
     "name": "stdout",
     "output_type": "stream",
     "text": [
      "Sample series is: \n",
      " 0    1.0\n",
      "1    2.0\n",
      "2    3.0\n",
      "3    4.0\n",
      "4    NaN\n",
      "5    6.0\n",
      "6    7.0\n",
      "7    8.0\n",
      "dtype: float64\n"
     ]
    }
   ],
   "source": [
    "sample_series = pd.Series([1,2,3,4,np.nan,6,7,8])\n",
    "print('Sample series is: \\n', sample_series)"
   ]
  },
  {
   "cell_type": "code",
   "execution_count": 6,
   "id": "5f86c4f2",
   "metadata": {},
   "outputs": [
    {
     "name": "stdout",
     "output_type": "stream",
     "text": [
      "Sample dataframe is: \n",
      "            A         B         C         D\n",
      "0   0.383964 -0.401091  1.484901 -0.285452\n",
      "1   0.882779  0.261930  1.268670 -0.535812\n",
      "2   1.643004 -0.788867 -0.467345  0.265282\n",
      "3  -0.429295 -0.713140  0.003509  0.279888\n",
      "4   0.664636  0.842189  1.277506  0.195862\n",
      "5   1.203121  2.128217 -0.095578  0.107313\n",
      "6  -1.291218 -1.180055 -0.398511  0.530923\n",
      "7  -0.702030 -0.515842 -0.432594 -2.442934\n",
      "8   1.602506 -0.578821 -0.386948  0.517119\n",
      "9   0.377802 -1.499028 -1.494981  0.756031\n",
      "10  0.607319 -0.474547  0.396957  0.178727\n",
      "11 -0.813245 -1.183351  0.416621  0.394159\n"
     ]
    }
   ],
   "source": [
    "sample_df = pd.DataFrame(np.random.randn(12, 4), columns=[\"A\",\"B\",\"C\",\"D\"]) #[\"A\",\"B\",\"C\",\"D\"]\n",
    "print('Sample dataframe is: \\n', sample_df)"
   ]
  },
  {
   "cell_type": "code",
   "execution_count": 7,
   "id": "34af87e0",
   "metadata": {},
   "outputs": [],
   "source": [
    "pd.DataFrame?"
   ]
  },
  {
   "cell_type": "markdown",
   "id": "def09919",
   "metadata": {},
   "source": [
    "Remember what I said about Pandas DataFrame being 2D. Let's see what it actually looks like with the example below. Here we are creating a Pandas dataframe from a dictionary object."
   ]
  },
  {
   "cell_type": "code",
   "execution_count": 8,
   "id": "974ac716",
   "metadata": {},
   "outputs": [],
   "source": [
    "sample_dictionary = { \"A\": 1.0, \n",
    "                      \"B\": pd.Timestamp(\"20130102\"),\n",
    "                      \"C\": pd.Series(1, index=list(range(4)), dtype=\"float32\"),\n",
    "                      \"D\": np.array([3] * 4, dtype=\"int32\"),\n",
    "                      \"E\": pd.Categorical([\"test\", \"train\", \"test\", \"train\"]),\n",
    "                      \"F\": \"foo\",\n",
    "                    }"
   ]
  },
  {
   "cell_type": "code",
   "execution_count": 9,
   "id": "b2866173",
   "metadata": {},
   "outputs": [
    {
     "data": {
      "text/plain": [
       "dict"
      ]
     },
     "execution_count": 9,
     "metadata": {},
     "output_type": "execute_result"
    }
   ],
   "source": [
    "type(sample_dictionary)"
   ]
  },
  {
   "cell_type": "code",
   "execution_count": 10,
   "id": "22f6241e",
   "metadata": {},
   "outputs": [
    {
     "data": {
      "text/plain": [
       "{'A': 1.0,\n",
       " 'B': Timestamp('2013-01-02 00:00:00'),\n",
       " 'C': 0    1.0\n",
       " 1    1.0\n",
       " 2    1.0\n",
       " 3    1.0\n",
       " dtype: float32,\n",
       " 'D': array([3, 3, 3, 3], dtype=int32),\n",
       " 'E': ['test', 'train', 'test', 'train']\n",
       " Categories (2, object): ['test', 'train'],\n",
       " 'F': 'foo'}"
      ]
     },
     "execution_count": 10,
     "metadata": {},
     "output_type": "execute_result"
    }
   ],
   "source": [
    "sample_dictionary"
   ]
  },
  {
   "cell_type": "code",
   "execution_count": 11,
   "id": "a229d444",
   "metadata": {},
   "outputs": [],
   "source": [
    "sample_dataframe = pd.DataFrame(sample_dictionary)"
   ]
  },
  {
   "cell_type": "code",
   "execution_count": 12,
   "id": "03610cf8",
   "metadata": {},
   "outputs": [
    {
     "data": {
      "text/plain": [
       "pandas.core.frame.DataFrame"
      ]
     },
     "execution_count": 12,
     "metadata": {},
     "output_type": "execute_result"
    }
   ],
   "source": [
    "type(sample_dataframe)"
   ]
  },
  {
   "cell_type": "code",
   "execution_count": 13,
   "id": "cf0f515f",
   "metadata": {},
   "outputs": [
    {
     "data": {
      "text/html": [
       "<div>\n",
       "<style scoped>\n",
       "    .dataframe tbody tr th:only-of-type {\n",
       "        vertical-align: middle;\n",
       "    }\n",
       "\n",
       "    .dataframe tbody tr th {\n",
       "        vertical-align: top;\n",
       "    }\n",
       "\n",
       "    .dataframe thead th {\n",
       "        text-align: right;\n",
       "    }\n",
       "</style>\n",
       "<table border=\"1\" class=\"dataframe\">\n",
       "  <thead>\n",
       "    <tr style=\"text-align: right;\">\n",
       "      <th></th>\n",
       "      <th>A</th>\n",
       "      <th>B</th>\n",
       "      <th>C</th>\n",
       "      <th>D</th>\n",
       "      <th>E</th>\n",
       "      <th>F</th>\n",
       "    </tr>\n",
       "  </thead>\n",
       "  <tbody>\n",
       "    <tr>\n",
       "      <th>0</th>\n",
       "      <td>1.0</td>\n",
       "      <td>2013-01-02</td>\n",
       "      <td>1.0</td>\n",
       "      <td>3</td>\n",
       "      <td>test</td>\n",
       "      <td>foo</td>\n",
       "    </tr>\n",
       "    <tr>\n",
       "      <th>1</th>\n",
       "      <td>1.0</td>\n",
       "      <td>2013-01-02</td>\n",
       "      <td>1.0</td>\n",
       "      <td>3</td>\n",
       "      <td>train</td>\n",
       "      <td>foo</td>\n",
       "    </tr>\n",
       "    <tr>\n",
       "      <th>2</th>\n",
       "      <td>1.0</td>\n",
       "      <td>2013-01-02</td>\n",
       "      <td>1.0</td>\n",
       "      <td>3</td>\n",
       "      <td>test</td>\n",
       "      <td>foo</td>\n",
       "    </tr>\n",
       "    <tr>\n",
       "      <th>3</th>\n",
       "      <td>1.0</td>\n",
       "      <td>2013-01-02</td>\n",
       "      <td>1.0</td>\n",
       "      <td>3</td>\n",
       "      <td>train</td>\n",
       "      <td>foo</td>\n",
       "    </tr>\n",
       "  </tbody>\n",
       "</table>\n",
       "</div>"
      ],
      "text/plain": [
       "     A          B    C  D      E    F\n",
       "0  1.0 2013-01-02  1.0  3   test  foo\n",
       "1  1.0 2013-01-02  1.0  3  train  foo\n",
       "2  1.0 2013-01-02  1.0  3   test  foo\n",
       "3  1.0 2013-01-02  1.0  3  train  foo"
      ]
     },
     "execution_count": 13,
     "metadata": {},
     "output_type": "execute_result"
    }
   ],
   "source": [
    "sample_dataframe"
   ]
  },
  {
   "cell_type": "markdown",
   "id": "ae4feda2",
   "metadata": {},
   "source": [
    "See how the shape changes. Which one is computationally faster?"
   ]
  },
  {
   "cell_type": "markdown",
   "id": "03a2830d",
   "metadata": {},
   "source": [
    "### Displaying DataFrame\n",
    "Another way to display dataframe is .head() and .tail() functions."
   ]
  },
  {
   "cell_type": "code",
   "execution_count": 14,
   "id": "70ac8925",
   "metadata": {},
   "outputs": [
    {
     "data": {
      "text/html": [
       "<div>\n",
       "<style scoped>\n",
       "    .dataframe tbody tr th:only-of-type {\n",
       "        vertical-align: middle;\n",
       "    }\n",
       "\n",
       "    .dataframe tbody tr th {\n",
       "        vertical-align: top;\n",
       "    }\n",
       "\n",
       "    .dataframe thead th {\n",
       "        text-align: right;\n",
       "    }\n",
       "</style>\n",
       "<table border=\"1\" class=\"dataframe\">\n",
       "  <thead>\n",
       "    <tr style=\"text-align: right;\">\n",
       "      <th></th>\n",
       "      <th>A</th>\n",
       "      <th>B</th>\n",
       "      <th>C</th>\n",
       "      <th>D</th>\n",
       "    </tr>\n",
       "  </thead>\n",
       "  <tbody>\n",
       "    <tr>\n",
       "      <th>0</th>\n",
       "      <td>0.383964</td>\n",
       "      <td>-0.401091</td>\n",
       "      <td>1.484901</td>\n",
       "      <td>-0.285452</td>\n",
       "    </tr>\n",
       "    <tr>\n",
       "      <th>1</th>\n",
       "      <td>0.882779</td>\n",
       "      <td>0.261930</td>\n",
       "      <td>1.268670</td>\n",
       "      <td>-0.535812</td>\n",
       "    </tr>\n",
       "    <tr>\n",
       "      <th>2</th>\n",
       "      <td>1.643004</td>\n",
       "      <td>-0.788867</td>\n",
       "      <td>-0.467345</td>\n",
       "      <td>0.265282</td>\n",
       "    </tr>\n",
       "    <tr>\n",
       "      <th>3</th>\n",
       "      <td>-0.429295</td>\n",
       "      <td>-0.713140</td>\n",
       "      <td>0.003509</td>\n",
       "      <td>0.279888</td>\n",
       "    </tr>\n",
       "    <tr>\n",
       "      <th>4</th>\n",
       "      <td>0.664636</td>\n",
       "      <td>0.842189</td>\n",
       "      <td>1.277506</td>\n",
       "      <td>0.195862</td>\n",
       "    </tr>\n",
       "  </tbody>\n",
       "</table>\n",
       "</div>"
      ],
      "text/plain": [
       "          A         B         C         D\n",
       "0  0.383964 -0.401091  1.484901 -0.285452\n",
       "1  0.882779  0.261930  1.268670 -0.535812\n",
       "2  1.643004 -0.788867 -0.467345  0.265282\n",
       "3 -0.429295 -0.713140  0.003509  0.279888\n",
       "4  0.664636  0.842189  1.277506  0.195862"
      ]
     },
     "execution_count": 14,
     "metadata": {},
     "output_type": "execute_result"
    }
   ],
   "source": [
    "sample_df.head()"
   ]
  },
  {
   "cell_type": "code",
   "execution_count": 17,
   "id": "136e077f",
   "metadata": {},
   "outputs": [
    {
     "data": {
      "text/html": [
       "<div>\n",
       "<style scoped>\n",
       "    .dataframe tbody tr th:only-of-type {\n",
       "        vertical-align: middle;\n",
       "    }\n",
       "\n",
       "    .dataframe tbody tr th {\n",
       "        vertical-align: top;\n",
       "    }\n",
       "\n",
       "    .dataframe thead th {\n",
       "        text-align: right;\n",
       "    }\n",
       "</style>\n",
       "<table border=\"1\" class=\"dataframe\">\n",
       "  <thead>\n",
       "    <tr style=\"text-align: right;\">\n",
       "      <th></th>\n",
       "      <th>A</th>\n",
       "      <th>B</th>\n",
       "      <th>C</th>\n",
       "      <th>D</th>\n",
       "    </tr>\n",
       "  </thead>\n",
       "  <tbody>\n",
       "    <tr>\n",
       "      <th>9</th>\n",
       "      <td>0.377802</td>\n",
       "      <td>-1.499028</td>\n",
       "      <td>-1.494981</td>\n",
       "      <td>0.756031</td>\n",
       "    </tr>\n",
       "    <tr>\n",
       "      <th>10</th>\n",
       "      <td>0.607319</td>\n",
       "      <td>-0.474547</td>\n",
       "      <td>0.396957</td>\n",
       "      <td>0.178727</td>\n",
       "    </tr>\n",
       "    <tr>\n",
       "      <th>11</th>\n",
       "      <td>-0.813245</td>\n",
       "      <td>-1.183351</td>\n",
       "      <td>0.416621</td>\n",
       "      <td>0.394159</td>\n",
       "    </tr>\n",
       "  </tbody>\n",
       "</table>\n",
       "</div>"
      ],
      "text/plain": [
       "           A         B         C         D\n",
       "9   0.377802 -1.499028 -1.494981  0.756031\n",
       "10  0.607319 -0.474547  0.396957  0.178727\n",
       "11 -0.813245 -1.183351  0.416621  0.394159"
      ]
     },
     "execution_count": 17,
     "metadata": {},
     "output_type": "execute_result"
    }
   ],
   "source": [
    "sample_df.tail(n=3)"
   ]
  },
  {
   "cell_type": "markdown",
   "id": "55286dff",
   "metadata": {},
   "source": [
    "Try printing out only a few rows from the end."
   ]
  },
  {
   "cell_type": "code",
   "execution_count": 18,
   "id": "730c697b",
   "metadata": {},
   "outputs": [
    {
     "data": {
      "text/html": [
       "<div>\n",
       "<style scoped>\n",
       "    .dataframe tbody tr th:only-of-type {\n",
       "        vertical-align: middle;\n",
       "    }\n",
       "\n",
       "    .dataframe tbody tr th {\n",
       "        vertical-align: top;\n",
       "    }\n",
       "\n",
       "    .dataframe thead th {\n",
       "        text-align: right;\n",
       "    }\n",
       "</style>\n",
       "<table border=\"1\" class=\"dataframe\">\n",
       "  <thead>\n",
       "    <tr style=\"text-align: right;\">\n",
       "      <th></th>\n",
       "      <th>A</th>\n",
       "      <th>B</th>\n",
       "      <th>C</th>\n",
       "      <th>D</th>\n",
       "    </tr>\n",
       "  </thead>\n",
       "  <tbody>\n",
       "    <tr>\n",
       "      <th>10</th>\n",
       "      <td>0.607319</td>\n",
       "      <td>-0.474547</td>\n",
       "      <td>0.396957</td>\n",
       "      <td>0.178727</td>\n",
       "    </tr>\n",
       "    <tr>\n",
       "      <th>11</th>\n",
       "      <td>-0.813245</td>\n",
       "      <td>-1.183351</td>\n",
       "      <td>0.416621</td>\n",
       "      <td>0.394159</td>\n",
       "    </tr>\n",
       "  </tbody>\n",
       "</table>\n",
       "</div>"
      ],
      "text/plain": [
       "           A         B         C         D\n",
       "10  0.607319 -0.474547  0.396957  0.178727\n",
       "11 -0.813245 -1.183351  0.416621  0.394159"
      ]
     },
     "execution_count": 18,
     "metadata": {},
     "output_type": "execute_result"
    }
   ],
   "source": [
    "sample_df.tail(2)"
   ]
  },
  {
   "cell_type": "markdown",
   "id": "202712e8",
   "metadata": {},
   "source": [
    "We can also explore the dataframe with the .describe() function."
   ]
  },
  {
   "cell_type": "code",
   "execution_count": 19,
   "id": "9e5f45a6",
   "metadata": {},
   "outputs": [
    {
     "data": {
      "text/html": [
       "<div>\n",
       "<style scoped>\n",
       "    .dataframe tbody tr th:only-of-type {\n",
       "        vertical-align: middle;\n",
       "    }\n",
       "\n",
       "    .dataframe tbody tr th {\n",
       "        vertical-align: top;\n",
       "    }\n",
       "\n",
       "    .dataframe thead th {\n",
       "        text-align: right;\n",
       "    }\n",
       "</style>\n",
       "<table border=\"1\" class=\"dataframe\">\n",
       "  <thead>\n",
       "    <tr style=\"text-align: right;\">\n",
       "      <th></th>\n",
       "      <th>A</th>\n",
       "      <th>B</th>\n",
       "      <th>C</th>\n",
       "      <th>D</th>\n",
       "    </tr>\n",
       "  </thead>\n",
       "  <tbody>\n",
       "    <tr>\n",
       "      <th>count</th>\n",
       "      <td>12.000000</td>\n",
       "      <td>12.000000</td>\n",
       "      <td>12.000000</td>\n",
       "      <td>12.000000</td>\n",
       "    </tr>\n",
       "    <tr>\n",
       "      <th>mean</th>\n",
       "      <td>0.344112</td>\n",
       "      <td>-0.341867</td>\n",
       "      <td>0.131017</td>\n",
       "      <td>-0.003241</td>\n",
       "    </tr>\n",
       "    <tr>\n",
       "      <th>std</th>\n",
       "      <td>0.961997</td>\n",
       "      <td>1.002847</td>\n",
       "      <td>0.880591</td>\n",
       "      <td>0.844401</td>\n",
       "    </tr>\n",
       "    <tr>\n",
       "      <th>min</th>\n",
       "      <td>-1.291218</td>\n",
       "      <td>-1.499028</td>\n",
       "      <td>-1.494981</td>\n",
       "      <td>-2.442934</td>\n",
       "    </tr>\n",
       "    <tr>\n",
       "      <th>25%</th>\n",
       "      <td>-0.497479</td>\n",
       "      <td>-0.886664</td>\n",
       "      <td>-0.407032</td>\n",
       "      <td>0.009121</td>\n",
       "    </tr>\n",
       "    <tr>\n",
       "      <th>50%</th>\n",
       "      <td>0.495641</td>\n",
       "      <td>-0.547331</td>\n",
       "      <td>-0.046035</td>\n",
       "      <td>0.230572</td>\n",
       "    </tr>\n",
       "    <tr>\n",
       "      <th>75%</th>\n",
       "      <td>0.962865</td>\n",
       "      <td>-0.235336</td>\n",
       "      <td>0.629633</td>\n",
       "      <td>0.424899</td>\n",
       "    </tr>\n",
       "    <tr>\n",
       "      <th>max</th>\n",
       "      <td>1.643004</td>\n",
       "      <td>2.128217</td>\n",
       "      <td>1.484901</td>\n",
       "      <td>0.756031</td>\n",
       "    </tr>\n",
       "  </tbody>\n",
       "</table>\n",
       "</div>"
      ],
      "text/plain": [
       "               A          B          C          D\n",
       "count  12.000000  12.000000  12.000000  12.000000\n",
       "mean    0.344112  -0.341867   0.131017  -0.003241\n",
       "std     0.961997   1.002847   0.880591   0.844401\n",
       "min    -1.291218  -1.499028  -1.494981  -2.442934\n",
       "25%    -0.497479  -0.886664  -0.407032   0.009121\n",
       "50%     0.495641  -0.547331  -0.046035   0.230572\n",
       "75%     0.962865  -0.235336   0.629633   0.424899\n",
       "max     1.643004   2.128217   1.484901   0.756031"
      ]
     },
     "execution_count": 19,
     "metadata": {},
     "output_type": "execute_result"
    }
   ],
   "source": [
    "sample_df.describe()"
   ]
  },
  {
   "cell_type": "markdown",
   "id": "11c863ac",
   "metadata": {},
   "source": [
    "We can also display the column and index elements separately."
   ]
  },
  {
   "cell_type": "code",
   "execution_count": 20,
   "id": "4a95f64e",
   "metadata": {},
   "outputs": [
    {
     "data": {
      "text/plain": [
       "Index(['A', 'B', 'C', 'D'], dtype='object')"
      ]
     },
     "execution_count": 20,
     "metadata": {},
     "output_type": "execute_result"
    }
   ],
   "source": [
    "sample_df.columns"
   ]
  },
  {
   "cell_type": "code",
   "execution_count": 21,
   "id": "71678649",
   "metadata": {},
   "outputs": [
    {
     "ename": "AttributeError",
     "evalue": "'DataFrame' object has no attribute 'rows'",
     "output_type": "error",
     "traceback": [
      "\u001b[0;31m---------------------------------------------------------------------------\u001b[0m",
      "\u001b[0;31mAttributeError\u001b[0m                            Traceback (most recent call last)",
      "Input \u001b[0;32mIn [21]\u001b[0m, in \u001b[0;36m<cell line: 1>\u001b[0;34m()\u001b[0m\n\u001b[0;32m----> 1\u001b[0m \u001b[43msample_df\u001b[49m\u001b[38;5;241;43m.\u001b[39;49m\u001b[43mrows\u001b[49m\n",
      "File \u001b[0;32m~/Library/Python/3.8/lib/python/site-packages/pandas/core/generic.py:5583\u001b[0m, in \u001b[0;36mNDFrame.__getattr__\u001b[0;34m(self, name)\u001b[0m\n\u001b[1;32m   5576\u001b[0m \u001b[38;5;28;01mif\u001b[39;00m (\n\u001b[1;32m   5577\u001b[0m     name \u001b[38;5;129;01mnot\u001b[39;00m \u001b[38;5;129;01min\u001b[39;00m \u001b[38;5;28mself\u001b[39m\u001b[38;5;241m.\u001b[39m_internal_names_set\n\u001b[1;32m   5578\u001b[0m     \u001b[38;5;129;01mand\u001b[39;00m name \u001b[38;5;129;01mnot\u001b[39;00m \u001b[38;5;129;01min\u001b[39;00m \u001b[38;5;28mself\u001b[39m\u001b[38;5;241m.\u001b[39m_metadata\n\u001b[1;32m   5579\u001b[0m     \u001b[38;5;129;01mand\u001b[39;00m name \u001b[38;5;129;01mnot\u001b[39;00m \u001b[38;5;129;01min\u001b[39;00m \u001b[38;5;28mself\u001b[39m\u001b[38;5;241m.\u001b[39m_accessors\n\u001b[1;32m   5580\u001b[0m     \u001b[38;5;129;01mand\u001b[39;00m \u001b[38;5;28mself\u001b[39m\u001b[38;5;241m.\u001b[39m_info_axis\u001b[38;5;241m.\u001b[39m_can_hold_identifiers_and_holds_name(name)\n\u001b[1;32m   5581\u001b[0m ):\n\u001b[1;32m   5582\u001b[0m     \u001b[38;5;28;01mreturn\u001b[39;00m \u001b[38;5;28mself\u001b[39m[name]\n\u001b[0;32m-> 5583\u001b[0m \u001b[38;5;28;01mreturn\u001b[39;00m \u001b[38;5;28;43mobject\u001b[39;49m\u001b[38;5;241;43m.\u001b[39;49m\u001b[38;5;21;43m__getattribute__\u001b[39;49m\u001b[43m(\u001b[49m\u001b[38;5;28;43mself\u001b[39;49m\u001b[43m,\u001b[49m\u001b[43m \u001b[49m\u001b[43mname\u001b[49m\u001b[43m)\u001b[49m\n",
      "\u001b[0;31mAttributeError\u001b[0m: 'DataFrame' object has no attribute 'rows'"
     ]
    }
   ],
   "source": [
    "sample_df.rows"
   ]
  },
  {
   "cell_type": "code",
   "execution_count": 22,
   "id": "ada5d395",
   "metadata": {},
   "outputs": [
    {
     "data": {
      "text/plain": [
       "RangeIndex(start=0, stop=12, step=1)"
      ]
     },
     "execution_count": 22,
     "metadata": {},
     "output_type": "execute_result"
    }
   ],
   "source": [
    "sample_df.index"
   ]
  },
  {
   "cell_type": "markdown",
   "id": "2b3b7776",
   "metadata": {},
   "source": [
    "## 2. Sorting and Selection"
   ]
  },
  {
   "cell_type": "markdown",
   "id": "6844acf6",
   "metadata": {},
   "source": [
    "### Sorting\n",
    "We can sort a dataframe object using an axis or values."
   ]
  },
  {
   "cell_type": "code",
   "execution_count": 23,
   "id": "2a6a9c2f",
   "metadata": {},
   "outputs": [
    {
     "data": {
      "text/html": [
       "<div>\n",
       "<style scoped>\n",
       "    .dataframe tbody tr th:only-of-type {\n",
       "        vertical-align: middle;\n",
       "    }\n",
       "\n",
       "    .dataframe tbody tr th {\n",
       "        vertical-align: top;\n",
       "    }\n",
       "\n",
       "    .dataframe thead th {\n",
       "        text-align: right;\n",
       "    }\n",
       "</style>\n",
       "<table border=\"1\" class=\"dataframe\">\n",
       "  <thead>\n",
       "    <tr style=\"text-align: right;\">\n",
       "      <th></th>\n",
       "      <th>A</th>\n",
       "      <th>B</th>\n",
       "      <th>C</th>\n",
       "      <th>D</th>\n",
       "    </tr>\n",
       "  </thead>\n",
       "  <tbody>\n",
       "    <tr>\n",
       "      <th>0</th>\n",
       "      <td>0.383964</td>\n",
       "      <td>-0.401091</td>\n",
       "      <td>1.484901</td>\n",
       "      <td>-0.285452</td>\n",
       "    </tr>\n",
       "    <tr>\n",
       "      <th>1</th>\n",
       "      <td>0.882779</td>\n",
       "      <td>0.261930</td>\n",
       "      <td>1.268670</td>\n",
       "      <td>-0.535812</td>\n",
       "    </tr>\n",
       "    <tr>\n",
       "      <th>2</th>\n",
       "      <td>1.643004</td>\n",
       "      <td>-0.788867</td>\n",
       "      <td>-0.467345</td>\n",
       "      <td>0.265282</td>\n",
       "    </tr>\n",
       "    <tr>\n",
       "      <th>3</th>\n",
       "      <td>-0.429295</td>\n",
       "      <td>-0.713140</td>\n",
       "      <td>0.003509</td>\n",
       "      <td>0.279888</td>\n",
       "    </tr>\n",
       "    <tr>\n",
       "      <th>4</th>\n",
       "      <td>0.664636</td>\n",
       "      <td>0.842189</td>\n",
       "      <td>1.277506</td>\n",
       "      <td>0.195862</td>\n",
       "    </tr>\n",
       "  </tbody>\n",
       "</table>\n",
       "</div>"
      ],
      "text/plain": [
       "          A         B         C         D\n",
       "0  0.383964 -0.401091  1.484901 -0.285452\n",
       "1  0.882779  0.261930  1.268670 -0.535812\n",
       "2  1.643004 -0.788867 -0.467345  0.265282\n",
       "3 -0.429295 -0.713140  0.003509  0.279888\n",
       "4  0.664636  0.842189  1.277506  0.195862"
      ]
     },
     "execution_count": 23,
     "metadata": {},
     "output_type": "execute_result"
    }
   ],
   "source": [
    "sample_df.head()"
   ]
  },
  {
   "cell_type": "code",
   "execution_count": 24,
   "id": "51591bf2",
   "metadata": {},
   "outputs": [
    {
     "data": {
      "text/html": [
       "<div>\n",
       "<style scoped>\n",
       "    .dataframe tbody tr th:only-of-type {\n",
       "        vertical-align: middle;\n",
       "    }\n",
       "\n",
       "    .dataframe tbody tr th {\n",
       "        vertical-align: top;\n",
       "    }\n",
       "\n",
       "    .dataframe thead th {\n",
       "        text-align: right;\n",
       "    }\n",
       "</style>\n",
       "<table border=\"1\" class=\"dataframe\">\n",
       "  <thead>\n",
       "    <tr style=\"text-align: right;\">\n",
       "      <th></th>\n",
       "      <th>D</th>\n",
       "      <th>C</th>\n",
       "      <th>B</th>\n",
       "      <th>A</th>\n",
       "    </tr>\n",
       "  </thead>\n",
       "  <tbody>\n",
       "    <tr>\n",
       "      <th>0</th>\n",
       "      <td>-0.285452</td>\n",
       "      <td>1.484901</td>\n",
       "      <td>-0.401091</td>\n",
       "      <td>0.383964</td>\n",
       "    </tr>\n",
       "    <tr>\n",
       "      <th>1</th>\n",
       "      <td>-0.535812</td>\n",
       "      <td>1.268670</td>\n",
       "      <td>0.261930</td>\n",
       "      <td>0.882779</td>\n",
       "    </tr>\n",
       "    <tr>\n",
       "      <th>2</th>\n",
       "      <td>0.265282</td>\n",
       "      <td>-0.467345</td>\n",
       "      <td>-0.788867</td>\n",
       "      <td>1.643004</td>\n",
       "    </tr>\n",
       "    <tr>\n",
       "      <th>3</th>\n",
       "      <td>0.279888</td>\n",
       "      <td>0.003509</td>\n",
       "      <td>-0.713140</td>\n",
       "      <td>-0.429295</td>\n",
       "    </tr>\n",
       "    <tr>\n",
       "      <th>4</th>\n",
       "      <td>0.195862</td>\n",
       "      <td>1.277506</td>\n",
       "      <td>0.842189</td>\n",
       "      <td>0.664636</td>\n",
       "    </tr>\n",
       "    <tr>\n",
       "      <th>5</th>\n",
       "      <td>0.107313</td>\n",
       "      <td>-0.095578</td>\n",
       "      <td>2.128217</td>\n",
       "      <td>1.203121</td>\n",
       "    </tr>\n",
       "    <tr>\n",
       "      <th>6</th>\n",
       "      <td>0.530923</td>\n",
       "      <td>-0.398511</td>\n",
       "      <td>-1.180055</td>\n",
       "      <td>-1.291218</td>\n",
       "    </tr>\n",
       "    <tr>\n",
       "      <th>7</th>\n",
       "      <td>-2.442934</td>\n",
       "      <td>-0.432594</td>\n",
       "      <td>-0.515842</td>\n",
       "      <td>-0.702030</td>\n",
       "    </tr>\n",
       "    <tr>\n",
       "      <th>8</th>\n",
       "      <td>0.517119</td>\n",
       "      <td>-0.386948</td>\n",
       "      <td>-0.578821</td>\n",
       "      <td>1.602506</td>\n",
       "    </tr>\n",
       "    <tr>\n",
       "      <th>9</th>\n",
       "      <td>0.756031</td>\n",
       "      <td>-1.494981</td>\n",
       "      <td>-1.499028</td>\n",
       "      <td>0.377802</td>\n",
       "    </tr>\n",
       "    <tr>\n",
       "      <th>10</th>\n",
       "      <td>0.178727</td>\n",
       "      <td>0.396957</td>\n",
       "      <td>-0.474547</td>\n",
       "      <td>0.607319</td>\n",
       "    </tr>\n",
       "    <tr>\n",
       "      <th>11</th>\n",
       "      <td>0.394159</td>\n",
       "      <td>0.416621</td>\n",
       "      <td>-1.183351</td>\n",
       "      <td>-0.813245</td>\n",
       "    </tr>\n",
       "  </tbody>\n",
       "</table>\n",
       "</div>"
      ],
      "text/plain": [
       "           D         C         B         A\n",
       "0  -0.285452  1.484901 -0.401091  0.383964\n",
       "1  -0.535812  1.268670  0.261930  0.882779\n",
       "2   0.265282 -0.467345 -0.788867  1.643004\n",
       "3   0.279888  0.003509 -0.713140 -0.429295\n",
       "4   0.195862  1.277506  0.842189  0.664636\n",
       "5   0.107313 -0.095578  2.128217  1.203121\n",
       "6   0.530923 -0.398511 -1.180055 -1.291218\n",
       "7  -2.442934 -0.432594 -0.515842 -0.702030\n",
       "8   0.517119 -0.386948 -0.578821  1.602506\n",
       "9   0.756031 -1.494981 -1.499028  0.377802\n",
       "10  0.178727  0.396957 -0.474547  0.607319\n",
       "11  0.394159  0.416621 -1.183351 -0.813245"
      ]
     },
     "execution_count": 24,
     "metadata": {},
     "output_type": "execute_result"
    }
   ],
   "source": [
    "sample_df.sort_index(axis=1, ascending=False)"
   ]
  },
  {
   "cell_type": "code",
   "execution_count": 25,
   "id": "9e7e7ee4",
   "metadata": {},
   "outputs": [
    {
     "data": {
      "text/html": [
       "<div>\n",
       "<style scoped>\n",
       "    .dataframe tbody tr th:only-of-type {\n",
       "        vertical-align: middle;\n",
       "    }\n",
       "\n",
       "    .dataframe tbody tr th {\n",
       "        vertical-align: top;\n",
       "    }\n",
       "\n",
       "    .dataframe thead th {\n",
       "        text-align: right;\n",
       "    }\n",
       "</style>\n",
       "<table border=\"1\" class=\"dataframe\">\n",
       "  <thead>\n",
       "    <tr style=\"text-align: right;\">\n",
       "      <th></th>\n",
       "      <th>A</th>\n",
       "      <th>B</th>\n",
       "      <th>C</th>\n",
       "      <th>D</th>\n",
       "    </tr>\n",
       "  </thead>\n",
       "  <tbody>\n",
       "    <tr>\n",
       "      <th>9</th>\n",
       "      <td>0.377802</td>\n",
       "      <td>-1.499028</td>\n",
       "      <td>-1.494981</td>\n",
       "      <td>0.756031</td>\n",
       "    </tr>\n",
       "    <tr>\n",
       "      <th>11</th>\n",
       "      <td>-0.813245</td>\n",
       "      <td>-1.183351</td>\n",
       "      <td>0.416621</td>\n",
       "      <td>0.394159</td>\n",
       "    </tr>\n",
       "    <tr>\n",
       "      <th>6</th>\n",
       "      <td>-1.291218</td>\n",
       "      <td>-1.180055</td>\n",
       "      <td>-0.398511</td>\n",
       "      <td>0.530923</td>\n",
       "    </tr>\n",
       "    <tr>\n",
       "      <th>2</th>\n",
       "      <td>1.643004</td>\n",
       "      <td>-0.788867</td>\n",
       "      <td>-0.467345</td>\n",
       "      <td>0.265282</td>\n",
       "    </tr>\n",
       "    <tr>\n",
       "      <th>3</th>\n",
       "      <td>-0.429295</td>\n",
       "      <td>-0.713140</td>\n",
       "      <td>0.003509</td>\n",
       "      <td>0.279888</td>\n",
       "    </tr>\n",
       "    <tr>\n",
       "      <th>8</th>\n",
       "      <td>1.602506</td>\n",
       "      <td>-0.578821</td>\n",
       "      <td>-0.386948</td>\n",
       "      <td>0.517119</td>\n",
       "    </tr>\n",
       "    <tr>\n",
       "      <th>7</th>\n",
       "      <td>-0.702030</td>\n",
       "      <td>-0.515842</td>\n",
       "      <td>-0.432594</td>\n",
       "      <td>-2.442934</td>\n",
       "    </tr>\n",
       "    <tr>\n",
       "      <th>10</th>\n",
       "      <td>0.607319</td>\n",
       "      <td>-0.474547</td>\n",
       "      <td>0.396957</td>\n",
       "      <td>0.178727</td>\n",
       "    </tr>\n",
       "    <tr>\n",
       "      <th>0</th>\n",
       "      <td>0.383964</td>\n",
       "      <td>-0.401091</td>\n",
       "      <td>1.484901</td>\n",
       "      <td>-0.285452</td>\n",
       "    </tr>\n",
       "    <tr>\n",
       "      <th>1</th>\n",
       "      <td>0.882779</td>\n",
       "      <td>0.261930</td>\n",
       "      <td>1.268670</td>\n",
       "      <td>-0.535812</td>\n",
       "    </tr>\n",
       "    <tr>\n",
       "      <th>4</th>\n",
       "      <td>0.664636</td>\n",
       "      <td>0.842189</td>\n",
       "      <td>1.277506</td>\n",
       "      <td>0.195862</td>\n",
       "    </tr>\n",
       "    <tr>\n",
       "      <th>5</th>\n",
       "      <td>1.203121</td>\n",
       "      <td>2.128217</td>\n",
       "      <td>-0.095578</td>\n",
       "      <td>0.107313</td>\n",
       "    </tr>\n",
       "  </tbody>\n",
       "</table>\n",
       "</div>"
      ],
      "text/plain": [
       "           A         B         C         D\n",
       "9   0.377802 -1.499028 -1.494981  0.756031\n",
       "11 -0.813245 -1.183351  0.416621  0.394159\n",
       "6  -1.291218 -1.180055 -0.398511  0.530923\n",
       "2   1.643004 -0.788867 -0.467345  0.265282\n",
       "3  -0.429295 -0.713140  0.003509  0.279888\n",
       "8   1.602506 -0.578821 -0.386948  0.517119\n",
       "7  -0.702030 -0.515842 -0.432594 -2.442934\n",
       "10  0.607319 -0.474547  0.396957  0.178727\n",
       "0   0.383964 -0.401091  1.484901 -0.285452\n",
       "1   0.882779  0.261930  1.268670 -0.535812\n",
       "4   0.664636  0.842189  1.277506  0.195862\n",
       "5   1.203121  2.128217 -0.095578  0.107313"
      ]
     },
     "execution_count": 25,
     "metadata": {},
     "output_type": "execute_result"
    }
   ],
   "source": [
    "sample_df.sort_values(by='B')"
   ]
  },
  {
   "cell_type": "markdown",
   "id": "7efae5b3",
   "metadata": {},
   "source": [
    "### Selection\n",
    "There are various ways to make selections with a Pandas dataframe. First, let's look at selection of an entire column."
   ]
  },
  {
   "cell_type": "code",
   "execution_count": 26,
   "id": "23beeb1f",
   "metadata": {},
   "outputs": [
    {
     "name": "stdout",
     "output_type": "stream",
     "text": [
      "This is the A column of the sample_df: \n",
      " 0     0.383964\n",
      "1     0.882779\n",
      "2     1.643004\n",
      "3    -0.429295\n",
      "4     0.664636\n",
      "5     1.203121\n",
      "6    -1.291218\n",
      "7    -0.702030\n",
      "8     1.602506\n",
      "9     0.377802\n",
      "10    0.607319\n",
      "11   -0.813245\n",
      "Name: A, dtype: float64\n"
     ]
    }
   ],
   "source": [
    "sample_df_column_a = sample_df[\"A\"]\n",
    "print('This is the A column of the sample_df: \\n', sample_df_column_a)"
   ]
  },
  {
   "cell_type": "code",
   "execution_count": 27,
   "id": "d8ce394b",
   "metadata": {},
   "outputs": [
    {
     "name": "stdout",
     "output_type": "stream",
     "text": [
      "This is the A column of the sample_df: \n",
      " 0     0.383964\n",
      "1     0.882779\n",
      "2     1.643004\n",
      "3    -0.429295\n",
      "4     0.664636\n",
      "5     1.203121\n",
      "6    -1.291218\n",
      "7    -0.702030\n",
      "8     1.602506\n",
      "9     0.377802\n",
      "10    0.607319\n",
      "11   -0.813245\n",
      "Name: A, dtype: float64\n"
     ]
    }
   ],
   "source": [
    "print('This is the A column of the sample_df: \\n', sample_df.A) #A.min \"A bike\""
   ]
  },
  {
   "cell_type": "code",
   "execution_count": 28,
   "id": "39eac8d6",
   "metadata": {},
   "outputs": [
    {
     "name": "stdout",
     "output_type": "stream",
     "text": [
      "This is the A column of the sample_df: \n",
      "            A\n",
      "0   0.383964\n",
      "1   0.882779\n",
      "2   1.643004\n",
      "3  -0.429295\n",
      "4   0.664636\n",
      "5   1.203121\n",
      "6  -1.291218\n",
      "7  -0.702030\n",
      "8   1.602506\n",
      "9   0.377802\n",
      "10  0.607319\n",
      "11 -0.813245\n"
     ]
    }
   ],
   "source": [
    "print('This is the A column of the sample_df: \\n', sample_df.loc[:,[\"A\"]])"
   ]
  },
  {
   "cell_type": "markdown",
   "id": "1c648663",
   "metadata": {},
   "source": [
    "Now let's see how we can make selections of a subset of elements based on location or values."
   ]
  },
  {
   "cell_type": "code",
   "execution_count": 30,
   "id": "5a61df44",
   "metadata": {
    "scrolled": true
   },
   "outputs": [
    {
     "data": {
      "text/html": [
       "<div>\n",
       "<style scoped>\n",
       "    .dataframe tbody tr th:only-of-type {\n",
       "        vertical-align: middle;\n",
       "    }\n",
       "\n",
       "    .dataframe tbody tr th {\n",
       "        vertical-align: top;\n",
       "    }\n",
       "\n",
       "    .dataframe thead th {\n",
       "        text-align: right;\n",
       "    }\n",
       "</style>\n",
       "<table border=\"1\" class=\"dataframe\">\n",
       "  <thead>\n",
       "    <tr style=\"text-align: right;\">\n",
       "      <th></th>\n",
       "      <th>A</th>\n",
       "      <th>B</th>\n",
       "    </tr>\n",
       "  </thead>\n",
       "  <tbody>\n",
       "    <tr>\n",
       "      <th>3</th>\n",
       "      <td>-0.429295</td>\n",
       "      <td>-0.713140</td>\n",
       "    </tr>\n",
       "    <tr>\n",
       "      <th>4</th>\n",
       "      <td>0.664636</td>\n",
       "      <td>0.842189</td>\n",
       "    </tr>\n",
       "    <tr>\n",
       "      <th>5</th>\n",
       "      <td>1.203121</td>\n",
       "      <td>2.128217</td>\n",
       "    </tr>\n",
       "  </tbody>\n",
       "</table>\n",
       "</div>"
      ],
      "text/plain": [
       "          A         B\n",
       "3 -0.429295 -0.713140\n",
       "4  0.664636  0.842189\n",
       "5  1.203121  2.128217"
      ]
     },
     "execution_count": 30,
     "metadata": {},
     "output_type": "execute_result"
    }
   ],
   "source": [
    "sample_df.loc[3:5, [\"A\", \"B\"]]"
   ]
  },
  {
   "cell_type": "markdown",
   "id": "46a2ee98",
   "metadata": {},
   "source": [
    ".loc and .iloc are different locators. While '.loc' returns rows and columns with specific labels, '.iloc' returns rows and columns at specific integer locations. "
   ]
  },
  {
   "cell_type": "code",
   "execution_count": 31,
   "id": "940e19e6",
   "metadata": {},
   "outputs": [
    {
     "data": {
      "text/html": [
       "<div>\n",
       "<style scoped>\n",
       "    .dataframe tbody tr th:only-of-type {\n",
       "        vertical-align: middle;\n",
       "    }\n",
       "\n",
       "    .dataframe tbody tr th {\n",
       "        vertical-align: top;\n",
       "    }\n",
       "\n",
       "    .dataframe thead th {\n",
       "        text-align: right;\n",
       "    }\n",
       "</style>\n",
       "<table border=\"1\" class=\"dataframe\">\n",
       "  <thead>\n",
       "    <tr style=\"text-align: right;\">\n",
       "      <th></th>\n",
       "      <th>A</th>\n",
       "      <th>B</th>\n",
       "      <th>C</th>\n",
       "      <th>D</th>\n",
       "    </tr>\n",
       "  </thead>\n",
       "  <tbody>\n",
       "    <tr>\n",
       "      <th>3</th>\n",
       "      <td>-0.429295</td>\n",
       "      <td>-0.713140</td>\n",
       "      <td>0.003509</td>\n",
       "      <td>0.279888</td>\n",
       "    </tr>\n",
       "    <tr>\n",
       "      <th>4</th>\n",
       "      <td>0.664636</td>\n",
       "      <td>0.842189</td>\n",
       "      <td>1.277506</td>\n",
       "      <td>0.195862</td>\n",
       "    </tr>\n",
       "  </tbody>\n",
       "</table>\n",
       "</div>"
      ],
      "text/plain": [
       "          A         B         C         D\n",
       "3 -0.429295 -0.713140  0.003509  0.279888\n",
       "4  0.664636  0.842189  1.277506  0.195862"
      ]
     },
     "execution_count": 31,
     "metadata": {},
     "output_type": "execute_result"
    }
   ],
   "source": [
    "sample_df.iloc[3:5]"
   ]
  },
  {
   "cell_type": "code",
   "execution_count": 32,
   "id": "d7de429e",
   "metadata": {},
   "outputs": [
    {
     "ename": "IndexError",
     "evalue": ".iloc requires numeric indexers, got ['A' 'B']",
     "output_type": "error",
     "traceback": [
      "\u001b[0;31m---------------------------------------------------------------------------\u001b[0m",
      "\u001b[0;31mIndexError\u001b[0m                                Traceback (most recent call last)",
      "Input \u001b[0;32mIn [32]\u001b[0m, in \u001b[0;36m<cell line: 1>\u001b[0;34m()\u001b[0m\n\u001b[0;32m----> 1\u001b[0m \u001b[43msample_df\u001b[49m\u001b[38;5;241;43m.\u001b[39;49m\u001b[43miloc\u001b[49m\u001b[43m[\u001b[49m\u001b[38;5;241;43m3\u001b[39;49m\u001b[43m:\u001b[49m\u001b[38;5;241;43m5\u001b[39;49m\u001b[43m,\u001b[49m\u001b[43m \u001b[49m\u001b[43m[\u001b[49m\u001b[38;5;124;43m\"\u001b[39;49m\u001b[38;5;124;43mA\u001b[39;49m\u001b[38;5;124;43m\"\u001b[39;49m\u001b[43m,\u001b[49m\u001b[43m \u001b[49m\u001b[38;5;124;43m\"\u001b[39;49m\u001b[38;5;124;43mB\u001b[39;49m\u001b[38;5;124;43m\"\u001b[39;49m\u001b[43m]\u001b[49m\u001b[43m]\u001b[49m\n",
      "File \u001b[0;32m~/Library/Python/3.8/lib/python/site-packages/pandas/core/indexing.py:961\u001b[0m, in \u001b[0;36m_LocationIndexer.__getitem__\u001b[0;34m(self, key)\u001b[0m\n\u001b[1;32m    959\u001b[0m     \u001b[38;5;28;01mif\u001b[39;00m \u001b[38;5;28mself\u001b[39m\u001b[38;5;241m.\u001b[39m_is_scalar_access(key):\n\u001b[1;32m    960\u001b[0m         \u001b[38;5;28;01mreturn\u001b[39;00m \u001b[38;5;28mself\u001b[39m\u001b[38;5;241m.\u001b[39mobj\u001b[38;5;241m.\u001b[39m_get_value(\u001b[38;5;241m*\u001b[39mkey, takeable\u001b[38;5;241m=\u001b[39m\u001b[38;5;28mself\u001b[39m\u001b[38;5;241m.\u001b[39m_takeable)\n\u001b[0;32m--> 961\u001b[0m     \u001b[38;5;28;01mreturn\u001b[39;00m \u001b[38;5;28;43mself\u001b[39;49m\u001b[38;5;241;43m.\u001b[39;49m\u001b[43m_getitem_tuple\u001b[49m\u001b[43m(\u001b[49m\u001b[43mkey\u001b[49m\u001b[43m)\u001b[49m\n\u001b[1;32m    962\u001b[0m \u001b[38;5;28;01melse\u001b[39;00m:\n\u001b[1;32m    963\u001b[0m     \u001b[38;5;66;03m# we by definition only have the 0th axis\u001b[39;00m\n\u001b[1;32m    964\u001b[0m     axis \u001b[38;5;241m=\u001b[39m \u001b[38;5;28mself\u001b[39m\u001b[38;5;241m.\u001b[39maxis \u001b[38;5;129;01mor\u001b[39;00m \u001b[38;5;241m0\u001b[39m\n",
      "File \u001b[0;32m~/Library/Python/3.8/lib/python/site-packages/pandas/core/indexing.py:1458\u001b[0m, in \u001b[0;36m_iLocIndexer._getitem_tuple\u001b[0;34m(self, tup)\u001b[0m\n\u001b[1;32m   1456\u001b[0m \u001b[38;5;28;01mdef\u001b[39;00m \u001b[38;5;21m_getitem_tuple\u001b[39m(\u001b[38;5;28mself\u001b[39m, tup: \u001b[38;5;28mtuple\u001b[39m):\n\u001b[0;32m-> 1458\u001b[0m     tup \u001b[38;5;241m=\u001b[39m \u001b[38;5;28;43mself\u001b[39;49m\u001b[38;5;241;43m.\u001b[39;49m\u001b[43m_validate_tuple_indexer\u001b[49m\u001b[43m(\u001b[49m\u001b[43mtup\u001b[49m\u001b[43m)\u001b[49m\n\u001b[1;32m   1459\u001b[0m     \u001b[38;5;28;01mwith\u001b[39;00m suppress(IndexingError):\n\u001b[1;32m   1460\u001b[0m         \u001b[38;5;28;01mreturn\u001b[39;00m \u001b[38;5;28mself\u001b[39m\u001b[38;5;241m.\u001b[39m_getitem_lowerdim(tup)\n",
      "File \u001b[0;32m~/Library/Python/3.8/lib/python/site-packages/pandas/core/indexing.py:769\u001b[0m, in \u001b[0;36m_LocationIndexer._validate_tuple_indexer\u001b[0;34m(self, key)\u001b[0m\n\u001b[1;32m    767\u001b[0m \u001b[38;5;28;01mfor\u001b[39;00m i, k \u001b[38;5;129;01min\u001b[39;00m \u001b[38;5;28menumerate\u001b[39m(key):\n\u001b[1;32m    768\u001b[0m     \u001b[38;5;28;01mtry\u001b[39;00m:\n\u001b[0;32m--> 769\u001b[0m         \u001b[38;5;28;43mself\u001b[39;49m\u001b[38;5;241;43m.\u001b[39;49m\u001b[43m_validate_key\u001b[49m\u001b[43m(\u001b[49m\u001b[43mk\u001b[49m\u001b[43m,\u001b[49m\u001b[43m \u001b[49m\u001b[43mi\u001b[49m\u001b[43m)\u001b[49m\n\u001b[1;32m    770\u001b[0m     \u001b[38;5;28;01mexcept\u001b[39;00m \u001b[38;5;167;01mValueError\u001b[39;00m \u001b[38;5;28;01mas\u001b[39;00m err:\n\u001b[1;32m    771\u001b[0m         \u001b[38;5;28;01mraise\u001b[39;00m \u001b[38;5;167;01mValueError\u001b[39;00m(\n\u001b[1;32m    772\u001b[0m             \u001b[38;5;124m\"\u001b[39m\u001b[38;5;124mLocation based indexing can only have \u001b[39m\u001b[38;5;124m\"\u001b[39m\n\u001b[1;32m    773\u001b[0m             \u001b[38;5;124mf\u001b[39m\u001b[38;5;124m\"\u001b[39m\u001b[38;5;124m[\u001b[39m\u001b[38;5;132;01m{\u001b[39;00m\u001b[38;5;28mself\u001b[39m\u001b[38;5;241m.\u001b[39m_valid_types\u001b[38;5;132;01m}\u001b[39;00m\u001b[38;5;124m] types\u001b[39m\u001b[38;5;124m\"\u001b[39m\n\u001b[1;32m    774\u001b[0m         ) \u001b[38;5;28;01mfrom\u001b[39;00m \u001b[38;5;21;01merr\u001b[39;00m\n",
      "File \u001b[0;32m~/Library/Python/3.8/lib/python/site-packages/pandas/core/indexing.py:1372\u001b[0m, in \u001b[0;36m_iLocIndexer._validate_key\u001b[0;34m(self, key, axis)\u001b[0m\n\u001b[1;32m   1370\u001b[0m \u001b[38;5;66;03m# check that the key has a numeric dtype\u001b[39;00m\n\u001b[1;32m   1371\u001b[0m \u001b[38;5;28;01mif\u001b[39;00m \u001b[38;5;129;01mnot\u001b[39;00m is_numeric_dtype(arr\u001b[38;5;241m.\u001b[39mdtype):\n\u001b[0;32m-> 1372\u001b[0m     \u001b[38;5;28;01mraise\u001b[39;00m \u001b[38;5;167;01mIndexError\u001b[39;00m(\u001b[38;5;124mf\u001b[39m\u001b[38;5;124m\"\u001b[39m\u001b[38;5;124m.iloc requires numeric indexers, got \u001b[39m\u001b[38;5;132;01m{\u001b[39;00marr\u001b[38;5;132;01m}\u001b[39;00m\u001b[38;5;124m\"\u001b[39m)\n\u001b[1;32m   1374\u001b[0m \u001b[38;5;66;03m# check that the key does not exceed the maximum size of the index\u001b[39;00m\n\u001b[1;32m   1375\u001b[0m \u001b[38;5;28;01mif\u001b[39;00m \u001b[38;5;28mlen\u001b[39m(arr) \u001b[38;5;129;01mand\u001b[39;00m (arr\u001b[38;5;241m.\u001b[39mmax() \u001b[38;5;241m>\u001b[39m\u001b[38;5;241m=\u001b[39m len_axis \u001b[38;5;129;01mor\u001b[39;00m arr\u001b[38;5;241m.\u001b[39mmin() \u001b[38;5;241m<\u001b[39m \u001b[38;5;241m-\u001b[39mlen_axis):\n",
      "\u001b[0;31mIndexError\u001b[0m: .iloc requires numeric indexers, got ['A' 'B']"
     ]
    }
   ],
   "source": [
    "sample_df.iloc[3:5, [\"A\", \"B\"]]"
   ]
  },
  {
   "cell_type": "code",
   "execution_count": 34,
   "id": "cf82d3a4",
   "metadata": {},
   "outputs": [
    {
     "data": {
      "text/plain": [
       "0     0.383964\n",
       "1     0.882779\n",
       "2     1.643004\n",
       "3    -0.429295\n",
       "4     0.664636\n",
       "5     1.203121\n",
       "6    -1.291218\n",
       "7    -0.702030\n",
       "8     1.602506\n",
       "9     0.377802\n",
       "10    0.607319\n",
       "11   -0.813245\n",
       "Name: A, dtype: float64"
      ]
     },
     "execution_count": 34,
     "metadata": {},
     "output_type": "execute_result"
    }
   ],
   "source": [
    "sample_df.A"
   ]
  },
  {
   "cell_type": "code",
   "execution_count": 33,
   "id": "91d68319",
   "metadata": {},
   "outputs": [
    {
     "data": {
      "text/plain": [
       "0      True\n",
       "1      True\n",
       "2      True\n",
       "3     False\n",
       "4      True\n",
       "5      True\n",
       "6     False\n",
       "7     False\n",
       "8      True\n",
       "9      True\n",
       "10     True\n",
       "11    False\n",
       "Name: A, dtype: bool"
      ]
     },
     "execution_count": 33,
     "metadata": {},
     "output_type": "execute_result"
    }
   ],
   "source": [
    "sample_df[\"A\"] > 0"
   ]
  },
  {
   "cell_type": "code",
   "execution_count": 35,
   "id": "f15db590",
   "metadata": {},
   "outputs": [
    {
     "data": {
      "text/html": [
       "<div>\n",
       "<style scoped>\n",
       "    .dataframe tbody tr th:only-of-type {\n",
       "        vertical-align: middle;\n",
       "    }\n",
       "\n",
       "    .dataframe tbody tr th {\n",
       "        vertical-align: top;\n",
       "    }\n",
       "\n",
       "    .dataframe thead th {\n",
       "        text-align: right;\n",
       "    }\n",
       "</style>\n",
       "<table border=\"1\" class=\"dataframe\">\n",
       "  <thead>\n",
       "    <tr style=\"text-align: right;\">\n",
       "      <th></th>\n",
       "      <th>A</th>\n",
       "      <th>B</th>\n",
       "      <th>C</th>\n",
       "      <th>D</th>\n",
       "    </tr>\n",
       "  </thead>\n",
       "  <tbody>\n",
       "    <tr>\n",
       "      <th>0</th>\n",
       "      <td>0.383964</td>\n",
       "      <td>-0.401091</td>\n",
       "      <td>1.484901</td>\n",
       "      <td>-0.285452</td>\n",
       "    </tr>\n",
       "    <tr>\n",
       "      <th>1</th>\n",
       "      <td>0.882779</td>\n",
       "      <td>0.261930</td>\n",
       "      <td>1.268670</td>\n",
       "      <td>-0.535812</td>\n",
       "    </tr>\n",
       "    <tr>\n",
       "      <th>2</th>\n",
       "      <td>1.643004</td>\n",
       "      <td>-0.788867</td>\n",
       "      <td>-0.467345</td>\n",
       "      <td>0.265282</td>\n",
       "    </tr>\n",
       "    <tr>\n",
       "      <th>4</th>\n",
       "      <td>0.664636</td>\n",
       "      <td>0.842189</td>\n",
       "      <td>1.277506</td>\n",
       "      <td>0.195862</td>\n",
       "    </tr>\n",
       "    <tr>\n",
       "      <th>5</th>\n",
       "      <td>1.203121</td>\n",
       "      <td>2.128217</td>\n",
       "      <td>-0.095578</td>\n",
       "      <td>0.107313</td>\n",
       "    </tr>\n",
       "    <tr>\n",
       "      <th>8</th>\n",
       "      <td>1.602506</td>\n",
       "      <td>-0.578821</td>\n",
       "      <td>-0.386948</td>\n",
       "      <td>0.517119</td>\n",
       "    </tr>\n",
       "    <tr>\n",
       "      <th>9</th>\n",
       "      <td>0.377802</td>\n",
       "      <td>-1.499028</td>\n",
       "      <td>-1.494981</td>\n",
       "      <td>0.756031</td>\n",
       "    </tr>\n",
       "    <tr>\n",
       "      <th>10</th>\n",
       "      <td>0.607319</td>\n",
       "      <td>-0.474547</td>\n",
       "      <td>0.396957</td>\n",
       "      <td>0.178727</td>\n",
       "    </tr>\n",
       "  </tbody>\n",
       "</table>\n",
       "</div>"
      ],
      "text/plain": [
       "           A         B         C         D\n",
       "0   0.383964 -0.401091  1.484901 -0.285452\n",
       "1   0.882779  0.261930  1.268670 -0.535812\n",
       "2   1.643004 -0.788867 -0.467345  0.265282\n",
       "4   0.664636  0.842189  1.277506  0.195862\n",
       "5   1.203121  2.128217 -0.095578  0.107313\n",
       "8   1.602506 -0.578821 -0.386948  0.517119\n",
       "9   0.377802 -1.499028 -1.494981  0.756031\n",
       "10  0.607319 -0.474547  0.396957  0.178727"
      ]
     },
     "execution_count": 35,
     "metadata": {},
     "output_type": "execute_result"
    }
   ],
   "source": [
    "sample_df[sample_df[\"A\"] > 0]"
   ]
  },
  {
   "cell_type": "markdown",
   "id": "868423fb",
   "metadata": {},
   "source": [
    "## 3. Handling Missing Data\n",
    "We need to come up with a way to deal with our missing data points. Here are a few tricks to find and mark them."
   ]
  },
  {
   "cell_type": "code",
   "execution_count": 56,
   "id": "ce16819d",
   "metadata": {},
   "outputs": [],
   "source": [
    "# First we need to add some missing data to our sample_df dataframe.\n",
    "sample_df2 = sample_df[sample_df > -1.0]"
   ]
  },
  {
   "cell_type": "code",
   "execution_count": 57,
   "id": "bc126eac",
   "metadata": {},
   "outputs": [
    {
     "data": {
      "text/html": [
       "<div>\n",
       "<style scoped>\n",
       "    .dataframe tbody tr th:only-of-type {\n",
       "        vertical-align: middle;\n",
       "    }\n",
       "\n",
       "    .dataframe tbody tr th {\n",
       "        vertical-align: top;\n",
       "    }\n",
       "\n",
       "    .dataframe thead th {\n",
       "        text-align: right;\n",
       "    }\n",
       "</style>\n",
       "<table border=\"1\" class=\"dataframe\">\n",
       "  <thead>\n",
       "    <tr style=\"text-align: right;\">\n",
       "      <th></th>\n",
       "      <th>A</th>\n",
       "      <th>B</th>\n",
       "      <th>C</th>\n",
       "      <th>D</th>\n",
       "    </tr>\n",
       "  </thead>\n",
       "  <tbody>\n",
       "    <tr>\n",
       "      <th>0</th>\n",
       "      <td>0.383964</td>\n",
       "      <td>-0.401091</td>\n",
       "      <td>1.484901</td>\n",
       "      <td>-0.285452</td>\n",
       "    </tr>\n",
       "    <tr>\n",
       "      <th>1</th>\n",
       "      <td>0.882779</td>\n",
       "      <td>0.261930</td>\n",
       "      <td>1.268670</td>\n",
       "      <td>-0.535812</td>\n",
       "    </tr>\n",
       "    <tr>\n",
       "      <th>2</th>\n",
       "      <td>1.643004</td>\n",
       "      <td>-0.788867</td>\n",
       "      <td>-0.467345</td>\n",
       "      <td>0.265282</td>\n",
       "    </tr>\n",
       "    <tr>\n",
       "      <th>3</th>\n",
       "      <td>-0.429295</td>\n",
       "      <td>-0.713140</td>\n",
       "      <td>0.003509</td>\n",
       "      <td>0.279888</td>\n",
       "    </tr>\n",
       "    <tr>\n",
       "      <th>4</th>\n",
       "      <td>0.664636</td>\n",
       "      <td>0.842189</td>\n",
       "      <td>1.277506</td>\n",
       "      <td>0.195862</td>\n",
       "    </tr>\n",
       "    <tr>\n",
       "      <th>5</th>\n",
       "      <td>1.203121</td>\n",
       "      <td>2.128217</td>\n",
       "      <td>-0.095578</td>\n",
       "      <td>0.107313</td>\n",
       "    </tr>\n",
       "    <tr>\n",
       "      <th>6</th>\n",
       "      <td>-1.291218</td>\n",
       "      <td>-1.180055</td>\n",
       "      <td>-0.398511</td>\n",
       "      <td>0.530923</td>\n",
       "    </tr>\n",
       "    <tr>\n",
       "      <th>7</th>\n",
       "      <td>-0.702030</td>\n",
       "      <td>-0.515842</td>\n",
       "      <td>-0.432594</td>\n",
       "      <td>-2.442934</td>\n",
       "    </tr>\n",
       "    <tr>\n",
       "      <th>8</th>\n",
       "      <td>1.602506</td>\n",
       "      <td>-0.578821</td>\n",
       "      <td>-0.386948</td>\n",
       "      <td>0.517119</td>\n",
       "    </tr>\n",
       "    <tr>\n",
       "      <th>9</th>\n",
       "      <td>0.377802</td>\n",
       "      <td>-1.499028</td>\n",
       "      <td>-1.494981</td>\n",
       "      <td>0.756031</td>\n",
       "    </tr>\n",
       "    <tr>\n",
       "      <th>10</th>\n",
       "      <td>0.607319</td>\n",
       "      <td>-0.474547</td>\n",
       "      <td>0.396957</td>\n",
       "      <td>0.178727</td>\n",
       "    </tr>\n",
       "    <tr>\n",
       "      <th>11</th>\n",
       "      <td>-0.813245</td>\n",
       "      <td>-1.183351</td>\n",
       "      <td>0.416621</td>\n",
       "      <td>0.394159</td>\n",
       "    </tr>\n",
       "  </tbody>\n",
       "</table>\n",
       "</div>"
      ],
      "text/plain": [
       "           A         B         C         D\n",
       "0   0.383964 -0.401091  1.484901 -0.285452\n",
       "1   0.882779  0.261930  1.268670 -0.535812\n",
       "2   1.643004 -0.788867 -0.467345  0.265282\n",
       "3  -0.429295 -0.713140  0.003509  0.279888\n",
       "4   0.664636  0.842189  1.277506  0.195862\n",
       "5   1.203121  2.128217 -0.095578  0.107313\n",
       "6  -1.291218 -1.180055 -0.398511  0.530923\n",
       "7  -0.702030 -0.515842 -0.432594 -2.442934\n",
       "8   1.602506 -0.578821 -0.386948  0.517119\n",
       "9   0.377802 -1.499028 -1.494981  0.756031\n",
       "10  0.607319 -0.474547  0.396957  0.178727\n",
       "11 -0.813245 -1.183351  0.416621  0.394159"
      ]
     },
     "execution_count": 57,
     "metadata": {},
     "output_type": "execute_result"
    }
   ],
   "source": [
    "sample_df"
   ]
  },
  {
   "cell_type": "code",
   "execution_count": 58,
   "id": "d1159929",
   "metadata": {},
   "outputs": [
    {
     "data": {
      "text/html": [
       "<div>\n",
       "<style scoped>\n",
       "    .dataframe tbody tr th:only-of-type {\n",
       "        vertical-align: middle;\n",
       "    }\n",
       "\n",
       "    .dataframe tbody tr th {\n",
       "        vertical-align: top;\n",
       "    }\n",
       "\n",
       "    .dataframe thead th {\n",
       "        text-align: right;\n",
       "    }\n",
       "</style>\n",
       "<table border=\"1\" class=\"dataframe\">\n",
       "  <thead>\n",
       "    <tr style=\"text-align: right;\">\n",
       "      <th></th>\n",
       "      <th>A</th>\n",
       "      <th>B</th>\n",
       "      <th>C</th>\n",
       "      <th>D</th>\n",
       "    </tr>\n",
       "  </thead>\n",
       "  <tbody>\n",
       "    <tr>\n",
       "      <th>0</th>\n",
       "      <td>0.383964</td>\n",
       "      <td>-0.401091</td>\n",
       "      <td>1.484901</td>\n",
       "      <td>-0.285452</td>\n",
       "    </tr>\n",
       "    <tr>\n",
       "      <th>1</th>\n",
       "      <td>0.882779</td>\n",
       "      <td>0.261930</td>\n",
       "      <td>1.268670</td>\n",
       "      <td>-0.535812</td>\n",
       "    </tr>\n",
       "    <tr>\n",
       "      <th>2</th>\n",
       "      <td>1.643004</td>\n",
       "      <td>-0.788867</td>\n",
       "      <td>-0.467345</td>\n",
       "      <td>0.265282</td>\n",
       "    </tr>\n",
       "    <tr>\n",
       "      <th>3</th>\n",
       "      <td>-0.429295</td>\n",
       "      <td>-0.713140</td>\n",
       "      <td>0.003509</td>\n",
       "      <td>0.279888</td>\n",
       "    </tr>\n",
       "    <tr>\n",
       "      <th>4</th>\n",
       "      <td>0.664636</td>\n",
       "      <td>0.842189</td>\n",
       "      <td>1.277506</td>\n",
       "      <td>0.195862</td>\n",
       "    </tr>\n",
       "    <tr>\n",
       "      <th>5</th>\n",
       "      <td>1.203121</td>\n",
       "      <td>2.128217</td>\n",
       "      <td>-0.095578</td>\n",
       "      <td>0.107313</td>\n",
       "    </tr>\n",
       "    <tr>\n",
       "      <th>6</th>\n",
       "      <td>NaN</td>\n",
       "      <td>NaN</td>\n",
       "      <td>-0.398511</td>\n",
       "      <td>0.530923</td>\n",
       "    </tr>\n",
       "    <tr>\n",
       "      <th>7</th>\n",
       "      <td>-0.702030</td>\n",
       "      <td>-0.515842</td>\n",
       "      <td>-0.432594</td>\n",
       "      <td>NaN</td>\n",
       "    </tr>\n",
       "    <tr>\n",
       "      <th>8</th>\n",
       "      <td>1.602506</td>\n",
       "      <td>-0.578821</td>\n",
       "      <td>-0.386948</td>\n",
       "      <td>0.517119</td>\n",
       "    </tr>\n",
       "    <tr>\n",
       "      <th>9</th>\n",
       "      <td>0.377802</td>\n",
       "      <td>NaN</td>\n",
       "      <td>NaN</td>\n",
       "      <td>0.756031</td>\n",
       "    </tr>\n",
       "    <tr>\n",
       "      <th>10</th>\n",
       "      <td>0.607319</td>\n",
       "      <td>-0.474547</td>\n",
       "      <td>0.396957</td>\n",
       "      <td>0.178727</td>\n",
       "    </tr>\n",
       "    <tr>\n",
       "      <th>11</th>\n",
       "      <td>-0.813245</td>\n",
       "      <td>NaN</td>\n",
       "      <td>0.416621</td>\n",
       "      <td>0.394159</td>\n",
       "    </tr>\n",
       "  </tbody>\n",
       "</table>\n",
       "</div>"
      ],
      "text/plain": [
       "           A         B         C         D\n",
       "0   0.383964 -0.401091  1.484901 -0.285452\n",
       "1   0.882779  0.261930  1.268670 -0.535812\n",
       "2   1.643004 -0.788867 -0.467345  0.265282\n",
       "3  -0.429295 -0.713140  0.003509  0.279888\n",
       "4   0.664636  0.842189  1.277506  0.195862\n",
       "5   1.203121  2.128217 -0.095578  0.107313\n",
       "6        NaN       NaN -0.398511  0.530923\n",
       "7  -0.702030 -0.515842 -0.432594       NaN\n",
       "8   1.602506 -0.578821 -0.386948  0.517119\n",
       "9   0.377802       NaN       NaN  0.756031\n",
       "10  0.607319 -0.474547  0.396957  0.178727\n",
       "11 -0.813245       NaN  0.416621  0.394159"
      ]
     },
     "execution_count": 58,
     "metadata": {},
     "output_type": "execute_result"
    }
   ],
   "source": [
    "sample_df2"
   ]
  },
  {
   "cell_type": "code",
   "execution_count": 40,
   "id": "5eef8ec4",
   "metadata": {},
   "outputs": [
    {
     "data": {
      "text/html": [
       "<div>\n",
       "<style scoped>\n",
       "    .dataframe tbody tr th:only-of-type {\n",
       "        vertical-align: middle;\n",
       "    }\n",
       "\n",
       "    .dataframe tbody tr th {\n",
       "        vertical-align: top;\n",
       "    }\n",
       "\n",
       "    .dataframe thead th {\n",
       "        text-align: right;\n",
       "    }\n",
       "</style>\n",
       "<table border=\"1\" class=\"dataframe\">\n",
       "  <thead>\n",
       "    <tr style=\"text-align: right;\">\n",
       "      <th></th>\n",
       "      <th>A</th>\n",
       "      <th>B</th>\n",
       "      <th>C</th>\n",
       "      <th>D</th>\n",
       "    </tr>\n",
       "  </thead>\n",
       "  <tbody>\n",
       "    <tr>\n",
       "      <th>0</th>\n",
       "      <td>0.383964</td>\n",
       "      <td>-0.401091</td>\n",
       "      <td>1.484901</td>\n",
       "      <td>-0.285452</td>\n",
       "    </tr>\n",
       "    <tr>\n",
       "      <th>1</th>\n",
       "      <td>0.882779</td>\n",
       "      <td>0.261930</td>\n",
       "      <td>1.268670</td>\n",
       "      <td>-0.535812</td>\n",
       "    </tr>\n",
       "    <tr>\n",
       "      <th>2</th>\n",
       "      <td>1.643004</td>\n",
       "      <td>-0.788867</td>\n",
       "      <td>-0.467345</td>\n",
       "      <td>0.265282</td>\n",
       "    </tr>\n",
       "    <tr>\n",
       "      <th>3</th>\n",
       "      <td>-0.429295</td>\n",
       "      <td>-0.713140</td>\n",
       "      <td>0.003509</td>\n",
       "      <td>0.279888</td>\n",
       "    </tr>\n",
       "    <tr>\n",
       "      <th>4</th>\n",
       "      <td>0.664636</td>\n",
       "      <td>0.842189</td>\n",
       "      <td>1.277506</td>\n",
       "      <td>0.195862</td>\n",
       "    </tr>\n",
       "  </tbody>\n",
       "</table>\n",
       "</div>"
      ],
      "text/plain": [
       "          A         B         C         D\n",
       "0  0.383964 -0.401091  1.484901 -0.285452\n",
       "1  0.882779  0.261930  1.268670 -0.535812\n",
       "2  1.643004 -0.788867 -0.467345  0.265282\n",
       "3 -0.429295 -0.713140  0.003509  0.279888\n",
       "4  0.664636  0.842189  1.277506  0.195862"
      ]
     },
     "execution_count": 40,
     "metadata": {},
     "output_type": "execute_result"
    }
   ],
   "source": [
    "sample_df2.head()"
   ]
  },
  {
   "cell_type": "code",
   "execution_count": 41,
   "id": "112b8b8a",
   "metadata": {},
   "outputs": [
    {
     "data": {
      "text/html": [
       "<div>\n",
       "<style scoped>\n",
       "    .dataframe tbody tr th:only-of-type {\n",
       "        vertical-align: middle;\n",
       "    }\n",
       "\n",
       "    .dataframe tbody tr th {\n",
       "        vertical-align: top;\n",
       "    }\n",
       "\n",
       "    .dataframe thead th {\n",
       "        text-align: right;\n",
       "    }\n",
       "</style>\n",
       "<table border=\"1\" class=\"dataframe\">\n",
       "  <thead>\n",
       "    <tr style=\"text-align: right;\">\n",
       "      <th></th>\n",
       "      <th>A</th>\n",
       "      <th>B</th>\n",
       "      <th>C</th>\n",
       "      <th>D</th>\n",
       "    </tr>\n",
       "  </thead>\n",
       "  <tbody>\n",
       "    <tr>\n",
       "      <th>count</th>\n",
       "      <td>11.000000</td>\n",
       "      <td>9.000000</td>\n",
       "      <td>11.000000</td>\n",
       "      <td>11.000000</td>\n",
       "    </tr>\n",
       "    <tr>\n",
       "      <th>mean</th>\n",
       "      <td>0.492778</td>\n",
       "      <td>-0.026664</td>\n",
       "      <td>0.278835</td>\n",
       "      <td>0.218549</td>\n",
       "    </tr>\n",
       "    <tr>\n",
       "      <th>std</th>\n",
       "      <td>0.852197</td>\n",
       "      <td>0.962995</td>\n",
       "      <td>0.751373</td>\n",
       "      <td>0.367416</td>\n",
       "    </tr>\n",
       "    <tr>\n",
       "      <th>min</th>\n",
       "      <td>-0.813245</td>\n",
       "      <td>-0.788867</td>\n",
       "      <td>-0.467345</td>\n",
       "      <td>-0.535812</td>\n",
       "    </tr>\n",
       "    <tr>\n",
       "      <th>25%</th>\n",
       "      <td>-0.025747</td>\n",
       "      <td>-0.578821</td>\n",
       "      <td>-0.392730</td>\n",
       "      <td>0.143020</td>\n",
       "    </tr>\n",
       "    <tr>\n",
       "      <th>50%</th>\n",
       "      <td>0.607319</td>\n",
       "      <td>-0.474547</td>\n",
       "      <td>0.003509</td>\n",
       "      <td>0.265282</td>\n",
       "    </tr>\n",
       "    <tr>\n",
       "      <th>75%</th>\n",
       "      <td>1.042950</td>\n",
       "      <td>0.261930</td>\n",
       "      <td>0.842645</td>\n",
       "      <td>0.455639</td>\n",
       "    </tr>\n",
       "    <tr>\n",
       "      <th>max</th>\n",
       "      <td>1.643004</td>\n",
       "      <td>2.128217</td>\n",
       "      <td>1.484901</td>\n",
       "      <td>0.756031</td>\n",
       "    </tr>\n",
       "  </tbody>\n",
       "</table>\n",
       "</div>"
      ],
      "text/plain": [
       "               A         B          C          D\n",
       "count  11.000000  9.000000  11.000000  11.000000\n",
       "mean    0.492778 -0.026664   0.278835   0.218549\n",
       "std     0.852197  0.962995   0.751373   0.367416\n",
       "min    -0.813245 -0.788867  -0.467345  -0.535812\n",
       "25%    -0.025747 -0.578821  -0.392730   0.143020\n",
       "50%     0.607319 -0.474547   0.003509   0.265282\n",
       "75%     1.042950  0.261930   0.842645   0.455639\n",
       "max     1.643004  2.128217   1.484901   0.756031"
      ]
     },
     "execution_count": 41,
     "metadata": {},
     "output_type": "execute_result"
    }
   ],
   "source": [
    "sample_df2.describe()"
   ]
  },
  {
   "cell_type": "markdown",
   "id": "76f72983",
   "metadata": {},
   "source": [
    "### Dropping the NaN values.\n",
    "We can use .dropna() command to drop values with NaN."
   ]
  },
  {
   "cell_type": "code",
   "execution_count": 42,
   "id": "0e0db554",
   "metadata": {},
   "outputs": [
    {
     "data": {
      "text/html": [
       "<div>\n",
       "<style scoped>\n",
       "    .dataframe tbody tr th:only-of-type {\n",
       "        vertical-align: middle;\n",
       "    }\n",
       "\n",
       "    .dataframe tbody tr th {\n",
       "        vertical-align: top;\n",
       "    }\n",
       "\n",
       "    .dataframe thead th {\n",
       "        text-align: right;\n",
       "    }\n",
       "</style>\n",
       "<table border=\"1\" class=\"dataframe\">\n",
       "  <thead>\n",
       "    <tr style=\"text-align: right;\">\n",
       "      <th></th>\n",
       "      <th>A</th>\n",
       "      <th>B</th>\n",
       "      <th>C</th>\n",
       "      <th>D</th>\n",
       "    </tr>\n",
       "  </thead>\n",
       "  <tbody>\n",
       "    <tr>\n",
       "      <th>0</th>\n",
       "      <td>0.383964</td>\n",
       "      <td>-0.401091</td>\n",
       "      <td>1.484901</td>\n",
       "      <td>-0.285452</td>\n",
       "    </tr>\n",
       "    <tr>\n",
       "      <th>1</th>\n",
       "      <td>0.882779</td>\n",
       "      <td>0.261930</td>\n",
       "      <td>1.268670</td>\n",
       "      <td>-0.535812</td>\n",
       "    </tr>\n",
       "    <tr>\n",
       "      <th>2</th>\n",
       "      <td>1.643004</td>\n",
       "      <td>-0.788867</td>\n",
       "      <td>-0.467345</td>\n",
       "      <td>0.265282</td>\n",
       "    </tr>\n",
       "    <tr>\n",
       "      <th>3</th>\n",
       "      <td>-0.429295</td>\n",
       "      <td>-0.713140</td>\n",
       "      <td>0.003509</td>\n",
       "      <td>0.279888</td>\n",
       "    </tr>\n",
       "    <tr>\n",
       "      <th>4</th>\n",
       "      <td>0.664636</td>\n",
       "      <td>0.842189</td>\n",
       "      <td>1.277506</td>\n",
       "      <td>0.195862</td>\n",
       "    </tr>\n",
       "    <tr>\n",
       "      <th>5</th>\n",
       "      <td>1.203121</td>\n",
       "      <td>2.128217</td>\n",
       "      <td>-0.095578</td>\n",
       "      <td>0.107313</td>\n",
       "    </tr>\n",
       "    <tr>\n",
       "      <th>8</th>\n",
       "      <td>1.602506</td>\n",
       "      <td>-0.578821</td>\n",
       "      <td>-0.386948</td>\n",
       "      <td>0.517119</td>\n",
       "    </tr>\n",
       "    <tr>\n",
       "      <th>10</th>\n",
       "      <td>0.607319</td>\n",
       "      <td>-0.474547</td>\n",
       "      <td>0.396957</td>\n",
       "      <td>0.178727</td>\n",
       "    </tr>\n",
       "  </tbody>\n",
       "</table>\n",
       "</div>"
      ],
      "text/plain": [
       "           A         B         C         D\n",
       "0   0.383964 -0.401091  1.484901 -0.285452\n",
       "1   0.882779  0.261930  1.268670 -0.535812\n",
       "2   1.643004 -0.788867 -0.467345  0.265282\n",
       "3  -0.429295 -0.713140  0.003509  0.279888\n",
       "4   0.664636  0.842189  1.277506  0.195862\n",
       "5   1.203121  2.128217 -0.095578  0.107313\n",
       "8   1.602506 -0.578821 -0.386948  0.517119\n",
       "10  0.607319 -0.474547  0.396957  0.178727"
      ]
     },
     "execution_count": 42,
     "metadata": {},
     "output_type": "execute_result"
    }
   ],
   "source": [
    "sample_df2.dropna() "
   ]
  },
  {
   "cell_type": "markdown",
   "id": "3dc897cd",
   "metadata": {},
   "source": [
    "### Filling the NaN values.\n",
    "We can use .fillna() command to drop values with NaN."
   ]
  },
  {
   "cell_type": "code",
   "execution_count": 43,
   "id": "aae0f958",
   "metadata": {},
   "outputs": [
    {
     "data": {
      "text/html": [
       "<div>\n",
       "<style scoped>\n",
       "    .dataframe tbody tr th:only-of-type {\n",
       "        vertical-align: middle;\n",
       "    }\n",
       "\n",
       "    .dataframe tbody tr th {\n",
       "        vertical-align: top;\n",
       "    }\n",
       "\n",
       "    .dataframe thead th {\n",
       "        text-align: right;\n",
       "    }\n",
       "</style>\n",
       "<table border=\"1\" class=\"dataframe\">\n",
       "  <thead>\n",
       "    <tr style=\"text-align: right;\">\n",
       "      <th></th>\n",
       "      <th>A</th>\n",
       "      <th>B</th>\n",
       "      <th>C</th>\n",
       "      <th>D</th>\n",
       "    </tr>\n",
       "  </thead>\n",
       "  <tbody>\n",
       "    <tr>\n",
       "      <th>0</th>\n",
       "      <td>0.383964</td>\n",
       "      <td>-0.401091</td>\n",
       "      <td>1.484901</td>\n",
       "      <td>-0.285452</td>\n",
       "    </tr>\n",
       "    <tr>\n",
       "      <th>1</th>\n",
       "      <td>0.882779</td>\n",
       "      <td>0.26193</td>\n",
       "      <td>1.26867</td>\n",
       "      <td>-0.535812</td>\n",
       "    </tr>\n",
       "    <tr>\n",
       "      <th>2</th>\n",
       "      <td>1.643004</td>\n",
       "      <td>-0.788867</td>\n",
       "      <td>-0.467345</td>\n",
       "      <td>0.265282</td>\n",
       "    </tr>\n",
       "    <tr>\n",
       "      <th>3</th>\n",
       "      <td>-0.429295</td>\n",
       "      <td>-0.71314</td>\n",
       "      <td>0.003509</td>\n",
       "      <td>0.279888</td>\n",
       "    </tr>\n",
       "    <tr>\n",
       "      <th>4</th>\n",
       "      <td>0.664636</td>\n",
       "      <td>0.842189</td>\n",
       "      <td>1.277506</td>\n",
       "      <td>0.195862</td>\n",
       "    </tr>\n",
       "    <tr>\n",
       "      <th>5</th>\n",
       "      <td>1.203121</td>\n",
       "      <td>2.128217</td>\n",
       "      <td>-0.095578</td>\n",
       "      <td>0.107313</td>\n",
       "    </tr>\n",
       "    <tr>\n",
       "      <th>6</th>\n",
       "      <td>Missing</td>\n",
       "      <td>Missing</td>\n",
       "      <td>-0.398511</td>\n",
       "      <td>0.530923</td>\n",
       "    </tr>\n",
       "    <tr>\n",
       "      <th>7</th>\n",
       "      <td>-0.70203</td>\n",
       "      <td>-0.515842</td>\n",
       "      <td>-0.432594</td>\n",
       "      <td>Missing</td>\n",
       "    </tr>\n",
       "    <tr>\n",
       "      <th>8</th>\n",
       "      <td>1.602506</td>\n",
       "      <td>-0.578821</td>\n",
       "      <td>-0.386948</td>\n",
       "      <td>0.517119</td>\n",
       "    </tr>\n",
       "    <tr>\n",
       "      <th>9</th>\n",
       "      <td>0.377802</td>\n",
       "      <td>Missing</td>\n",
       "      <td>Missing</td>\n",
       "      <td>0.756031</td>\n",
       "    </tr>\n",
       "    <tr>\n",
       "      <th>10</th>\n",
       "      <td>0.607319</td>\n",
       "      <td>-0.474547</td>\n",
       "      <td>0.396957</td>\n",
       "      <td>0.178727</td>\n",
       "    </tr>\n",
       "    <tr>\n",
       "      <th>11</th>\n",
       "      <td>-0.813245</td>\n",
       "      <td>Missing</td>\n",
       "      <td>0.416621</td>\n",
       "      <td>0.394159</td>\n",
       "    </tr>\n",
       "  </tbody>\n",
       "</table>\n",
       "</div>"
      ],
      "text/plain": [
       "           A         B         C         D\n",
       "0   0.383964 -0.401091  1.484901 -0.285452\n",
       "1   0.882779   0.26193   1.26867 -0.535812\n",
       "2   1.643004 -0.788867 -0.467345  0.265282\n",
       "3  -0.429295  -0.71314  0.003509  0.279888\n",
       "4   0.664636  0.842189  1.277506  0.195862\n",
       "5   1.203121  2.128217 -0.095578  0.107313\n",
       "6    Missing   Missing -0.398511  0.530923\n",
       "7   -0.70203 -0.515842 -0.432594   Missing\n",
       "8   1.602506 -0.578821 -0.386948  0.517119\n",
       "9   0.377802   Missing   Missing  0.756031\n",
       "10  0.607319 -0.474547  0.396957  0.178727\n",
       "11 -0.813245   Missing  0.416621  0.394159"
      ]
     },
     "execution_count": 43,
     "metadata": {},
     "output_type": "execute_result"
    }
   ],
   "source": [
    "sample_df2.fillna(value='Missing')"
   ]
  },
  {
   "cell_type": "code",
   "execution_count": 44,
   "id": "a73c6f26",
   "metadata": {},
   "outputs": [
    {
     "data": {
      "text/html": [
       "<div>\n",
       "<style scoped>\n",
       "    .dataframe tbody tr th:only-of-type {\n",
       "        vertical-align: middle;\n",
       "    }\n",
       "\n",
       "    .dataframe tbody tr th {\n",
       "        vertical-align: top;\n",
       "    }\n",
       "\n",
       "    .dataframe thead th {\n",
       "        text-align: right;\n",
       "    }\n",
       "</style>\n",
       "<table border=\"1\" class=\"dataframe\">\n",
       "  <thead>\n",
       "    <tr style=\"text-align: right;\">\n",
       "      <th></th>\n",
       "      <th>A</th>\n",
       "      <th>B</th>\n",
       "      <th>C</th>\n",
       "      <th>D</th>\n",
       "    </tr>\n",
       "  </thead>\n",
       "  <tbody>\n",
       "    <tr>\n",
       "      <th>0</th>\n",
       "      <td>0.383964</td>\n",
       "      <td>-0.401091</td>\n",
       "      <td>1.484901</td>\n",
       "      <td>-0.285452</td>\n",
       "    </tr>\n",
       "    <tr>\n",
       "      <th>1</th>\n",
       "      <td>0.882779</td>\n",
       "      <td>0.261930</td>\n",
       "      <td>1.268670</td>\n",
       "      <td>-0.535812</td>\n",
       "    </tr>\n",
       "    <tr>\n",
       "      <th>2</th>\n",
       "      <td>1.643004</td>\n",
       "      <td>-0.788867</td>\n",
       "      <td>-0.467345</td>\n",
       "      <td>0.265282</td>\n",
       "    </tr>\n",
       "    <tr>\n",
       "      <th>3</th>\n",
       "      <td>-0.429295</td>\n",
       "      <td>-0.713140</td>\n",
       "      <td>0.003509</td>\n",
       "      <td>0.279888</td>\n",
       "    </tr>\n",
       "    <tr>\n",
       "      <th>4</th>\n",
       "      <td>0.664636</td>\n",
       "      <td>0.842189</td>\n",
       "      <td>1.277506</td>\n",
       "      <td>0.195862</td>\n",
       "    </tr>\n",
       "    <tr>\n",
       "      <th>5</th>\n",
       "      <td>1.203121</td>\n",
       "      <td>2.128217</td>\n",
       "      <td>-0.095578</td>\n",
       "      <td>0.107313</td>\n",
       "    </tr>\n",
       "    <tr>\n",
       "      <th>6</th>\n",
       "      <td>2.000000</td>\n",
       "      <td>2.000000</td>\n",
       "      <td>-0.398511</td>\n",
       "      <td>0.530923</td>\n",
       "    </tr>\n",
       "    <tr>\n",
       "      <th>7</th>\n",
       "      <td>-0.702030</td>\n",
       "      <td>-0.515842</td>\n",
       "      <td>-0.432594</td>\n",
       "      <td>2.000000</td>\n",
       "    </tr>\n",
       "    <tr>\n",
       "      <th>8</th>\n",
       "      <td>1.602506</td>\n",
       "      <td>-0.578821</td>\n",
       "      <td>-0.386948</td>\n",
       "      <td>0.517119</td>\n",
       "    </tr>\n",
       "    <tr>\n",
       "      <th>9</th>\n",
       "      <td>0.377802</td>\n",
       "      <td>2.000000</td>\n",
       "      <td>2.000000</td>\n",
       "      <td>0.756031</td>\n",
       "    </tr>\n",
       "    <tr>\n",
       "      <th>10</th>\n",
       "      <td>0.607319</td>\n",
       "      <td>-0.474547</td>\n",
       "      <td>0.396957</td>\n",
       "      <td>0.178727</td>\n",
       "    </tr>\n",
       "    <tr>\n",
       "      <th>11</th>\n",
       "      <td>-0.813245</td>\n",
       "      <td>2.000000</td>\n",
       "      <td>0.416621</td>\n",
       "      <td>0.394159</td>\n",
       "    </tr>\n",
       "  </tbody>\n",
       "</table>\n",
       "</div>"
      ],
      "text/plain": [
       "           A         B         C         D\n",
       "0   0.383964 -0.401091  1.484901 -0.285452\n",
       "1   0.882779  0.261930  1.268670 -0.535812\n",
       "2   1.643004 -0.788867 -0.467345  0.265282\n",
       "3  -0.429295 -0.713140  0.003509  0.279888\n",
       "4   0.664636  0.842189  1.277506  0.195862\n",
       "5   1.203121  2.128217 -0.095578  0.107313\n",
       "6   2.000000  2.000000 -0.398511  0.530923\n",
       "7  -0.702030 -0.515842 -0.432594  2.000000\n",
       "8   1.602506 -0.578821 -0.386948  0.517119\n",
       "9   0.377802  2.000000  2.000000  0.756031\n",
       "10  0.607319 -0.474547  0.396957  0.178727\n",
       "11 -0.813245  2.000000  0.416621  0.394159"
      ]
     },
     "execution_count": 44,
     "metadata": {},
     "output_type": "execute_result"
    }
   ],
   "source": [
    "sample_df2.fillna(value=2)"
   ]
  },
  {
   "cell_type": "markdown",
   "id": "515e0b0f",
   "metadata": {},
   "source": [
    "Let's see how our dataframe looks like now:"
   ]
  },
  {
   "cell_type": "code",
   "execution_count": 46,
   "id": "4e4946c7",
   "metadata": {},
   "outputs": [
    {
     "data": {
      "text/html": [
       "<div>\n",
       "<style scoped>\n",
       "    .dataframe tbody tr th:only-of-type {\n",
       "        vertical-align: middle;\n",
       "    }\n",
       "\n",
       "    .dataframe tbody tr th {\n",
       "        vertical-align: top;\n",
       "    }\n",
       "\n",
       "    .dataframe thead th {\n",
       "        text-align: right;\n",
       "    }\n",
       "</style>\n",
       "<table border=\"1\" class=\"dataframe\">\n",
       "  <thead>\n",
       "    <tr style=\"text-align: right;\">\n",
       "      <th></th>\n",
       "      <th>A</th>\n",
       "      <th>B</th>\n",
       "      <th>C</th>\n",
       "      <th>D</th>\n",
       "    </tr>\n",
       "  </thead>\n",
       "  <tbody>\n",
       "    <tr>\n",
       "      <th>0</th>\n",
       "      <td>0.383964</td>\n",
       "      <td>-0.401091</td>\n",
       "      <td>1.484901</td>\n",
       "      <td>-0.285452</td>\n",
       "    </tr>\n",
       "    <tr>\n",
       "      <th>1</th>\n",
       "      <td>0.882779</td>\n",
       "      <td>0.261930</td>\n",
       "      <td>1.268670</td>\n",
       "      <td>-0.535812</td>\n",
       "    </tr>\n",
       "    <tr>\n",
       "      <th>2</th>\n",
       "      <td>1.643004</td>\n",
       "      <td>-0.788867</td>\n",
       "      <td>-0.467345</td>\n",
       "      <td>0.265282</td>\n",
       "    </tr>\n",
       "    <tr>\n",
       "      <th>3</th>\n",
       "      <td>-0.429295</td>\n",
       "      <td>-0.713140</td>\n",
       "      <td>0.003509</td>\n",
       "      <td>0.279888</td>\n",
       "    </tr>\n",
       "    <tr>\n",
       "      <th>4</th>\n",
       "      <td>0.664636</td>\n",
       "      <td>0.842189</td>\n",
       "      <td>1.277506</td>\n",
       "      <td>0.195862</td>\n",
       "    </tr>\n",
       "    <tr>\n",
       "      <th>5</th>\n",
       "      <td>1.203121</td>\n",
       "      <td>2.128217</td>\n",
       "      <td>-0.095578</td>\n",
       "      <td>0.107313</td>\n",
       "    </tr>\n",
       "    <tr>\n",
       "      <th>6</th>\n",
       "      <td>NaN</td>\n",
       "      <td>NaN</td>\n",
       "      <td>-0.398511</td>\n",
       "      <td>0.530923</td>\n",
       "    </tr>\n",
       "    <tr>\n",
       "      <th>7</th>\n",
       "      <td>-0.702030</td>\n",
       "      <td>-0.515842</td>\n",
       "      <td>-0.432594</td>\n",
       "      <td>NaN</td>\n",
       "    </tr>\n",
       "    <tr>\n",
       "      <th>8</th>\n",
       "      <td>1.602506</td>\n",
       "      <td>-0.578821</td>\n",
       "      <td>-0.386948</td>\n",
       "      <td>0.517119</td>\n",
       "    </tr>\n",
       "    <tr>\n",
       "      <th>9</th>\n",
       "      <td>0.377802</td>\n",
       "      <td>NaN</td>\n",
       "      <td>NaN</td>\n",
       "      <td>0.756031</td>\n",
       "    </tr>\n",
       "    <tr>\n",
       "      <th>10</th>\n",
       "      <td>0.607319</td>\n",
       "      <td>-0.474547</td>\n",
       "      <td>0.396957</td>\n",
       "      <td>0.178727</td>\n",
       "    </tr>\n",
       "    <tr>\n",
       "      <th>11</th>\n",
       "      <td>-0.813245</td>\n",
       "      <td>NaN</td>\n",
       "      <td>0.416621</td>\n",
       "      <td>0.394159</td>\n",
       "    </tr>\n",
       "  </tbody>\n",
       "</table>\n",
       "</div>"
      ],
      "text/plain": [
       "           A         B         C         D\n",
       "0   0.383964 -0.401091  1.484901 -0.285452\n",
       "1   0.882779  0.261930  1.268670 -0.535812\n",
       "2   1.643004 -0.788867 -0.467345  0.265282\n",
       "3  -0.429295 -0.713140  0.003509  0.279888\n",
       "4   0.664636  0.842189  1.277506  0.195862\n",
       "5   1.203121  2.128217 -0.095578  0.107313\n",
       "6        NaN       NaN -0.398511  0.530923\n",
       "7  -0.702030 -0.515842 -0.432594       NaN\n",
       "8   1.602506 -0.578821 -0.386948  0.517119\n",
       "9   0.377802       NaN       NaN  0.756031\n",
       "10  0.607319 -0.474547  0.396957  0.178727\n",
       "11 -0.813245       NaN  0.416621  0.394159"
      ]
     },
     "execution_count": 46,
     "metadata": {},
     "output_type": "execute_result"
    }
   ],
   "source": [
    "sample_df2"
   ]
  },
  {
   "cell_type": "code",
   "execution_count": 49,
   "id": "4805cbfc",
   "metadata": {},
   "outputs": [],
   "source": [
    "sample_df3 = sample_df2.fillna(value=2)"
   ]
  },
  {
   "cell_type": "code",
   "execution_count": 50,
   "id": "93ed18c2",
   "metadata": {},
   "outputs": [
    {
     "data": {
      "text/html": [
       "<div>\n",
       "<style scoped>\n",
       "    .dataframe tbody tr th:only-of-type {\n",
       "        vertical-align: middle;\n",
       "    }\n",
       "\n",
       "    .dataframe tbody tr th {\n",
       "        vertical-align: top;\n",
       "    }\n",
       "\n",
       "    .dataframe thead th {\n",
       "        text-align: right;\n",
       "    }\n",
       "</style>\n",
       "<table border=\"1\" class=\"dataframe\">\n",
       "  <thead>\n",
       "    <tr style=\"text-align: right;\">\n",
       "      <th></th>\n",
       "      <th>A</th>\n",
       "      <th>B</th>\n",
       "      <th>C</th>\n",
       "      <th>D</th>\n",
       "    </tr>\n",
       "  </thead>\n",
       "  <tbody>\n",
       "    <tr>\n",
       "      <th>0</th>\n",
       "      <td>0.383964</td>\n",
       "      <td>-0.401091</td>\n",
       "      <td>1.484901</td>\n",
       "      <td>-0.285452</td>\n",
       "    </tr>\n",
       "    <tr>\n",
       "      <th>1</th>\n",
       "      <td>0.882779</td>\n",
       "      <td>0.261930</td>\n",
       "      <td>1.268670</td>\n",
       "      <td>-0.535812</td>\n",
       "    </tr>\n",
       "    <tr>\n",
       "      <th>2</th>\n",
       "      <td>1.643004</td>\n",
       "      <td>-0.788867</td>\n",
       "      <td>-0.467345</td>\n",
       "      <td>0.265282</td>\n",
       "    </tr>\n",
       "    <tr>\n",
       "      <th>3</th>\n",
       "      <td>-0.429295</td>\n",
       "      <td>-0.713140</td>\n",
       "      <td>0.003509</td>\n",
       "      <td>0.279888</td>\n",
       "    </tr>\n",
       "    <tr>\n",
       "      <th>4</th>\n",
       "      <td>0.664636</td>\n",
       "      <td>0.842189</td>\n",
       "      <td>1.277506</td>\n",
       "      <td>0.195862</td>\n",
       "    </tr>\n",
       "    <tr>\n",
       "      <th>5</th>\n",
       "      <td>1.203121</td>\n",
       "      <td>2.128217</td>\n",
       "      <td>-0.095578</td>\n",
       "      <td>0.107313</td>\n",
       "    </tr>\n",
       "    <tr>\n",
       "      <th>6</th>\n",
       "      <td>2.000000</td>\n",
       "      <td>2.000000</td>\n",
       "      <td>-0.398511</td>\n",
       "      <td>0.530923</td>\n",
       "    </tr>\n",
       "    <tr>\n",
       "      <th>7</th>\n",
       "      <td>-0.702030</td>\n",
       "      <td>-0.515842</td>\n",
       "      <td>-0.432594</td>\n",
       "      <td>2.000000</td>\n",
       "    </tr>\n",
       "    <tr>\n",
       "      <th>8</th>\n",
       "      <td>1.602506</td>\n",
       "      <td>-0.578821</td>\n",
       "      <td>-0.386948</td>\n",
       "      <td>0.517119</td>\n",
       "    </tr>\n",
       "    <tr>\n",
       "      <th>9</th>\n",
       "      <td>0.377802</td>\n",
       "      <td>2.000000</td>\n",
       "      <td>2.000000</td>\n",
       "      <td>0.756031</td>\n",
       "    </tr>\n",
       "    <tr>\n",
       "      <th>10</th>\n",
       "      <td>0.607319</td>\n",
       "      <td>-0.474547</td>\n",
       "      <td>0.396957</td>\n",
       "      <td>0.178727</td>\n",
       "    </tr>\n",
       "    <tr>\n",
       "      <th>11</th>\n",
       "      <td>-0.813245</td>\n",
       "      <td>2.000000</td>\n",
       "      <td>0.416621</td>\n",
       "      <td>0.394159</td>\n",
       "    </tr>\n",
       "  </tbody>\n",
       "</table>\n",
       "</div>"
      ],
      "text/plain": [
       "           A         B         C         D\n",
       "0   0.383964 -0.401091  1.484901 -0.285452\n",
       "1   0.882779  0.261930  1.268670 -0.535812\n",
       "2   1.643004 -0.788867 -0.467345  0.265282\n",
       "3  -0.429295 -0.713140  0.003509  0.279888\n",
       "4   0.664636  0.842189  1.277506  0.195862\n",
       "5   1.203121  2.128217 -0.095578  0.107313\n",
       "6   2.000000  2.000000 -0.398511  0.530923\n",
       "7  -0.702030 -0.515842 -0.432594  2.000000\n",
       "8   1.602506 -0.578821 -0.386948  0.517119\n",
       "9   0.377802  2.000000  2.000000  0.756031\n",
       "10  0.607319 -0.474547  0.396957  0.178727\n",
       "11 -0.813245  2.000000  0.416621  0.394159"
      ]
     },
     "execution_count": 50,
     "metadata": {},
     "output_type": "execute_result"
    }
   ],
   "source": [
    "sample_df3"
   ]
  },
  {
   "cell_type": "code",
   "execution_count": 62,
   "id": "4a2895c9",
   "metadata": {},
   "outputs": [],
   "source": [
    "sample_df2.fillna(value=0, inplace=True)"
   ]
  },
  {
   "cell_type": "code",
   "execution_count": 63,
   "id": "235d7297",
   "metadata": {},
   "outputs": [
    {
     "data": {
      "text/html": [
       "<div>\n",
       "<style scoped>\n",
       "    .dataframe tbody tr th:only-of-type {\n",
       "        vertical-align: middle;\n",
       "    }\n",
       "\n",
       "    .dataframe tbody tr th {\n",
       "        vertical-align: top;\n",
       "    }\n",
       "\n",
       "    .dataframe thead th {\n",
       "        text-align: right;\n",
       "    }\n",
       "</style>\n",
       "<table border=\"1\" class=\"dataframe\">\n",
       "  <thead>\n",
       "    <tr style=\"text-align: right;\">\n",
       "      <th></th>\n",
       "      <th>A</th>\n",
       "      <th>B</th>\n",
       "      <th>C</th>\n",
       "      <th>D</th>\n",
       "    </tr>\n",
       "  </thead>\n",
       "  <tbody>\n",
       "    <tr>\n",
       "      <th>0</th>\n",
       "      <td>0.383964</td>\n",
       "      <td>-0.401091</td>\n",
       "      <td>1.484901</td>\n",
       "      <td>-0.285452</td>\n",
       "    </tr>\n",
       "    <tr>\n",
       "      <th>1</th>\n",
       "      <td>0.882779</td>\n",
       "      <td>0.261930</td>\n",
       "      <td>1.268670</td>\n",
       "      <td>-0.535812</td>\n",
       "    </tr>\n",
       "    <tr>\n",
       "      <th>2</th>\n",
       "      <td>1.643004</td>\n",
       "      <td>-0.788867</td>\n",
       "      <td>-0.467345</td>\n",
       "      <td>0.265282</td>\n",
       "    </tr>\n",
       "    <tr>\n",
       "      <th>3</th>\n",
       "      <td>-0.429295</td>\n",
       "      <td>-0.713140</td>\n",
       "      <td>0.003509</td>\n",
       "      <td>0.279888</td>\n",
       "    </tr>\n",
       "    <tr>\n",
       "      <th>4</th>\n",
       "      <td>0.664636</td>\n",
       "      <td>0.842189</td>\n",
       "      <td>1.277506</td>\n",
       "      <td>0.195862</td>\n",
       "    </tr>\n",
       "    <tr>\n",
       "      <th>5</th>\n",
       "      <td>1.203121</td>\n",
       "      <td>2.128217</td>\n",
       "      <td>-0.095578</td>\n",
       "      <td>0.107313</td>\n",
       "    </tr>\n",
       "    <tr>\n",
       "      <th>6</th>\n",
       "      <td>0.000000</td>\n",
       "      <td>0.000000</td>\n",
       "      <td>-0.398511</td>\n",
       "      <td>0.530923</td>\n",
       "    </tr>\n",
       "    <tr>\n",
       "      <th>7</th>\n",
       "      <td>-0.702030</td>\n",
       "      <td>-0.515842</td>\n",
       "      <td>-0.432594</td>\n",
       "      <td>0.000000</td>\n",
       "    </tr>\n",
       "    <tr>\n",
       "      <th>8</th>\n",
       "      <td>1.602506</td>\n",
       "      <td>-0.578821</td>\n",
       "      <td>-0.386948</td>\n",
       "      <td>0.517119</td>\n",
       "    </tr>\n",
       "    <tr>\n",
       "      <th>9</th>\n",
       "      <td>0.377802</td>\n",
       "      <td>0.000000</td>\n",
       "      <td>0.000000</td>\n",
       "      <td>0.756031</td>\n",
       "    </tr>\n",
       "    <tr>\n",
       "      <th>10</th>\n",
       "      <td>0.607319</td>\n",
       "      <td>-0.474547</td>\n",
       "      <td>0.396957</td>\n",
       "      <td>0.178727</td>\n",
       "    </tr>\n",
       "    <tr>\n",
       "      <th>11</th>\n",
       "      <td>-0.813245</td>\n",
       "      <td>0.000000</td>\n",
       "      <td>0.416621</td>\n",
       "      <td>0.394159</td>\n",
       "    </tr>\n",
       "  </tbody>\n",
       "</table>\n",
       "</div>"
      ],
      "text/plain": [
       "           A         B         C         D\n",
       "0   0.383964 -0.401091  1.484901 -0.285452\n",
       "1   0.882779  0.261930  1.268670 -0.535812\n",
       "2   1.643004 -0.788867 -0.467345  0.265282\n",
       "3  -0.429295 -0.713140  0.003509  0.279888\n",
       "4   0.664636  0.842189  1.277506  0.195862\n",
       "5   1.203121  2.128217 -0.095578  0.107313\n",
       "6   0.000000  0.000000 -0.398511  0.530923\n",
       "7  -0.702030 -0.515842 -0.432594  0.000000\n",
       "8   1.602506 -0.578821 -0.386948  0.517119\n",
       "9   0.377802  0.000000  0.000000  0.756031\n",
       "10  0.607319 -0.474547  0.396957  0.178727\n",
       "11 -0.813245  0.000000  0.416621  0.394159"
      ]
     },
     "execution_count": 63,
     "metadata": {},
     "output_type": "execute_result"
    }
   ],
   "source": [
    "sample_df2"
   ]
  },
  {
   "cell_type": "markdown",
   "id": "8b1bc2f8",
   "metadata": {},
   "source": [
    "Why didn't it change?"
   ]
  },
  {
   "cell_type": "markdown",
   "id": "806b5e1b",
   "metadata": {},
   "source": [
    "### Dummy Variables\n",
    "This is a handy dataframe tool to convert categorical variables into dummy/indicator variables. Let's add some categorical variables to sample_df2."
   ]
  },
  {
   "cell_type": "code",
   "execution_count": 54,
   "id": "2209e50f",
   "metadata": {},
   "outputs": [],
   "source": [
    "import pandas as pd\n",
    "pd.options.mode.chained_assignment = None  # default='warn'"
   ]
  },
  {
   "cell_type": "code",
   "execution_count": 55,
   "id": "0af83ed0",
   "metadata": {},
   "outputs": [],
   "source": [
    "categorical_df = sample_df2"
   ]
  },
  {
   "cell_type": "code",
   "execution_count": 59,
   "id": "f4efea53",
   "metadata": {},
   "outputs": [],
   "source": [
    "positive_index = sample_df2.B[sample_df2.B > 0].index\n",
    "negative_index = sample_df2.B[sample_df2.B < 0].index"
   ]
  },
  {
   "cell_type": "code",
   "execution_count": 60,
   "id": "cfc0d011",
   "metadata": {},
   "outputs": [],
   "source": [
    "categorical_df.B[positive_index] = 'Positive'\n",
    "categorical_df.B[negative_index] = 'Negative'"
   ]
  },
  {
   "cell_type": "code",
   "execution_count": 61,
   "id": "40c3a364",
   "metadata": {},
   "outputs": [
    {
     "data": {
      "text/html": [
       "<div>\n",
       "<style scoped>\n",
       "    .dataframe tbody tr th:only-of-type {\n",
       "        vertical-align: middle;\n",
       "    }\n",
       "\n",
       "    .dataframe tbody tr th {\n",
       "        vertical-align: top;\n",
       "    }\n",
       "\n",
       "    .dataframe thead th {\n",
       "        text-align: right;\n",
       "    }\n",
       "</style>\n",
       "<table border=\"1\" class=\"dataframe\">\n",
       "  <thead>\n",
       "    <tr style=\"text-align: right;\">\n",
       "      <th></th>\n",
       "      <th>A</th>\n",
       "      <th>B</th>\n",
       "      <th>C</th>\n",
       "      <th>D</th>\n",
       "    </tr>\n",
       "  </thead>\n",
       "  <tbody>\n",
       "    <tr>\n",
       "      <th>0</th>\n",
       "      <td>0.383964</td>\n",
       "      <td>Negative</td>\n",
       "      <td>1.484901</td>\n",
       "      <td>-0.285452</td>\n",
       "    </tr>\n",
       "    <tr>\n",
       "      <th>1</th>\n",
       "      <td>0.882779</td>\n",
       "      <td>Positive</td>\n",
       "      <td>1.268670</td>\n",
       "      <td>-0.535812</td>\n",
       "    </tr>\n",
       "    <tr>\n",
       "      <th>2</th>\n",
       "      <td>1.643004</td>\n",
       "      <td>Negative</td>\n",
       "      <td>-0.467345</td>\n",
       "      <td>0.265282</td>\n",
       "    </tr>\n",
       "    <tr>\n",
       "      <th>3</th>\n",
       "      <td>-0.429295</td>\n",
       "      <td>Negative</td>\n",
       "      <td>0.003509</td>\n",
       "      <td>0.279888</td>\n",
       "    </tr>\n",
       "    <tr>\n",
       "      <th>4</th>\n",
       "      <td>0.664636</td>\n",
       "      <td>Positive</td>\n",
       "      <td>1.277506</td>\n",
       "      <td>0.195862</td>\n",
       "    </tr>\n",
       "    <tr>\n",
       "      <th>5</th>\n",
       "      <td>1.203121</td>\n",
       "      <td>Positive</td>\n",
       "      <td>-0.095578</td>\n",
       "      <td>0.107313</td>\n",
       "    </tr>\n",
       "    <tr>\n",
       "      <th>6</th>\n",
       "      <td>2.000000</td>\n",
       "      <td>2.0</td>\n",
       "      <td>-0.398511</td>\n",
       "      <td>0.530923</td>\n",
       "    </tr>\n",
       "    <tr>\n",
       "      <th>7</th>\n",
       "      <td>-0.702030</td>\n",
       "      <td>Negative</td>\n",
       "      <td>-0.432594</td>\n",
       "      <td>2.000000</td>\n",
       "    </tr>\n",
       "    <tr>\n",
       "      <th>8</th>\n",
       "      <td>1.602506</td>\n",
       "      <td>Negative</td>\n",
       "      <td>-0.386948</td>\n",
       "      <td>0.517119</td>\n",
       "    </tr>\n",
       "    <tr>\n",
       "      <th>9</th>\n",
       "      <td>0.377802</td>\n",
       "      <td>2.0</td>\n",
       "      <td>2.000000</td>\n",
       "      <td>0.756031</td>\n",
       "    </tr>\n",
       "    <tr>\n",
       "      <th>10</th>\n",
       "      <td>0.607319</td>\n",
       "      <td>Negative</td>\n",
       "      <td>0.396957</td>\n",
       "      <td>0.178727</td>\n",
       "    </tr>\n",
       "    <tr>\n",
       "      <th>11</th>\n",
       "      <td>-0.813245</td>\n",
       "      <td>2.0</td>\n",
       "      <td>0.416621</td>\n",
       "      <td>0.394159</td>\n",
       "    </tr>\n",
       "  </tbody>\n",
       "</table>\n",
       "</div>"
      ],
      "text/plain": [
       "           A         B         C         D\n",
       "0   0.383964  Negative  1.484901 -0.285452\n",
       "1   0.882779  Positive  1.268670 -0.535812\n",
       "2   1.643004  Negative -0.467345  0.265282\n",
       "3  -0.429295  Negative  0.003509  0.279888\n",
       "4   0.664636  Positive  1.277506  0.195862\n",
       "5   1.203121  Positive -0.095578  0.107313\n",
       "6   2.000000       2.0 -0.398511  0.530923\n",
       "7  -0.702030  Negative -0.432594  2.000000\n",
       "8   1.602506  Negative -0.386948  0.517119\n",
       "9   0.377802       2.0  2.000000  0.756031\n",
       "10  0.607319  Negative  0.396957  0.178727\n",
       "11 -0.813245       2.0  0.416621  0.394159"
      ]
     },
     "execution_count": 61,
     "metadata": {},
     "output_type": "execute_result"
    }
   ],
   "source": [
    "categorical_df"
   ]
  },
  {
   "cell_type": "code",
   "execution_count": 64,
   "id": "e0da0794",
   "metadata": {},
   "outputs": [],
   "source": [
    "categorical_df = categorical_df.fillna(0)"
   ]
  },
  {
   "cell_type": "code",
   "execution_count": 65,
   "id": "6e77d6f3",
   "metadata": {},
   "outputs": [
    {
     "data": {
      "text/html": [
       "<div>\n",
       "<style scoped>\n",
       "    .dataframe tbody tr th:only-of-type {\n",
       "        vertical-align: middle;\n",
       "    }\n",
       "\n",
       "    .dataframe tbody tr th {\n",
       "        vertical-align: top;\n",
       "    }\n",
       "\n",
       "    .dataframe thead th {\n",
       "        text-align: right;\n",
       "    }\n",
       "</style>\n",
       "<table border=\"1\" class=\"dataframe\">\n",
       "  <thead>\n",
       "    <tr style=\"text-align: right;\">\n",
       "      <th></th>\n",
       "      <th>A</th>\n",
       "      <th>B</th>\n",
       "      <th>C</th>\n",
       "      <th>D</th>\n",
       "    </tr>\n",
       "  </thead>\n",
       "  <tbody>\n",
       "    <tr>\n",
       "      <th>0</th>\n",
       "      <td>0.383964</td>\n",
       "      <td>Negative</td>\n",
       "      <td>1.484901</td>\n",
       "      <td>-0.285452</td>\n",
       "    </tr>\n",
       "    <tr>\n",
       "      <th>1</th>\n",
       "      <td>0.882779</td>\n",
       "      <td>Positive</td>\n",
       "      <td>1.268670</td>\n",
       "      <td>-0.535812</td>\n",
       "    </tr>\n",
       "    <tr>\n",
       "      <th>2</th>\n",
       "      <td>1.643004</td>\n",
       "      <td>Negative</td>\n",
       "      <td>-0.467345</td>\n",
       "      <td>0.265282</td>\n",
       "    </tr>\n",
       "    <tr>\n",
       "      <th>3</th>\n",
       "      <td>-0.429295</td>\n",
       "      <td>Negative</td>\n",
       "      <td>0.003509</td>\n",
       "      <td>0.279888</td>\n",
       "    </tr>\n",
       "    <tr>\n",
       "      <th>4</th>\n",
       "      <td>0.664636</td>\n",
       "      <td>Positive</td>\n",
       "      <td>1.277506</td>\n",
       "      <td>0.195862</td>\n",
       "    </tr>\n",
       "  </tbody>\n",
       "</table>\n",
       "</div>"
      ],
      "text/plain": [
       "          A         B         C         D\n",
       "0  0.383964  Negative  1.484901 -0.285452\n",
       "1  0.882779  Positive  1.268670 -0.535812\n",
       "2  1.643004  Negative -0.467345  0.265282\n",
       "3 -0.429295  Negative  0.003509  0.279888\n",
       "4  0.664636  Positive  1.277506  0.195862"
      ]
     },
     "execution_count": 65,
     "metadata": {},
     "output_type": "execute_result"
    }
   ],
   "source": [
    "categorical_df.head()"
   ]
  },
  {
   "cell_type": "code",
   "execution_count": 66,
   "id": "ab3c73a4",
   "metadata": {},
   "outputs": [
    {
     "data": {
      "text/html": [
       "<div>\n",
       "<style scoped>\n",
       "    .dataframe tbody tr th:only-of-type {\n",
       "        vertical-align: middle;\n",
       "    }\n",
       "\n",
       "    .dataframe tbody tr th {\n",
       "        vertical-align: top;\n",
       "    }\n",
       "\n",
       "    .dataframe thead th {\n",
       "        text-align: right;\n",
       "    }\n",
       "</style>\n",
       "<table border=\"1\" class=\"dataframe\">\n",
       "  <thead>\n",
       "    <tr style=\"text-align: right;\">\n",
       "      <th></th>\n",
       "      <th>A</th>\n",
       "      <th>C</th>\n",
       "      <th>D</th>\n",
       "      <th>B_2.0</th>\n",
       "      <th>B_Negative</th>\n",
       "      <th>B_Positive</th>\n",
       "    </tr>\n",
       "  </thead>\n",
       "  <tbody>\n",
       "    <tr>\n",
       "      <th>0</th>\n",
       "      <td>0.383964</td>\n",
       "      <td>1.484901</td>\n",
       "      <td>-0.285452</td>\n",
       "      <td>0</td>\n",
       "      <td>1</td>\n",
       "      <td>0</td>\n",
       "    </tr>\n",
       "    <tr>\n",
       "      <th>1</th>\n",
       "      <td>0.882779</td>\n",
       "      <td>1.268670</td>\n",
       "      <td>-0.535812</td>\n",
       "      <td>0</td>\n",
       "      <td>0</td>\n",
       "      <td>1</td>\n",
       "    </tr>\n",
       "    <tr>\n",
       "      <th>2</th>\n",
       "      <td>1.643004</td>\n",
       "      <td>-0.467345</td>\n",
       "      <td>0.265282</td>\n",
       "      <td>0</td>\n",
       "      <td>1</td>\n",
       "      <td>0</td>\n",
       "    </tr>\n",
       "    <tr>\n",
       "      <th>3</th>\n",
       "      <td>-0.429295</td>\n",
       "      <td>0.003509</td>\n",
       "      <td>0.279888</td>\n",
       "      <td>0</td>\n",
       "      <td>1</td>\n",
       "      <td>0</td>\n",
       "    </tr>\n",
       "    <tr>\n",
       "      <th>4</th>\n",
       "      <td>0.664636</td>\n",
       "      <td>1.277506</td>\n",
       "      <td>0.195862</td>\n",
       "      <td>0</td>\n",
       "      <td>0</td>\n",
       "      <td>1</td>\n",
       "    </tr>\n",
       "  </tbody>\n",
       "</table>\n",
       "</div>"
      ],
      "text/plain": [
       "          A         C         D  B_2.0  B_Negative  B_Positive\n",
       "0  0.383964  1.484901 -0.285452      0           1           0\n",
       "1  0.882779  1.268670 -0.535812      0           0           1\n",
       "2  1.643004 -0.467345  0.265282      0           1           0\n",
       "3 -0.429295  0.003509  0.279888      0           1           0\n",
       "4  0.664636  1.277506  0.195862      0           0           1"
      ]
     },
     "execution_count": 66,
     "metadata": {},
     "output_type": "execute_result"
    }
   ],
   "source": [
    "pd.get_dummies( categorical_df, columns=['B'] ).head()"
   ]
  },
  {
   "cell_type": "code",
   "execution_count": 67,
   "id": "9fcd0229",
   "metadata": {},
   "outputs": [],
   "source": [
    "categorical_df = pd.get_dummies( categorical_df, columns=['B'] )"
   ]
  },
  {
   "cell_type": "markdown",
   "id": "d91bde04",
   "metadata": {},
   "source": [
    "## 4. Pandas Operations"
   ]
  },
  {
   "cell_type": "markdown",
   "id": "1c2c8581",
   "metadata": {},
   "source": [
    "We can perform basic descriptive statistics using .mean(), .min(), .max() or .describe().\n",
    "When you see a homework question starting with \"Describe your data set\", it is good practice to first run the .describe() command."
   ]
  },
  {
   "cell_type": "code",
   "execution_count": 68,
   "id": "fcc36639",
   "metadata": {},
   "outputs": [
    {
     "data": {
      "text/plain": [
       "A    0.451713\n",
       "B   -0.019998\n",
       "C    0.255599\n",
       "D    0.200337\n",
       "dtype: float64"
      ]
     },
     "execution_count": 68,
     "metadata": {},
     "output_type": "execute_result"
    }
   ],
   "source": [
    "sample_df2.mean() #A.mean"
   ]
  },
  {
   "cell_type": "code",
   "execution_count": 69,
   "id": "3e0d66dd",
   "metadata": {},
   "outputs": [
    {
     "data": {
      "text/plain": [
       "A   -0.813245\n",
       "B   -0.788867\n",
       "C   -0.467345\n",
       "D   -0.535812\n",
       "dtype: float64"
      ]
     },
     "execution_count": 69,
     "metadata": {},
     "output_type": "execute_result"
    }
   ],
   "source": [
    "sample_df2.min()"
   ]
  },
  {
   "cell_type": "code",
   "execution_count": 70,
   "id": "102c9fe2",
   "metadata": {},
   "outputs": [
    {
     "data": {
      "text/plain": [
       "A    1.643004\n",
       "B    2.128217\n",
       "C    1.484901\n",
       "D    0.756031\n",
       "dtype: float64"
      ]
     },
     "execution_count": 70,
     "metadata": {},
     "output_type": "execute_result"
    }
   ],
   "source": [
    "sample_df2.max()"
   ]
  },
  {
   "cell_type": "code",
   "execution_count": 71,
   "id": "a9d3d7a8",
   "metadata": {},
   "outputs": [
    {
     "data": {
      "text/html": [
       "<div>\n",
       "<style scoped>\n",
       "    .dataframe tbody tr th:only-of-type {\n",
       "        vertical-align: middle;\n",
       "    }\n",
       "\n",
       "    .dataframe tbody tr th {\n",
       "        vertical-align: top;\n",
       "    }\n",
       "\n",
       "    .dataframe thead th {\n",
       "        text-align: right;\n",
       "    }\n",
       "</style>\n",
       "<table border=\"1\" class=\"dataframe\">\n",
       "  <thead>\n",
       "    <tr style=\"text-align: right;\">\n",
       "      <th></th>\n",
       "      <th>A</th>\n",
       "      <th>B</th>\n",
       "      <th>C</th>\n",
       "      <th>D</th>\n",
       "    </tr>\n",
       "  </thead>\n",
       "  <tbody>\n",
       "    <tr>\n",
       "      <th>count</th>\n",
       "      <td>12.000000</td>\n",
       "      <td>12.000000</td>\n",
       "      <td>12.000000</td>\n",
       "      <td>12.000000</td>\n",
       "    </tr>\n",
       "    <tr>\n",
       "      <th>mean</th>\n",
       "      <td>0.451713</td>\n",
       "      <td>-0.019998</td>\n",
       "      <td>0.255599</td>\n",
       "      <td>0.200337</td>\n",
       "    </tr>\n",
       "    <tr>\n",
       "      <th>std</th>\n",
       "      <td>0.824896</td>\n",
       "      <td>0.821333</td>\n",
       "      <td>0.720914</td>\n",
       "      <td>0.355953</td>\n",
       "    </tr>\n",
       "    <tr>\n",
       "      <th>min</th>\n",
       "      <td>-0.813245</td>\n",
       "      <td>-0.788867</td>\n",
       "      <td>-0.467345</td>\n",
       "      <td>-0.535812</td>\n",
       "    </tr>\n",
       "    <tr>\n",
       "      <th>25%</th>\n",
       "      <td>-0.107324</td>\n",
       "      <td>-0.531587</td>\n",
       "      <td>-0.389839</td>\n",
       "      <td>0.080484</td>\n",
       "    </tr>\n",
       "    <tr>\n",
       "      <th>50%</th>\n",
       "      <td>0.495641</td>\n",
       "      <td>-0.200546</td>\n",
       "      <td>0.001754</td>\n",
       "      <td>0.230572</td>\n",
       "    </tr>\n",
       "    <tr>\n",
       "      <th>75%</th>\n",
       "      <td>0.962865</td>\n",
       "      <td>0.065483</td>\n",
       "      <td>0.629633</td>\n",
       "      <td>0.424899</td>\n",
       "    </tr>\n",
       "    <tr>\n",
       "      <th>max</th>\n",
       "      <td>1.643004</td>\n",
       "      <td>2.128217</td>\n",
       "      <td>1.484901</td>\n",
       "      <td>0.756031</td>\n",
       "    </tr>\n",
       "  </tbody>\n",
       "</table>\n",
       "</div>"
      ],
      "text/plain": [
       "               A          B          C          D\n",
       "count  12.000000  12.000000  12.000000  12.000000\n",
       "mean    0.451713  -0.019998   0.255599   0.200337\n",
       "std     0.824896   0.821333   0.720914   0.355953\n",
       "min    -0.813245  -0.788867  -0.467345  -0.535812\n",
       "25%    -0.107324  -0.531587  -0.389839   0.080484\n",
       "50%     0.495641  -0.200546   0.001754   0.230572\n",
       "75%     0.962865   0.065483   0.629633   0.424899\n",
       "max     1.643004   2.128217   1.484901   0.756031"
      ]
     },
     "execution_count": 71,
     "metadata": {},
     "output_type": "execute_result"
    }
   ],
   "source": [
    "sample_df2.describe()"
   ]
  },
  {
   "cell_type": "markdown",
   "id": "da0a2f52",
   "metadata": {},
   "source": [
    "## 5. Dataframe Merging"
   ]
  },
  {
   "cell_type": "markdown",
   "id": "8c6555a0",
   "metadata": {},
   "source": [
    "Because life is difficult, you will end up merging various data set in preparation to an ML application. Merging is never easy, always messy, seldom successful at first try."
   ]
  },
  {
   "cell_type": "markdown",
   "id": "1102c3fc",
   "metadata": {},
   "source": [
    "### Concatenating dataframes"
   ]
  },
  {
   "cell_type": "code",
   "execution_count": 72,
   "id": "5c5b307f",
   "metadata": {},
   "outputs": [
    {
     "data": {
      "text/html": [
       "<div>\n",
       "<style scoped>\n",
       "    .dataframe tbody tr th:only-of-type {\n",
       "        vertical-align: middle;\n",
       "    }\n",
       "\n",
       "    .dataframe tbody tr th {\n",
       "        vertical-align: top;\n",
       "    }\n",
       "\n",
       "    .dataframe thead th {\n",
       "        text-align: right;\n",
       "    }\n",
       "</style>\n",
       "<table border=\"1\" class=\"dataframe\">\n",
       "  <thead>\n",
       "    <tr style=\"text-align: right;\">\n",
       "      <th></th>\n",
       "      <th>A</th>\n",
       "      <th>B</th>\n",
       "      <th>C</th>\n",
       "      <th>D</th>\n",
       "    </tr>\n",
       "  </thead>\n",
       "  <tbody>\n",
       "    <tr>\n",
       "      <th>0</th>\n",
       "      <td>0.383964</td>\n",
       "      <td>-0.401091</td>\n",
       "      <td>1.484901</td>\n",
       "      <td>-0.285452</td>\n",
       "    </tr>\n",
       "    <tr>\n",
       "      <th>1</th>\n",
       "      <td>0.882779</td>\n",
       "      <td>0.261930</td>\n",
       "      <td>1.268670</td>\n",
       "      <td>-0.535812</td>\n",
       "    </tr>\n",
       "    <tr>\n",
       "      <th>2</th>\n",
       "      <td>1.643004</td>\n",
       "      <td>-0.788867</td>\n",
       "      <td>-0.467345</td>\n",
       "      <td>0.265282</td>\n",
       "    </tr>\n",
       "    <tr>\n",
       "      <th>3</th>\n",
       "      <td>-0.429295</td>\n",
       "      <td>-0.713140</td>\n",
       "      <td>0.003509</td>\n",
       "      <td>0.279888</td>\n",
       "    </tr>\n",
       "    <tr>\n",
       "      <th>4</th>\n",
       "      <td>0.664636</td>\n",
       "      <td>0.842189</td>\n",
       "      <td>1.277506</td>\n",
       "      <td>0.195862</td>\n",
       "    </tr>\n",
       "    <tr>\n",
       "      <th>5</th>\n",
       "      <td>1.203121</td>\n",
       "      <td>2.128217</td>\n",
       "      <td>-0.095578</td>\n",
       "      <td>0.107313</td>\n",
       "    </tr>\n",
       "    <tr>\n",
       "      <th>6</th>\n",
       "      <td>-1.291218</td>\n",
       "      <td>-1.180055</td>\n",
       "      <td>-0.398511</td>\n",
       "      <td>0.530923</td>\n",
       "    </tr>\n",
       "    <tr>\n",
       "      <th>7</th>\n",
       "      <td>-0.702030</td>\n",
       "      <td>-0.515842</td>\n",
       "      <td>-0.432594</td>\n",
       "      <td>-2.442934</td>\n",
       "    </tr>\n",
       "    <tr>\n",
       "      <th>8</th>\n",
       "      <td>1.602506</td>\n",
       "      <td>-0.578821</td>\n",
       "      <td>-0.386948</td>\n",
       "      <td>0.517119</td>\n",
       "    </tr>\n",
       "    <tr>\n",
       "      <th>9</th>\n",
       "      <td>0.377802</td>\n",
       "      <td>-1.499028</td>\n",
       "      <td>-1.494981</td>\n",
       "      <td>0.756031</td>\n",
       "    </tr>\n",
       "    <tr>\n",
       "      <th>10</th>\n",
       "      <td>0.607319</td>\n",
       "      <td>-0.474547</td>\n",
       "      <td>0.396957</td>\n",
       "      <td>0.178727</td>\n",
       "    </tr>\n",
       "    <tr>\n",
       "      <th>11</th>\n",
       "      <td>-0.813245</td>\n",
       "      <td>-1.183351</td>\n",
       "      <td>0.416621</td>\n",
       "      <td>0.394159</td>\n",
       "    </tr>\n",
       "  </tbody>\n",
       "</table>\n",
       "</div>"
      ],
      "text/plain": [
       "           A         B         C         D\n",
       "0   0.383964 -0.401091  1.484901 -0.285452\n",
       "1   0.882779  0.261930  1.268670 -0.535812\n",
       "2   1.643004 -0.788867 -0.467345  0.265282\n",
       "3  -0.429295 -0.713140  0.003509  0.279888\n",
       "4   0.664636  0.842189  1.277506  0.195862\n",
       "5   1.203121  2.128217 -0.095578  0.107313\n",
       "6  -1.291218 -1.180055 -0.398511  0.530923\n",
       "7  -0.702030 -0.515842 -0.432594 -2.442934\n",
       "8   1.602506 -0.578821 -0.386948  0.517119\n",
       "9   0.377802 -1.499028 -1.494981  0.756031\n",
       "10  0.607319 -0.474547  0.396957  0.178727\n",
       "11 -0.813245 -1.183351  0.416621  0.394159"
      ]
     },
     "execution_count": 72,
     "metadata": {},
     "output_type": "execute_result"
    }
   ],
   "source": [
    "sample_df"
   ]
  },
  {
   "cell_type": "code",
   "execution_count": 73,
   "id": "5dcac5d0",
   "metadata": {},
   "outputs": [],
   "source": [
    "pd.concat?"
   ]
  },
  {
   "cell_type": "code",
   "execution_count": 74,
   "id": "e4572424",
   "metadata": {},
   "outputs": [
    {
     "name": "stderr",
     "output_type": "stream",
     "text": [
      "/var/folders/d0/xtw4cvdd52nfnnxn7pz_jdfw0000gn/T/ipykernel_16675/945766093.py:1: FutureWarning: In a future version of pandas all arguments of concat except for the argument 'objs' will be keyword-only.\n",
      "  new_df = pd.concat(sample_df, sample_df2)\n"
     ]
    },
    {
     "ename": "TypeError",
     "evalue": "first argument must be an iterable of pandas objects, you passed an object of type \"DataFrame\"",
     "output_type": "error",
     "traceback": [
      "\u001b[0;31m---------------------------------------------------------------------------\u001b[0m",
      "\u001b[0;31mTypeError\u001b[0m                                 Traceback (most recent call last)",
      "Input \u001b[0;32mIn [74]\u001b[0m, in \u001b[0;36m<cell line: 1>\u001b[0;34m()\u001b[0m\n\u001b[0;32m----> 1\u001b[0m new_df \u001b[38;5;241m=\u001b[39m \u001b[43mpd\u001b[49m\u001b[38;5;241;43m.\u001b[39;49m\u001b[43mconcat\u001b[49m\u001b[43m(\u001b[49m\u001b[43msample_df\u001b[49m\u001b[43m,\u001b[49m\u001b[43m \u001b[49m\u001b[43msample_df2\u001b[49m\u001b[43m)\u001b[49m\n",
      "File \u001b[0;32m~/Library/Python/3.8/lib/python/site-packages/pandas/util/_decorators.py:311\u001b[0m, in \u001b[0;36mdeprecate_nonkeyword_arguments.<locals>.decorate.<locals>.wrapper\u001b[0;34m(*args, **kwargs)\u001b[0m\n\u001b[1;32m    305\u001b[0m \u001b[38;5;28;01mif\u001b[39;00m \u001b[38;5;28mlen\u001b[39m(args) \u001b[38;5;241m>\u001b[39m num_allow_args:\n\u001b[1;32m    306\u001b[0m     warnings\u001b[38;5;241m.\u001b[39mwarn(\n\u001b[1;32m    307\u001b[0m         msg\u001b[38;5;241m.\u001b[39mformat(arguments\u001b[38;5;241m=\u001b[39marguments),\n\u001b[1;32m    308\u001b[0m         \u001b[38;5;167;01mFutureWarning\u001b[39;00m,\n\u001b[1;32m    309\u001b[0m         stacklevel\u001b[38;5;241m=\u001b[39mstacklevel,\n\u001b[1;32m    310\u001b[0m     )\n\u001b[0;32m--> 311\u001b[0m \u001b[38;5;28;01mreturn\u001b[39;00m \u001b[43mfunc\u001b[49m\u001b[43m(\u001b[49m\u001b[38;5;241;43m*\u001b[39;49m\u001b[43margs\u001b[49m\u001b[43m,\u001b[49m\u001b[43m \u001b[49m\u001b[38;5;241;43m*\u001b[39;49m\u001b[38;5;241;43m*\u001b[39;49m\u001b[43mkwargs\u001b[49m\u001b[43m)\u001b[49m\n",
      "File \u001b[0;32m~/Library/Python/3.8/lib/python/site-packages/pandas/core/reshape/concat.py:346\u001b[0m, in \u001b[0;36mconcat\u001b[0;34m(objs, axis, join, ignore_index, keys, levels, names, verify_integrity, sort, copy)\u001b[0m\n\u001b[1;32m    142\u001b[0m \u001b[38;5;129m@deprecate_nonkeyword_arguments\u001b[39m(version\u001b[38;5;241m=\u001b[39m\u001b[38;5;28;01mNone\u001b[39;00m, allowed_args\u001b[38;5;241m=\u001b[39m[\u001b[38;5;124m\"\u001b[39m\u001b[38;5;124mobjs\u001b[39m\u001b[38;5;124m\"\u001b[39m])\n\u001b[1;32m    143\u001b[0m \u001b[38;5;28;01mdef\u001b[39;00m \u001b[38;5;21mconcat\u001b[39m(\n\u001b[1;32m    144\u001b[0m     objs: Iterable[NDFrame] \u001b[38;5;241m|\u001b[39m Mapping[Hashable, NDFrame],\n\u001b[0;32m   (...)\u001b[0m\n\u001b[1;32m    153\u001b[0m     copy: \u001b[38;5;28mbool\u001b[39m \u001b[38;5;241m=\u001b[39m \u001b[38;5;28;01mTrue\u001b[39;00m,\n\u001b[1;32m    154\u001b[0m ) \u001b[38;5;241m-\u001b[39m\u001b[38;5;241m>\u001b[39m DataFrame \u001b[38;5;241m|\u001b[39m Series:\n\u001b[1;32m    155\u001b[0m     \u001b[38;5;124;03m\"\"\"\u001b[39;00m\n\u001b[1;32m    156\u001b[0m \u001b[38;5;124;03m    Concatenate pandas objects along a particular axis with optional set logic\u001b[39;00m\n\u001b[1;32m    157\u001b[0m \u001b[38;5;124;03m    along the other axes.\u001b[39;00m\n\u001b[0;32m   (...)\u001b[0m\n\u001b[1;32m    344\u001b[0m \u001b[38;5;124;03m    ValueError: Indexes have overlapping values: ['a']\u001b[39;00m\n\u001b[1;32m    345\u001b[0m \u001b[38;5;124;03m    \"\"\"\u001b[39;00m\n\u001b[0;32m--> 346\u001b[0m     op \u001b[38;5;241m=\u001b[39m \u001b[43m_Concatenator\u001b[49m\u001b[43m(\u001b[49m\n\u001b[1;32m    347\u001b[0m \u001b[43m        \u001b[49m\u001b[43mobjs\u001b[49m\u001b[43m,\u001b[49m\n\u001b[1;32m    348\u001b[0m \u001b[43m        \u001b[49m\u001b[43maxis\u001b[49m\u001b[38;5;241;43m=\u001b[39;49m\u001b[43maxis\u001b[49m\u001b[43m,\u001b[49m\n\u001b[1;32m    349\u001b[0m \u001b[43m        \u001b[49m\u001b[43mignore_index\u001b[49m\u001b[38;5;241;43m=\u001b[39;49m\u001b[43mignore_index\u001b[49m\u001b[43m,\u001b[49m\n\u001b[1;32m    350\u001b[0m \u001b[43m        \u001b[49m\u001b[43mjoin\u001b[49m\u001b[38;5;241;43m=\u001b[39;49m\u001b[43mjoin\u001b[49m\u001b[43m,\u001b[49m\n\u001b[1;32m    351\u001b[0m \u001b[43m        \u001b[49m\u001b[43mkeys\u001b[49m\u001b[38;5;241;43m=\u001b[39;49m\u001b[43mkeys\u001b[49m\u001b[43m,\u001b[49m\n\u001b[1;32m    352\u001b[0m \u001b[43m        \u001b[49m\u001b[43mlevels\u001b[49m\u001b[38;5;241;43m=\u001b[39;49m\u001b[43mlevels\u001b[49m\u001b[43m,\u001b[49m\n\u001b[1;32m    353\u001b[0m \u001b[43m        \u001b[49m\u001b[43mnames\u001b[49m\u001b[38;5;241;43m=\u001b[39;49m\u001b[43mnames\u001b[49m\u001b[43m,\u001b[49m\n\u001b[1;32m    354\u001b[0m \u001b[43m        \u001b[49m\u001b[43mverify_integrity\u001b[49m\u001b[38;5;241;43m=\u001b[39;49m\u001b[43mverify_integrity\u001b[49m\u001b[43m,\u001b[49m\n\u001b[1;32m    355\u001b[0m \u001b[43m        \u001b[49m\u001b[43mcopy\u001b[49m\u001b[38;5;241;43m=\u001b[39;49m\u001b[43mcopy\u001b[49m\u001b[43m,\u001b[49m\n\u001b[1;32m    356\u001b[0m \u001b[43m        \u001b[49m\u001b[43msort\u001b[49m\u001b[38;5;241;43m=\u001b[39;49m\u001b[43msort\u001b[49m\u001b[43m,\u001b[49m\n\u001b[1;32m    357\u001b[0m \u001b[43m    \u001b[49m\u001b[43m)\u001b[49m\n\u001b[1;32m    359\u001b[0m     \u001b[38;5;28;01mreturn\u001b[39;00m op\u001b[38;5;241m.\u001b[39mget_result()\n",
      "File \u001b[0;32m~/Library/Python/3.8/lib/python/site-packages/pandas/core/reshape/concat.py:381\u001b[0m, in \u001b[0;36m_Concatenator.__init__\u001b[0;34m(self, objs, axis, join, keys, levels, names, ignore_index, verify_integrity, copy, sort)\u001b[0m\n\u001b[1;32m    367\u001b[0m \u001b[38;5;28;01mdef\u001b[39;00m \u001b[38;5;21m__init__\u001b[39m(\n\u001b[1;32m    368\u001b[0m     \u001b[38;5;28mself\u001b[39m,\n\u001b[1;32m    369\u001b[0m     objs: Iterable[NDFrame] \u001b[38;5;241m|\u001b[39m Mapping[Hashable, NDFrame],\n\u001b[0;32m   (...)\u001b[0m\n\u001b[1;32m    378\u001b[0m     sort\u001b[38;5;241m=\u001b[39m\u001b[38;5;28;01mFalse\u001b[39;00m,\n\u001b[1;32m    379\u001b[0m ):\n\u001b[1;32m    380\u001b[0m     \u001b[38;5;28;01mif\u001b[39;00m \u001b[38;5;28misinstance\u001b[39m(objs, (ABCSeries, ABCDataFrame, \u001b[38;5;28mstr\u001b[39m)):\n\u001b[0;32m--> 381\u001b[0m         \u001b[38;5;28;01mraise\u001b[39;00m \u001b[38;5;167;01mTypeError\u001b[39;00m(\n\u001b[1;32m    382\u001b[0m             \u001b[38;5;124m\"\u001b[39m\u001b[38;5;124mfirst argument must be an iterable of pandas \u001b[39m\u001b[38;5;124m\"\u001b[39m\n\u001b[1;32m    383\u001b[0m             \u001b[38;5;124mf\u001b[39m\u001b[38;5;124m'\u001b[39m\u001b[38;5;124mobjects, you passed an object of type \u001b[39m\u001b[38;5;124m\"\u001b[39m\u001b[38;5;132;01m{\u001b[39;00m\u001b[38;5;28mtype\u001b[39m(objs)\u001b[38;5;241m.\u001b[39m\u001b[38;5;18m__name__\u001b[39m\u001b[38;5;132;01m}\u001b[39;00m\u001b[38;5;124m\"\u001b[39m\u001b[38;5;124m'\u001b[39m\n\u001b[1;32m    384\u001b[0m         )\n\u001b[1;32m    386\u001b[0m     \u001b[38;5;28;01mif\u001b[39;00m join \u001b[38;5;241m==\u001b[39m \u001b[38;5;124m\"\u001b[39m\u001b[38;5;124mouter\u001b[39m\u001b[38;5;124m\"\u001b[39m:\n\u001b[1;32m    387\u001b[0m         \u001b[38;5;28mself\u001b[39m\u001b[38;5;241m.\u001b[39mintersect \u001b[38;5;241m=\u001b[39m \u001b[38;5;28;01mFalse\u001b[39;00m\n",
      "\u001b[0;31mTypeError\u001b[0m: first argument must be an iterable of pandas objects, you passed an object of type \"DataFrame\""
     ]
    }
   ],
   "source": [
    "new_df = pd.concat(sample_df, sample_df2)"
   ]
  },
  {
   "cell_type": "markdown",
   "id": "551555b6",
   "metadata": {},
   "source": [
    "🤦🏻‍♀️ I told you never easy!"
   ]
  },
  {
   "cell_type": "code",
   "execution_count": 76,
   "id": "ee57efe4",
   "metadata": {},
   "outputs": [],
   "source": [
    "new_df = pd.concat([sample_df, sample_df2])"
   ]
  },
  {
   "cell_type": "code",
   "execution_count": 77,
   "id": "5212d478",
   "metadata": {},
   "outputs": [
    {
     "data": {
      "text/html": [
       "<div>\n",
       "<style scoped>\n",
       "    .dataframe tbody tr th:only-of-type {\n",
       "        vertical-align: middle;\n",
       "    }\n",
       "\n",
       "    .dataframe tbody tr th {\n",
       "        vertical-align: top;\n",
       "    }\n",
       "\n",
       "    .dataframe thead th {\n",
       "        text-align: right;\n",
       "    }\n",
       "</style>\n",
       "<table border=\"1\" class=\"dataframe\">\n",
       "  <thead>\n",
       "    <tr style=\"text-align: right;\">\n",
       "      <th></th>\n",
       "      <th>A</th>\n",
       "      <th>B</th>\n",
       "      <th>C</th>\n",
       "      <th>D</th>\n",
       "    </tr>\n",
       "  </thead>\n",
       "  <tbody>\n",
       "    <tr>\n",
       "      <th>0</th>\n",
       "      <td>0.383964</td>\n",
       "      <td>-0.401091</td>\n",
       "      <td>1.484901</td>\n",
       "      <td>-0.285452</td>\n",
       "    </tr>\n",
       "    <tr>\n",
       "      <th>1</th>\n",
       "      <td>0.882779</td>\n",
       "      <td>0.261930</td>\n",
       "      <td>1.268670</td>\n",
       "      <td>-0.535812</td>\n",
       "    </tr>\n",
       "    <tr>\n",
       "      <th>2</th>\n",
       "      <td>1.643004</td>\n",
       "      <td>-0.788867</td>\n",
       "      <td>-0.467345</td>\n",
       "      <td>0.265282</td>\n",
       "    </tr>\n",
       "    <tr>\n",
       "      <th>3</th>\n",
       "      <td>-0.429295</td>\n",
       "      <td>-0.713140</td>\n",
       "      <td>0.003509</td>\n",
       "      <td>0.279888</td>\n",
       "    </tr>\n",
       "    <tr>\n",
       "      <th>4</th>\n",
       "      <td>0.664636</td>\n",
       "      <td>0.842189</td>\n",
       "      <td>1.277506</td>\n",
       "      <td>0.195862</td>\n",
       "    </tr>\n",
       "  </tbody>\n",
       "</table>\n",
       "</div>"
      ],
      "text/plain": [
       "          A         B         C         D\n",
       "0  0.383964 -0.401091  1.484901 -0.285452\n",
       "1  0.882779  0.261930  1.268670 -0.535812\n",
       "2  1.643004 -0.788867 -0.467345  0.265282\n",
       "3 -0.429295 -0.713140  0.003509  0.279888\n",
       "4  0.664636  0.842189  1.277506  0.195862"
      ]
     },
     "execution_count": 77,
     "metadata": {},
     "output_type": "execute_result"
    }
   ],
   "source": [
    "new_df.head()"
   ]
  },
  {
   "cell_type": "code",
   "execution_count": 78,
   "id": "104e02ea",
   "metadata": {},
   "outputs": [
    {
     "data": {
      "text/html": [
       "<div>\n",
       "<style scoped>\n",
       "    .dataframe tbody tr th:only-of-type {\n",
       "        vertical-align: middle;\n",
       "    }\n",
       "\n",
       "    .dataframe tbody tr th {\n",
       "        vertical-align: top;\n",
       "    }\n",
       "\n",
       "    .dataframe thead th {\n",
       "        text-align: right;\n",
       "    }\n",
       "</style>\n",
       "<table border=\"1\" class=\"dataframe\">\n",
       "  <thead>\n",
       "    <tr style=\"text-align: right;\">\n",
       "      <th></th>\n",
       "      <th>A</th>\n",
       "      <th>B</th>\n",
       "      <th>C</th>\n",
       "      <th>D</th>\n",
       "    </tr>\n",
       "  </thead>\n",
       "  <tbody>\n",
       "    <tr>\n",
       "      <th>0</th>\n",
       "      <td>0.383964</td>\n",
       "      <td>-0.401091</td>\n",
       "      <td>1.484901</td>\n",
       "      <td>-0.285452</td>\n",
       "    </tr>\n",
       "    <tr>\n",
       "      <th>1</th>\n",
       "      <td>0.882779</td>\n",
       "      <td>0.261930</td>\n",
       "      <td>1.268670</td>\n",
       "      <td>-0.535812</td>\n",
       "    </tr>\n",
       "    <tr>\n",
       "      <th>2</th>\n",
       "      <td>1.643004</td>\n",
       "      <td>-0.788867</td>\n",
       "      <td>-0.467345</td>\n",
       "      <td>0.265282</td>\n",
       "    </tr>\n",
       "    <tr>\n",
       "      <th>3</th>\n",
       "      <td>-0.429295</td>\n",
       "      <td>-0.713140</td>\n",
       "      <td>0.003509</td>\n",
       "      <td>0.279888</td>\n",
       "    </tr>\n",
       "    <tr>\n",
       "      <th>4</th>\n",
       "      <td>0.664636</td>\n",
       "      <td>0.842189</td>\n",
       "      <td>1.277506</td>\n",
       "      <td>0.195862</td>\n",
       "    </tr>\n",
       "  </tbody>\n",
       "</table>\n",
       "</div>"
      ],
      "text/plain": [
       "          A         B         C         D\n",
       "0  0.383964 -0.401091  1.484901 -0.285452\n",
       "1  0.882779  0.261930  1.268670 -0.535812\n",
       "2  1.643004 -0.788867 -0.467345  0.265282\n",
       "3 -0.429295 -0.713140  0.003509  0.279888\n",
       "4  0.664636  0.842189  1.277506  0.195862"
      ]
     },
     "execution_count": 78,
     "metadata": {},
     "output_type": "execute_result"
    }
   ],
   "source": [
    "sample_df2.head()"
   ]
  },
  {
   "cell_type": "code",
   "execution_count": 79,
   "id": "66ba82d0",
   "metadata": {},
   "outputs": [
    {
     "data": {
      "text/html": [
       "<div>\n",
       "<style scoped>\n",
       "    .dataframe tbody tr th:only-of-type {\n",
       "        vertical-align: middle;\n",
       "    }\n",
       "\n",
       "    .dataframe tbody tr th {\n",
       "        vertical-align: top;\n",
       "    }\n",
       "\n",
       "    .dataframe thead th {\n",
       "        text-align: right;\n",
       "    }\n",
       "</style>\n",
       "<table border=\"1\" class=\"dataframe\">\n",
       "  <thead>\n",
       "    <tr style=\"text-align: right;\">\n",
       "      <th></th>\n",
       "      <th>A</th>\n",
       "      <th>B</th>\n",
       "      <th>C</th>\n",
       "      <th>D</th>\n",
       "    </tr>\n",
       "  </thead>\n",
       "  <tbody>\n",
       "    <tr>\n",
       "      <th>0</th>\n",
       "      <td>0.383964</td>\n",
       "      <td>-0.401091</td>\n",
       "      <td>1.484901</td>\n",
       "      <td>-0.285452</td>\n",
       "    </tr>\n",
       "    <tr>\n",
       "      <th>1</th>\n",
       "      <td>0.882779</td>\n",
       "      <td>0.261930</td>\n",
       "      <td>1.268670</td>\n",
       "      <td>-0.535812</td>\n",
       "    </tr>\n",
       "    <tr>\n",
       "      <th>2</th>\n",
       "      <td>1.643004</td>\n",
       "      <td>-0.788867</td>\n",
       "      <td>-0.467345</td>\n",
       "      <td>0.265282</td>\n",
       "    </tr>\n",
       "    <tr>\n",
       "      <th>3</th>\n",
       "      <td>-0.429295</td>\n",
       "      <td>-0.713140</td>\n",
       "      <td>0.003509</td>\n",
       "      <td>0.279888</td>\n",
       "    </tr>\n",
       "    <tr>\n",
       "      <th>4</th>\n",
       "      <td>0.664636</td>\n",
       "      <td>0.842189</td>\n",
       "      <td>1.277506</td>\n",
       "      <td>0.195862</td>\n",
       "    </tr>\n",
       "  </tbody>\n",
       "</table>\n",
       "</div>"
      ],
      "text/plain": [
       "          A         B         C         D\n",
       "0  0.383964 -0.401091  1.484901 -0.285452\n",
       "1  0.882779  0.261930  1.268670 -0.535812\n",
       "2  1.643004 -0.788867 -0.467345  0.265282\n",
       "3 -0.429295 -0.713140  0.003509  0.279888\n",
       "4  0.664636  0.842189  1.277506  0.195862"
      ]
     },
     "execution_count": 79,
     "metadata": {},
     "output_type": "execute_result"
    }
   ],
   "source": [
    "sample_df.head()"
   ]
  },
  {
   "cell_type": "code",
   "execution_count": 81,
   "id": "86699cda",
   "metadata": {},
   "outputs": [
    {
     "data": {
      "text/html": [
       "<div>\n",
       "<style scoped>\n",
       "    .dataframe tbody tr th:only-of-type {\n",
       "        vertical-align: middle;\n",
       "    }\n",
       "\n",
       "    .dataframe tbody tr th {\n",
       "        vertical-align: top;\n",
       "    }\n",
       "\n",
       "    .dataframe thead th {\n",
       "        text-align: right;\n",
       "    }\n",
       "</style>\n",
       "<table border=\"1\" class=\"dataframe\">\n",
       "  <thead>\n",
       "    <tr style=\"text-align: right;\">\n",
       "      <th></th>\n",
       "      <th>A</th>\n",
       "      <th>B</th>\n",
       "      <th>C</th>\n",
       "      <th>D</th>\n",
       "    </tr>\n",
       "  </thead>\n",
       "  <tbody>\n",
       "    <tr>\n",
       "      <th>7</th>\n",
       "      <td>-0.702030</td>\n",
       "      <td>-0.515842</td>\n",
       "      <td>-0.432594</td>\n",
       "      <td>0.000000</td>\n",
       "    </tr>\n",
       "    <tr>\n",
       "      <th>8</th>\n",
       "      <td>1.602506</td>\n",
       "      <td>-0.578821</td>\n",
       "      <td>-0.386948</td>\n",
       "      <td>0.517119</td>\n",
       "    </tr>\n",
       "    <tr>\n",
       "      <th>9</th>\n",
       "      <td>0.377802</td>\n",
       "      <td>0.000000</td>\n",
       "      <td>0.000000</td>\n",
       "      <td>0.756031</td>\n",
       "    </tr>\n",
       "    <tr>\n",
       "      <th>10</th>\n",
       "      <td>0.607319</td>\n",
       "      <td>-0.474547</td>\n",
       "      <td>0.396957</td>\n",
       "      <td>0.178727</td>\n",
       "    </tr>\n",
       "    <tr>\n",
       "      <th>11</th>\n",
       "      <td>-0.813245</td>\n",
       "      <td>0.000000</td>\n",
       "      <td>0.416621</td>\n",
       "      <td>0.394159</td>\n",
       "    </tr>\n",
       "  </tbody>\n",
       "</table>\n",
       "</div>"
      ],
      "text/plain": [
       "           A         B         C         D\n",
       "7  -0.702030 -0.515842 -0.432594  0.000000\n",
       "8   1.602506 -0.578821 -0.386948  0.517119\n",
       "9   0.377802  0.000000  0.000000  0.756031\n",
       "10  0.607319 -0.474547  0.396957  0.178727\n",
       "11 -0.813245  0.000000  0.416621  0.394159"
      ]
     },
     "execution_count": 81,
     "metadata": {},
     "output_type": "execute_result"
    }
   ],
   "source": [
    "sample_df2.tail()"
   ]
  },
  {
   "cell_type": "code",
   "execution_count": 84,
   "id": "877dec3c",
   "metadata": {},
   "outputs": [
    {
     "data": {
      "text/html": [
       "<div>\n",
       "<style scoped>\n",
       "    .dataframe tbody tr th:only-of-type {\n",
       "        vertical-align: middle;\n",
       "    }\n",
       "\n",
       "    .dataframe tbody tr th {\n",
       "        vertical-align: top;\n",
       "    }\n",
       "\n",
       "    .dataframe thead th {\n",
       "        text-align: right;\n",
       "    }\n",
       "</style>\n",
       "<table border=\"1\" class=\"dataframe\">\n",
       "  <thead>\n",
       "    <tr style=\"text-align: right;\">\n",
       "      <th></th>\n",
       "      <th>A</th>\n",
       "      <th>B</th>\n",
       "      <th>C</th>\n",
       "      <th>D</th>\n",
       "    </tr>\n",
       "  </thead>\n",
       "  <tbody>\n",
       "    <tr>\n",
       "      <th>0</th>\n",
       "      <td>True</td>\n",
       "      <td>True</td>\n",
       "      <td>True</td>\n",
       "      <td>True</td>\n",
       "    </tr>\n",
       "    <tr>\n",
       "      <th>1</th>\n",
       "      <td>True</td>\n",
       "      <td>True</td>\n",
       "      <td>True</td>\n",
       "      <td>True</td>\n",
       "    </tr>\n",
       "    <tr>\n",
       "      <th>2</th>\n",
       "      <td>True</td>\n",
       "      <td>True</td>\n",
       "      <td>True</td>\n",
       "      <td>True</td>\n",
       "    </tr>\n",
       "    <tr>\n",
       "      <th>3</th>\n",
       "      <td>True</td>\n",
       "      <td>True</td>\n",
       "      <td>True</td>\n",
       "      <td>True</td>\n",
       "    </tr>\n",
       "    <tr>\n",
       "      <th>4</th>\n",
       "      <td>True</td>\n",
       "      <td>True</td>\n",
       "      <td>True</td>\n",
       "      <td>True</td>\n",
       "    </tr>\n",
       "  </tbody>\n",
       "</table>\n",
       "</div>"
      ],
      "text/plain": [
       "      A     B     C     D\n",
       "0  True  True  True  True\n",
       "1  True  True  True  True\n",
       "2  True  True  True  True\n",
       "3  True  True  True  True\n",
       "4  True  True  True  True"
      ]
     },
     "execution_count": 84,
     "metadata": {},
     "output_type": "execute_result"
    }
   ],
   "source": [
    "new_df.head() == sample_df2.head()"
   ]
  },
  {
   "cell_type": "markdown",
   "id": "e2eb0363",
   "metadata": {},
   "source": [
    "What did concat do?"
   ]
  },
  {
   "cell_type": "markdown",
   "id": "3bdfae6b",
   "metadata": {},
   "source": [
    "### Merging the dataframes"
   ]
  },
  {
   "cell_type": "markdown",
   "id": "49ba680f",
   "metadata": {},
   "source": [
    "Merging is a directional way of combining data frames."
   ]
  },
  {
   "cell_type": "code",
   "execution_count": 85,
   "id": "6ad36365",
   "metadata": {},
   "outputs": [],
   "source": [
    "left = pd.DataFrame({\"key\": [\"val\", \"val\"], \"left_val\": [1, 2]})"
   ]
  },
  {
   "cell_type": "code",
   "execution_count": 86,
   "id": "599ab4b2",
   "metadata": {},
   "outputs": [
    {
     "data": {
      "text/html": [
       "<div>\n",
       "<style scoped>\n",
       "    .dataframe tbody tr th:only-of-type {\n",
       "        vertical-align: middle;\n",
       "    }\n",
       "\n",
       "    .dataframe tbody tr th {\n",
       "        vertical-align: top;\n",
       "    }\n",
       "\n",
       "    .dataframe thead th {\n",
       "        text-align: right;\n",
       "    }\n",
       "</style>\n",
       "<table border=\"1\" class=\"dataframe\">\n",
       "  <thead>\n",
       "    <tr style=\"text-align: right;\">\n",
       "      <th></th>\n",
       "      <th>key</th>\n",
       "      <th>left_val</th>\n",
       "    </tr>\n",
       "  </thead>\n",
       "  <tbody>\n",
       "    <tr>\n",
       "      <th>0</th>\n",
       "      <td>val</td>\n",
       "      <td>1</td>\n",
       "    </tr>\n",
       "    <tr>\n",
       "      <th>1</th>\n",
       "      <td>val</td>\n",
       "      <td>2</td>\n",
       "    </tr>\n",
       "  </tbody>\n",
       "</table>\n",
       "</div>"
      ],
      "text/plain": [
       "   key  left_val\n",
       "0  val         1\n",
       "1  val         2"
      ]
     },
     "execution_count": 86,
     "metadata": {},
     "output_type": "execute_result"
    }
   ],
   "source": [
    "left"
   ]
  },
  {
   "cell_type": "code",
   "execution_count": 87,
   "id": "1e64a47d",
   "metadata": {},
   "outputs": [],
   "source": [
    "right = pd.DataFrame({\"key\": [\"val\", \"val\"], \"right_val\": [3, 4]})"
   ]
  },
  {
   "cell_type": "code",
   "execution_count": 88,
   "id": "4630173f",
   "metadata": {},
   "outputs": [
    {
     "data": {
      "text/html": [
       "<div>\n",
       "<style scoped>\n",
       "    .dataframe tbody tr th:only-of-type {\n",
       "        vertical-align: middle;\n",
       "    }\n",
       "\n",
       "    .dataframe tbody tr th {\n",
       "        vertical-align: top;\n",
       "    }\n",
       "\n",
       "    .dataframe thead th {\n",
       "        text-align: right;\n",
       "    }\n",
       "</style>\n",
       "<table border=\"1\" class=\"dataframe\">\n",
       "  <thead>\n",
       "    <tr style=\"text-align: right;\">\n",
       "      <th></th>\n",
       "      <th>key</th>\n",
       "      <th>right_val</th>\n",
       "    </tr>\n",
       "  </thead>\n",
       "  <tbody>\n",
       "    <tr>\n",
       "      <th>0</th>\n",
       "      <td>val</td>\n",
       "      <td>3</td>\n",
       "    </tr>\n",
       "    <tr>\n",
       "      <th>1</th>\n",
       "      <td>val</td>\n",
       "      <td>4</td>\n",
       "    </tr>\n",
       "  </tbody>\n",
       "</table>\n",
       "</div>"
      ],
      "text/plain": [
       "   key  right_val\n",
       "0  val          3\n",
       "1  val          4"
      ]
     },
     "execution_count": 88,
     "metadata": {},
     "output_type": "execute_result"
    }
   ],
   "source": [
    "right"
   ]
  },
  {
   "cell_type": "code",
   "execution_count": 89,
   "id": "2137d050",
   "metadata": {},
   "outputs": [
    {
     "data": {
      "text/html": [
       "<div>\n",
       "<style scoped>\n",
       "    .dataframe tbody tr th:only-of-type {\n",
       "        vertical-align: middle;\n",
       "    }\n",
       "\n",
       "    .dataframe tbody tr th {\n",
       "        vertical-align: top;\n",
       "    }\n",
       "\n",
       "    .dataframe thead th {\n",
       "        text-align: right;\n",
       "    }\n",
       "</style>\n",
       "<table border=\"1\" class=\"dataframe\">\n",
       "  <thead>\n",
       "    <tr style=\"text-align: right;\">\n",
       "      <th></th>\n",
       "      <th>key</th>\n",
       "      <th>left_val</th>\n",
       "      <th>right_val</th>\n",
       "    </tr>\n",
       "  </thead>\n",
       "  <tbody>\n",
       "    <tr>\n",
       "      <th>0</th>\n",
       "      <td>val</td>\n",
       "      <td>1</td>\n",
       "      <td>3</td>\n",
       "    </tr>\n",
       "    <tr>\n",
       "      <th>1</th>\n",
       "      <td>val</td>\n",
       "      <td>1</td>\n",
       "      <td>4</td>\n",
       "    </tr>\n",
       "    <tr>\n",
       "      <th>2</th>\n",
       "      <td>val</td>\n",
       "      <td>2</td>\n",
       "      <td>3</td>\n",
       "    </tr>\n",
       "    <tr>\n",
       "      <th>3</th>\n",
       "      <td>val</td>\n",
       "      <td>2</td>\n",
       "      <td>4</td>\n",
       "    </tr>\n",
       "  </tbody>\n",
       "</table>\n",
       "</div>"
      ],
      "text/plain": [
       "   key  left_val  right_val\n",
       "0  val         1          3\n",
       "1  val         1          4\n",
       "2  val         2          3\n",
       "3  val         2          4"
      ]
     },
     "execution_count": 89,
     "metadata": {},
     "output_type": "execute_result"
    }
   ],
   "source": [
    "pd.merge(left, right, on=\"key\")"
   ]
  },
  {
   "cell_type": "code",
   "execution_count": 90,
   "id": "39d48bb9",
   "metadata": {},
   "outputs": [],
   "source": [
    "left = pd.DataFrame({\"key\": [\"val1\", \"val2\"], \"left_val\": [1, 2]})"
   ]
  },
  {
   "cell_type": "code",
   "execution_count": 91,
   "id": "294449ef",
   "metadata": {},
   "outputs": [
    {
     "data": {
      "text/html": [
       "<div>\n",
       "<style scoped>\n",
       "    .dataframe tbody tr th:only-of-type {\n",
       "        vertical-align: middle;\n",
       "    }\n",
       "\n",
       "    .dataframe tbody tr th {\n",
       "        vertical-align: top;\n",
       "    }\n",
       "\n",
       "    .dataframe thead th {\n",
       "        text-align: right;\n",
       "    }\n",
       "</style>\n",
       "<table border=\"1\" class=\"dataframe\">\n",
       "  <thead>\n",
       "    <tr style=\"text-align: right;\">\n",
       "      <th></th>\n",
       "      <th>key</th>\n",
       "      <th>left_val</th>\n",
       "    </tr>\n",
       "  </thead>\n",
       "  <tbody>\n",
       "    <tr>\n",
       "      <th>0</th>\n",
       "      <td>val1</td>\n",
       "      <td>1</td>\n",
       "    </tr>\n",
       "    <tr>\n",
       "      <th>1</th>\n",
       "      <td>val2</td>\n",
       "      <td>2</td>\n",
       "    </tr>\n",
       "  </tbody>\n",
       "</table>\n",
       "</div>"
      ],
      "text/plain": [
       "    key  left_val\n",
       "0  val1         1\n",
       "1  val2         2"
      ]
     },
     "execution_count": 91,
     "metadata": {},
     "output_type": "execute_result"
    }
   ],
   "source": [
    "left"
   ]
  },
  {
   "cell_type": "code",
   "execution_count": 92,
   "id": "f1c9b209",
   "metadata": {},
   "outputs": [],
   "source": [
    "right = pd.DataFrame({\"key\": [\"val1\", \"val2\"], \"right_val\": [3, 4]})"
   ]
  },
  {
   "cell_type": "code",
   "execution_count": 93,
   "id": "4f4a7556",
   "metadata": {},
   "outputs": [
    {
     "data": {
      "text/html": [
       "<div>\n",
       "<style scoped>\n",
       "    .dataframe tbody tr th:only-of-type {\n",
       "        vertical-align: middle;\n",
       "    }\n",
       "\n",
       "    .dataframe tbody tr th {\n",
       "        vertical-align: top;\n",
       "    }\n",
       "\n",
       "    .dataframe thead th {\n",
       "        text-align: right;\n",
       "    }\n",
       "</style>\n",
       "<table border=\"1\" class=\"dataframe\">\n",
       "  <thead>\n",
       "    <tr style=\"text-align: right;\">\n",
       "      <th></th>\n",
       "      <th>key</th>\n",
       "      <th>right_val</th>\n",
       "    </tr>\n",
       "  </thead>\n",
       "  <tbody>\n",
       "    <tr>\n",
       "      <th>0</th>\n",
       "      <td>val1</td>\n",
       "      <td>3</td>\n",
       "    </tr>\n",
       "    <tr>\n",
       "      <th>1</th>\n",
       "      <td>val2</td>\n",
       "      <td>4</td>\n",
       "    </tr>\n",
       "  </tbody>\n",
       "</table>\n",
       "</div>"
      ],
      "text/plain": [
       "    key  right_val\n",
       "0  val1          3\n",
       "1  val2          4"
      ]
     },
     "execution_count": 93,
     "metadata": {},
     "output_type": "execute_result"
    }
   ],
   "source": [
    "right"
   ]
  },
  {
   "cell_type": "code",
   "execution_count": 94,
   "id": "09f62208",
   "metadata": {},
   "outputs": [
    {
     "data": {
      "text/html": [
       "<div>\n",
       "<style scoped>\n",
       "    .dataframe tbody tr th:only-of-type {\n",
       "        vertical-align: middle;\n",
       "    }\n",
       "\n",
       "    .dataframe tbody tr th {\n",
       "        vertical-align: top;\n",
       "    }\n",
       "\n",
       "    .dataframe thead th {\n",
       "        text-align: right;\n",
       "    }\n",
       "</style>\n",
       "<table border=\"1\" class=\"dataframe\">\n",
       "  <thead>\n",
       "    <tr style=\"text-align: right;\">\n",
       "      <th></th>\n",
       "      <th>key</th>\n",
       "      <th>left_val</th>\n",
       "      <th>right_val</th>\n",
       "    </tr>\n",
       "  </thead>\n",
       "  <tbody>\n",
       "    <tr>\n",
       "      <th>0</th>\n",
       "      <td>val1</td>\n",
       "      <td>1</td>\n",
       "      <td>3</td>\n",
       "    </tr>\n",
       "    <tr>\n",
       "      <th>1</th>\n",
       "      <td>val2</td>\n",
       "      <td>2</td>\n",
       "      <td>4</td>\n",
       "    </tr>\n",
       "  </tbody>\n",
       "</table>\n",
       "</div>"
      ],
      "text/plain": [
       "    key  left_val  right_val\n",
       "0  val1         1          3\n",
       "1  val2         2          4"
      ]
     },
     "execution_count": 94,
     "metadata": {},
     "output_type": "execute_result"
    }
   ],
   "source": [
    "pd.merge(left, right, on=\"key\")"
   ]
  },
  {
   "cell_type": "markdown",
   "id": "f349967d",
   "metadata": {},
   "source": [
    "Logical right? Let's see what concat would do?"
   ]
  },
  {
   "cell_type": "code",
   "execution_count": 95,
   "id": "7a222876",
   "metadata": {},
   "outputs": [
    {
     "data": {
      "text/html": [
       "<div>\n",
       "<style scoped>\n",
       "    .dataframe tbody tr th:only-of-type {\n",
       "        vertical-align: middle;\n",
       "    }\n",
       "\n",
       "    .dataframe tbody tr th {\n",
       "        vertical-align: top;\n",
       "    }\n",
       "\n",
       "    .dataframe thead th {\n",
       "        text-align: right;\n",
       "    }\n",
       "</style>\n",
       "<table border=\"1\" class=\"dataframe\">\n",
       "  <thead>\n",
       "    <tr style=\"text-align: right;\">\n",
       "      <th></th>\n",
       "      <th>key</th>\n",
       "      <th>left_val</th>\n",
       "      <th>right_val</th>\n",
       "    </tr>\n",
       "  </thead>\n",
       "  <tbody>\n",
       "    <tr>\n",
       "      <th>0</th>\n",
       "      <td>val1</td>\n",
       "      <td>1.0</td>\n",
       "      <td>NaN</td>\n",
       "    </tr>\n",
       "    <tr>\n",
       "      <th>1</th>\n",
       "      <td>val2</td>\n",
       "      <td>2.0</td>\n",
       "      <td>NaN</td>\n",
       "    </tr>\n",
       "    <tr>\n",
       "      <th>0</th>\n",
       "      <td>val1</td>\n",
       "      <td>NaN</td>\n",
       "      <td>3.0</td>\n",
       "    </tr>\n",
       "    <tr>\n",
       "      <th>1</th>\n",
       "      <td>val2</td>\n",
       "      <td>NaN</td>\n",
       "      <td>4.0</td>\n",
       "    </tr>\n",
       "  </tbody>\n",
       "</table>\n",
       "</div>"
      ],
      "text/plain": [
       "    key  left_val  right_val\n",
       "0  val1       1.0        NaN\n",
       "1  val2       2.0        NaN\n",
       "0  val1       NaN        3.0\n",
       "1  val2       NaN        4.0"
      ]
     },
     "execution_count": 95,
     "metadata": {},
     "output_type": "execute_result"
    }
   ],
   "source": [
    "pd.concat([left,right])"
   ]
  },
  {
   "cell_type": "markdown",
   "id": "aca6b709",
   "metadata": {},
   "source": [
    "#nevereasy #alwaysmessy #seldomsuccessful."
   ]
  },
  {
   "cell_type": "markdown",
   "id": "176dde96",
   "metadata": {},
   "source": [
    "## 6. Dataframe Grouping"
   ]
  },
  {
   "cell_type": "markdown",
   "id": "0e7072b5",
   "metadata": {},
   "source": [
    "One of the best features of pandas dataframes is the dataframe grouping."
   ]
  },
  {
   "cell_type": "code",
   "execution_count": 96,
   "id": "dedb1344",
   "metadata": {},
   "outputs": [],
   "source": [
    "sample_df3 = df = pd.DataFrame({\n",
    "                                \"A\": [\"foo\", \"bar\", \"foo\", \"bar\", \"foo\", \"bar\", \"foo\", \"foo\"],\n",
    "                                \"B\": [\"one\", \"one\", \"two\", \"three\", \"two\", \"two\", \"one\", \"three\"],\n",
    "                                \"C\": np.random.randn(8),\n",
    "                                \"D\": np.random.randn(8),\n",
    "                                }\n",
    "                               )"
   ]
  },
  {
   "cell_type": "code",
   "execution_count": 98,
   "id": "8b651fd7",
   "metadata": {},
   "outputs": [
    {
     "data": {
      "text/html": [
       "<div>\n",
       "<style scoped>\n",
       "    .dataframe tbody tr th:only-of-type {\n",
       "        vertical-align: middle;\n",
       "    }\n",
       "\n",
       "    .dataframe tbody tr th {\n",
       "        vertical-align: top;\n",
       "    }\n",
       "\n",
       "    .dataframe thead th {\n",
       "        text-align: right;\n",
       "    }\n",
       "</style>\n",
       "<table border=\"1\" class=\"dataframe\">\n",
       "  <thead>\n",
       "    <tr style=\"text-align: right;\">\n",
       "      <th></th>\n",
       "      <th>A</th>\n",
       "      <th>B</th>\n",
       "      <th>C</th>\n",
       "      <th>D</th>\n",
       "    </tr>\n",
       "  </thead>\n",
       "  <tbody>\n",
       "    <tr>\n",
       "      <th>0</th>\n",
       "      <td>foo</td>\n",
       "      <td>one</td>\n",
       "      <td>-0.746668</td>\n",
       "      <td>-2.433648</td>\n",
       "    </tr>\n",
       "    <tr>\n",
       "      <th>1</th>\n",
       "      <td>bar</td>\n",
       "      <td>one</td>\n",
       "      <td>0.434697</td>\n",
       "      <td>0.325568</td>\n",
       "    </tr>\n",
       "    <tr>\n",
       "      <th>2</th>\n",
       "      <td>foo</td>\n",
       "      <td>two</td>\n",
       "      <td>1.556932</td>\n",
       "      <td>-0.108870</td>\n",
       "    </tr>\n",
       "    <tr>\n",
       "      <th>3</th>\n",
       "      <td>bar</td>\n",
       "      <td>three</td>\n",
       "      <td>0.642019</td>\n",
       "      <td>1.102126</td>\n",
       "    </tr>\n",
       "    <tr>\n",
       "      <th>4</th>\n",
       "      <td>foo</td>\n",
       "      <td>two</td>\n",
       "      <td>-0.128129</td>\n",
       "      <td>0.225443</td>\n",
       "    </tr>\n",
       "    <tr>\n",
       "      <th>5</th>\n",
       "      <td>bar</td>\n",
       "      <td>two</td>\n",
       "      <td>2.083353</td>\n",
       "      <td>1.420522</td>\n",
       "    </tr>\n",
       "    <tr>\n",
       "      <th>6</th>\n",
       "      <td>foo</td>\n",
       "      <td>one</td>\n",
       "      <td>-0.237136</td>\n",
       "      <td>0.560903</td>\n",
       "    </tr>\n",
       "    <tr>\n",
       "      <th>7</th>\n",
       "      <td>foo</td>\n",
       "      <td>three</td>\n",
       "      <td>0.463496</td>\n",
       "      <td>-1.019963</td>\n",
       "    </tr>\n",
       "  </tbody>\n",
       "</table>\n",
       "</div>"
      ],
      "text/plain": [
       "     A      B         C         D\n",
       "0  foo    one -0.746668 -2.433648\n",
       "1  bar    one  0.434697  0.325568\n",
       "2  foo    two  1.556932 -0.108870\n",
       "3  bar  three  0.642019  1.102126\n",
       "4  foo    two -0.128129  0.225443\n",
       "5  bar    two  2.083353  1.420522\n",
       "6  foo    one -0.237136  0.560903\n",
       "7  foo  three  0.463496 -1.019963"
      ]
     },
     "execution_count": 98,
     "metadata": {},
     "output_type": "execute_result"
    }
   ],
   "source": [
    "sample_df3"
   ]
  },
  {
   "cell_type": "code",
   "execution_count": 97,
   "id": "67f51637",
   "metadata": {},
   "outputs": [
    {
     "data": {
      "text/html": [
       "<div>\n",
       "<style scoped>\n",
       "    .dataframe tbody tr th:only-of-type {\n",
       "        vertical-align: middle;\n",
       "    }\n",
       "\n",
       "    .dataframe tbody tr th {\n",
       "        vertical-align: top;\n",
       "    }\n",
       "\n",
       "    .dataframe thead th {\n",
       "        text-align: right;\n",
       "    }\n",
       "</style>\n",
       "<table border=\"1\" class=\"dataframe\">\n",
       "  <thead>\n",
       "    <tr style=\"text-align: right;\">\n",
       "      <th></th>\n",
       "      <th>C</th>\n",
       "      <th>D</th>\n",
       "    </tr>\n",
       "    <tr>\n",
       "      <th>A</th>\n",
       "      <th></th>\n",
       "      <th></th>\n",
       "    </tr>\n",
       "  </thead>\n",
       "  <tbody>\n",
       "    <tr>\n",
       "      <th>bar</th>\n",
       "      <td>0.642019</td>\n",
       "      <td>1.102126</td>\n",
       "    </tr>\n",
       "    <tr>\n",
       "      <th>foo</th>\n",
       "      <td>-0.128129</td>\n",
       "      <td>-0.108870</td>\n",
       "    </tr>\n",
       "  </tbody>\n",
       "</table>\n",
       "</div>"
      ],
      "text/plain": [
       "            C         D\n",
       "A                      \n",
       "bar  0.642019  1.102126\n",
       "foo -0.128129 -0.108870"
      ]
     },
     "execution_count": 97,
     "metadata": {},
     "output_type": "execute_result"
    }
   ],
   "source": [
    "sample_df3.groupby(\"A\").median()"
   ]
  },
  {
   "cell_type": "code",
   "execution_count": 100,
   "id": "c76958c6",
   "metadata": {},
   "outputs": [],
   "source": [
    "sample_df3.describe?"
   ]
  },
  {
   "cell_type": "code",
   "execution_count": 101,
   "id": "7230926c",
   "metadata": {},
   "outputs": [
    {
     "data": {
      "text/html": [
       "<div>\n",
       "<style scoped>\n",
       "    .dataframe tbody tr th:only-of-type {\n",
       "        vertical-align: middle;\n",
       "    }\n",
       "\n",
       "    .dataframe tbody tr th {\n",
       "        vertical-align: top;\n",
       "    }\n",
       "\n",
       "    .dataframe thead th {\n",
       "        text-align: right;\n",
       "    }\n",
       "</style>\n",
       "<table border=\"1\" class=\"dataframe\">\n",
       "  <thead>\n",
       "    <tr style=\"text-align: right;\">\n",
       "      <th></th>\n",
       "      <th>C</th>\n",
       "      <th>D</th>\n",
       "    </tr>\n",
       "    <tr>\n",
       "      <th>A</th>\n",
       "      <th></th>\n",
       "      <th></th>\n",
       "    </tr>\n",
       "  </thead>\n",
       "  <tbody>\n",
       "    <tr>\n",
       "      <th>bar</th>\n",
       "      <td>3.160069</td>\n",
       "      <td>2.848215</td>\n",
       "    </tr>\n",
       "    <tr>\n",
       "      <th>foo</th>\n",
       "      <td>0.908495</td>\n",
       "      <td>-2.776135</td>\n",
       "    </tr>\n",
       "  </tbody>\n",
       "</table>\n",
       "</div>"
      ],
      "text/plain": [
       "            C         D\n",
       "A                      \n",
       "bar  3.160069  2.848215\n",
       "foo  0.908495 -2.776135"
      ]
     },
     "execution_count": 101,
     "metadata": {},
     "output_type": "execute_result"
    }
   ],
   "source": [
    "sample_df3.groupby(\"A\").sum()"
   ]
  },
  {
   "cell_type": "code",
   "execution_count": 102,
   "id": "93e3e9d6",
   "metadata": {},
   "outputs": [
    {
     "data": {
      "text/html": [
       "<div>\n",
       "<style scoped>\n",
       "    .dataframe tbody tr th:only-of-type {\n",
       "        vertical-align: middle;\n",
       "    }\n",
       "\n",
       "    .dataframe tbody tr th {\n",
       "        vertical-align: top;\n",
       "    }\n",
       "\n",
       "    .dataframe thead th {\n",
       "        text-align: right;\n",
       "    }\n",
       "</style>\n",
       "<table border=\"1\" class=\"dataframe\">\n",
       "  <thead>\n",
       "    <tr style=\"text-align: right;\">\n",
       "      <th></th>\n",
       "      <th></th>\n",
       "      <th>C</th>\n",
       "      <th>D</th>\n",
       "    </tr>\n",
       "    <tr>\n",
       "      <th>A</th>\n",
       "      <th>B</th>\n",
       "      <th></th>\n",
       "      <th></th>\n",
       "    </tr>\n",
       "  </thead>\n",
       "  <tbody>\n",
       "    <tr>\n",
       "      <th rowspan=\"3\" valign=\"top\">bar</th>\n",
       "      <th>one</th>\n",
       "      <td>0.434697</td>\n",
       "      <td>0.325568</td>\n",
       "    </tr>\n",
       "    <tr>\n",
       "      <th>three</th>\n",
       "      <td>0.642019</td>\n",
       "      <td>1.102126</td>\n",
       "    </tr>\n",
       "    <tr>\n",
       "      <th>two</th>\n",
       "      <td>2.083353</td>\n",
       "      <td>1.420522</td>\n",
       "    </tr>\n",
       "    <tr>\n",
       "      <th rowspan=\"3\" valign=\"top\">foo</th>\n",
       "      <th>one</th>\n",
       "      <td>-0.983804</td>\n",
       "      <td>-1.872744</td>\n",
       "    </tr>\n",
       "    <tr>\n",
       "      <th>three</th>\n",
       "      <td>0.463496</td>\n",
       "      <td>-1.019963</td>\n",
       "    </tr>\n",
       "    <tr>\n",
       "      <th>two</th>\n",
       "      <td>1.428802</td>\n",
       "      <td>0.116573</td>\n",
       "    </tr>\n",
       "  </tbody>\n",
       "</table>\n",
       "</div>"
      ],
      "text/plain": [
       "                  C         D\n",
       "A   B                        \n",
       "bar one    0.434697  0.325568\n",
       "    three  0.642019  1.102126\n",
       "    two    2.083353  1.420522\n",
       "foo one   -0.983804 -1.872744\n",
       "    three  0.463496 -1.019963\n",
       "    two    1.428802  0.116573"
      ]
     },
     "execution_count": 102,
     "metadata": {},
     "output_type": "execute_result"
    }
   ],
   "source": [
    "sample_df3.groupby([\"A\",\"B\"]).sum()"
   ]
  },
  {
   "cell_type": "markdown",
   "id": "54fd8f2b",
   "metadata": {},
   "source": [
    "## 7. Pandas with a Real Data Set"
   ]
  },
  {
   "cell_type": "code",
   "execution_count": 103,
   "id": "7a645b58",
   "metadata": {},
   "outputs": [
    {
     "name": "stdout",
     "output_type": "stream",
     "text": [
      "<class 'pandas.core.frame.DataFrame'>\n"
     ]
    }
   ],
   "source": [
    "# Read the iris dataset from a CSV file\n",
    "iris_df = pd.read_csv('./iris.csv')\n",
    "\n",
    "# Print data type for df\n",
    "print( type(iris_df) )"
   ]
  },
  {
   "cell_type": "markdown",
   "id": "e9d015ef",
   "metadata": {},
   "source": [
    "Let's further explore what is in this data set."
   ]
  },
  {
   "cell_type": "code",
   "execution_count": 104,
   "id": "80b5f4c7",
   "metadata": {},
   "outputs": [
    {
     "data": {
      "text/html": [
       "<div>\n",
       "<style scoped>\n",
       "    .dataframe tbody tr th:only-of-type {\n",
       "        vertical-align: middle;\n",
       "    }\n",
       "\n",
       "    .dataframe tbody tr th {\n",
       "        vertical-align: top;\n",
       "    }\n",
       "\n",
       "    .dataframe thead th {\n",
       "        text-align: right;\n",
       "    }\n",
       "</style>\n",
       "<table border=\"1\" class=\"dataframe\">\n",
       "  <thead>\n",
       "    <tr style=\"text-align: right;\">\n",
       "      <th></th>\n",
       "      <th>sepal_length</th>\n",
       "      <th>sepal_width</th>\n",
       "      <th>petal_length</th>\n",
       "      <th>petal_width</th>\n",
       "      <th>species</th>\n",
       "    </tr>\n",
       "  </thead>\n",
       "  <tbody>\n",
       "    <tr>\n",
       "      <th>0</th>\n",
       "      <td>5.1</td>\n",
       "      <td>3.5</td>\n",
       "      <td>1.4</td>\n",
       "      <td>0.2</td>\n",
       "      <td>setosa</td>\n",
       "    </tr>\n",
       "    <tr>\n",
       "      <th>1</th>\n",
       "      <td>4.9</td>\n",
       "      <td>3.0</td>\n",
       "      <td>1.4</td>\n",
       "      <td>0.2</td>\n",
       "      <td>setosa</td>\n",
       "    </tr>\n",
       "    <tr>\n",
       "      <th>2</th>\n",
       "      <td>4.7</td>\n",
       "      <td>3.2</td>\n",
       "      <td>1.3</td>\n",
       "      <td>0.2</td>\n",
       "      <td>setosa</td>\n",
       "    </tr>\n",
       "    <tr>\n",
       "      <th>3</th>\n",
       "      <td>4.6</td>\n",
       "      <td>3.1</td>\n",
       "      <td>1.5</td>\n",
       "      <td>0.2</td>\n",
       "      <td>setosa</td>\n",
       "    </tr>\n",
       "    <tr>\n",
       "      <th>4</th>\n",
       "      <td>5.0</td>\n",
       "      <td>3.6</td>\n",
       "      <td>1.4</td>\n",
       "      <td>0.2</td>\n",
       "      <td>setosa</td>\n",
       "    </tr>\n",
       "  </tbody>\n",
       "</table>\n",
       "</div>"
      ],
      "text/plain": [
       "   sepal_length  sepal_width  petal_length  petal_width species\n",
       "0           5.1          3.5           1.4          0.2  setosa\n",
       "1           4.9          3.0           1.4          0.2  setosa\n",
       "2           4.7          3.2           1.3          0.2  setosa\n",
       "3           4.6          3.1           1.5          0.2  setosa\n",
       "4           5.0          3.6           1.4          0.2  setosa"
      ]
     },
     "execution_count": 104,
     "metadata": {},
     "output_type": "execute_result"
    }
   ],
   "source": [
    "iris_df.head()"
   ]
  },
  {
   "cell_type": "code",
   "execution_count": 105,
   "id": "7b6968da",
   "metadata": {},
   "outputs": [
    {
     "data": {
      "text/plain": [
       "(150, 5)"
      ]
     },
     "execution_count": 105,
     "metadata": {},
     "output_type": "execute_result"
    }
   ],
   "source": [
    "iris_df.shape"
   ]
  },
  {
   "cell_type": "code",
   "execution_count": 106,
   "id": "26db08bc",
   "metadata": {},
   "outputs": [
    {
     "data": {
      "text/plain": [
       "sepal_length       4.3\n",
       "sepal_width        2.0\n",
       "petal_length       1.0\n",
       "petal_width        0.1\n",
       "species         setosa\n",
       "dtype: object"
      ]
     },
     "execution_count": 106,
     "metadata": {},
     "output_type": "execute_result"
    }
   ],
   "source": [
    "iris_df.min()"
   ]
  },
  {
   "cell_type": "code",
   "execution_count": 107,
   "id": "833c1167",
   "metadata": {},
   "outputs": [
    {
     "data": {
      "text/plain": [
       "sepal_length          7.9\n",
       "sepal_width           4.4\n",
       "petal_length          6.9\n",
       "petal_width           2.5\n",
       "species         virginica\n",
       "dtype: object"
      ]
     },
     "execution_count": 107,
     "metadata": {},
     "output_type": "execute_result"
    }
   ],
   "source": [
    "iris_df.max()"
   ]
  },
  {
   "cell_type": "code",
   "execution_count": 111,
   "id": "f68b9520",
   "metadata": {},
   "outputs": [
    {
     "data": {
      "text/html": [
       "<div>\n",
       "<style scoped>\n",
       "    .dataframe tbody tr th:only-of-type {\n",
       "        vertical-align: middle;\n",
       "    }\n",
       "\n",
       "    .dataframe tbody tr th {\n",
       "        vertical-align: top;\n",
       "    }\n",
       "\n",
       "    .dataframe thead th {\n",
       "        text-align: right;\n",
       "    }\n",
       "</style>\n",
       "<table border=\"1\" class=\"dataframe\">\n",
       "  <thead>\n",
       "    <tr style=\"text-align: right;\">\n",
       "      <th></th>\n",
       "      <th>sepal_length</th>\n",
       "      <th>sepal_width</th>\n",
       "      <th>petal_length</th>\n",
       "      <th>petal_width</th>\n",
       "      <th>species</th>\n",
       "    </tr>\n",
       "  </thead>\n",
       "  <tbody>\n",
       "    <tr>\n",
       "      <th>count</th>\n",
       "      <td>150.000000</td>\n",
       "      <td>150.000000</td>\n",
       "      <td>150.000000</td>\n",
       "      <td>150.000000</td>\n",
       "      <td>150</td>\n",
       "    </tr>\n",
       "    <tr>\n",
       "      <th>unique</th>\n",
       "      <td>NaN</td>\n",
       "      <td>NaN</td>\n",
       "      <td>NaN</td>\n",
       "      <td>NaN</td>\n",
       "      <td>3</td>\n",
       "    </tr>\n",
       "    <tr>\n",
       "      <th>top</th>\n",
       "      <td>NaN</td>\n",
       "      <td>NaN</td>\n",
       "      <td>NaN</td>\n",
       "      <td>NaN</td>\n",
       "      <td>setosa</td>\n",
       "    </tr>\n",
       "    <tr>\n",
       "      <th>freq</th>\n",
       "      <td>NaN</td>\n",
       "      <td>NaN</td>\n",
       "      <td>NaN</td>\n",
       "      <td>NaN</td>\n",
       "      <td>50</td>\n",
       "    </tr>\n",
       "    <tr>\n",
       "      <th>mean</th>\n",
       "      <td>5.843333</td>\n",
       "      <td>3.057333</td>\n",
       "      <td>3.758000</td>\n",
       "      <td>1.199333</td>\n",
       "      <td>NaN</td>\n",
       "    </tr>\n",
       "    <tr>\n",
       "      <th>std</th>\n",
       "      <td>0.828066</td>\n",
       "      <td>0.435866</td>\n",
       "      <td>1.765298</td>\n",
       "      <td>0.762238</td>\n",
       "      <td>NaN</td>\n",
       "    </tr>\n",
       "    <tr>\n",
       "      <th>min</th>\n",
       "      <td>4.300000</td>\n",
       "      <td>2.000000</td>\n",
       "      <td>1.000000</td>\n",
       "      <td>0.100000</td>\n",
       "      <td>NaN</td>\n",
       "    </tr>\n",
       "    <tr>\n",
       "      <th>25%</th>\n",
       "      <td>5.100000</td>\n",
       "      <td>2.800000</td>\n",
       "      <td>1.600000</td>\n",
       "      <td>0.300000</td>\n",
       "      <td>NaN</td>\n",
       "    </tr>\n",
       "    <tr>\n",
       "      <th>50%</th>\n",
       "      <td>5.800000</td>\n",
       "      <td>3.000000</td>\n",
       "      <td>4.350000</td>\n",
       "      <td>1.300000</td>\n",
       "      <td>NaN</td>\n",
       "    </tr>\n",
       "    <tr>\n",
       "      <th>75%</th>\n",
       "      <td>6.400000</td>\n",
       "      <td>3.300000</td>\n",
       "      <td>5.100000</td>\n",
       "      <td>1.800000</td>\n",
       "      <td>NaN</td>\n",
       "    </tr>\n",
       "    <tr>\n",
       "      <th>max</th>\n",
       "      <td>7.900000</td>\n",
       "      <td>4.400000</td>\n",
       "      <td>6.900000</td>\n",
       "      <td>2.500000</td>\n",
       "      <td>NaN</td>\n",
       "    </tr>\n",
       "  </tbody>\n",
       "</table>\n",
       "</div>"
      ],
      "text/plain": [
       "        sepal_length  sepal_width  petal_length  petal_width species\n",
       "count     150.000000   150.000000    150.000000   150.000000     150\n",
       "unique           NaN          NaN           NaN          NaN       3\n",
       "top              NaN          NaN           NaN          NaN  setosa\n",
       "freq             NaN          NaN           NaN          NaN      50\n",
       "mean        5.843333     3.057333      3.758000     1.199333     NaN\n",
       "std         0.828066     0.435866      1.765298     0.762238     NaN\n",
       "min         4.300000     2.000000      1.000000     0.100000     NaN\n",
       "25%         5.100000     2.800000      1.600000     0.300000     NaN\n",
       "50%         5.800000     3.000000      4.350000     1.300000     NaN\n",
       "75%         6.400000     3.300000      5.100000     1.800000     NaN\n",
       "max         7.900000     4.400000      6.900000     2.500000     NaN"
      ]
     },
     "execution_count": 111,
     "metadata": {},
     "output_type": "execute_result"
    }
   ],
   "source": [
    "iris_df.describe(include='all')"
   ]
  },
  {
   "cell_type": "code",
   "execution_count": 112,
   "id": "3d1c7483",
   "metadata": {},
   "outputs": [
    {
     "name": "stdout",
     "output_type": "stream",
     "text": [
      "0    1.4\n",
      "1    1.4\n",
      "2    1.3\n",
      "3    1.5\n",
      "4    1.4\n",
      "Name: petal_length, dtype: float64\n"
     ]
    }
   ],
   "source": [
    "# First 5 values of petal length\n",
    "print(iris_df.petal_length.head())"
   ]
  },
  {
   "cell_type": "code",
   "execution_count": 113,
   "id": "f91d75a6",
   "metadata": {},
   "outputs": [],
   "source": [
    "# Create new petal area feature\n",
    "iris_df['sepal_area'] = iris_df.sepal_width * iris_df.sepal_length"
   ]
  },
  {
   "cell_type": "code",
   "execution_count": 114,
   "id": "61b3c36c",
   "metadata": {},
   "outputs": [
    {
     "data": {
      "text/plain": [
       "0    17.85\n",
       "1    14.70\n",
       "2    15.04\n",
       "3    14.26\n",
       "4    18.00\n",
       "Name: sepal_area, dtype: float64"
      ]
     },
     "execution_count": 114,
     "metadata": {},
     "output_type": "execute_result"
    }
   ],
   "source": [
    "iris_df['sepal_area'].head()"
   ]
  },
  {
   "cell_type": "markdown",
   "id": "ec2459e8",
   "metadata": {},
   "source": [
    "### Filtering, Segmentation and Aggregation"
   ]
  },
  {
   "cell_type": "markdown",
   "id": "d59c2761",
   "metadata": {},
   "source": [
    "Let's create a mask."
   ]
  },
  {
   "cell_type": "code",
   "execution_count": 115,
   "id": "b62f49f6",
   "metadata": {},
   "outputs": [],
   "source": [
    "sepal_width_mask = iris_df.sepal_width>3."
   ]
  },
  {
   "cell_type": "code",
   "execution_count": 116,
   "id": "955b0c51",
   "metadata": {},
   "outputs": [
    {
     "data": {
      "text/html": [
       "<div>\n",
       "<style scoped>\n",
       "    .dataframe tbody tr th:only-of-type {\n",
       "        vertical-align: middle;\n",
       "    }\n",
       "\n",
       "    .dataframe tbody tr th {\n",
       "        vertical-align: top;\n",
       "    }\n",
       "\n",
       "    .dataframe thead th {\n",
       "        text-align: right;\n",
       "    }\n",
       "</style>\n",
       "<table border=\"1\" class=\"dataframe\">\n",
       "  <thead>\n",
       "    <tr style=\"text-align: right;\">\n",
       "      <th></th>\n",
       "      <th>sepal_length</th>\n",
       "      <th>sepal_width</th>\n",
       "      <th>petal_length</th>\n",
       "      <th>petal_width</th>\n",
       "      <th>species</th>\n",
       "      <th>sepal_area</th>\n",
       "    </tr>\n",
       "  </thead>\n",
       "  <tbody>\n",
       "    <tr>\n",
       "      <th>0</th>\n",
       "      <td>5.1</td>\n",
       "      <td>3.5</td>\n",
       "      <td>1.4</td>\n",
       "      <td>0.2</td>\n",
       "      <td>setosa</td>\n",
       "      <td>17.85</td>\n",
       "    </tr>\n",
       "    <tr>\n",
       "      <th>2</th>\n",
       "      <td>4.7</td>\n",
       "      <td>3.2</td>\n",
       "      <td>1.3</td>\n",
       "      <td>0.2</td>\n",
       "      <td>setosa</td>\n",
       "      <td>15.04</td>\n",
       "    </tr>\n",
       "    <tr>\n",
       "      <th>3</th>\n",
       "      <td>4.6</td>\n",
       "      <td>3.1</td>\n",
       "      <td>1.5</td>\n",
       "      <td>0.2</td>\n",
       "      <td>setosa</td>\n",
       "      <td>14.26</td>\n",
       "    </tr>\n",
       "    <tr>\n",
       "      <th>4</th>\n",
       "      <td>5.0</td>\n",
       "      <td>3.6</td>\n",
       "      <td>1.4</td>\n",
       "      <td>0.2</td>\n",
       "      <td>setosa</td>\n",
       "      <td>18.00</td>\n",
       "    </tr>\n",
       "    <tr>\n",
       "      <th>5</th>\n",
       "      <td>5.4</td>\n",
       "      <td>3.9</td>\n",
       "      <td>1.7</td>\n",
       "      <td>0.4</td>\n",
       "      <td>setosa</td>\n",
       "      <td>21.06</td>\n",
       "    </tr>\n",
       "    <tr>\n",
       "      <th>...</th>\n",
       "      <td>...</td>\n",
       "      <td>...</td>\n",
       "      <td>...</td>\n",
       "      <td>...</td>\n",
       "      <td>...</td>\n",
       "      <td>...</td>\n",
       "    </tr>\n",
       "    <tr>\n",
       "      <th>140</th>\n",
       "      <td>6.7</td>\n",
       "      <td>3.1</td>\n",
       "      <td>5.6</td>\n",
       "      <td>2.4</td>\n",
       "      <td>virginica</td>\n",
       "      <td>20.77</td>\n",
       "    </tr>\n",
       "    <tr>\n",
       "      <th>141</th>\n",
       "      <td>6.9</td>\n",
       "      <td>3.1</td>\n",
       "      <td>5.1</td>\n",
       "      <td>2.3</td>\n",
       "      <td>virginica</td>\n",
       "      <td>21.39</td>\n",
       "    </tr>\n",
       "    <tr>\n",
       "      <th>143</th>\n",
       "      <td>6.8</td>\n",
       "      <td>3.2</td>\n",
       "      <td>5.9</td>\n",
       "      <td>2.3</td>\n",
       "      <td>virginica</td>\n",
       "      <td>21.76</td>\n",
       "    </tr>\n",
       "    <tr>\n",
       "      <th>144</th>\n",
       "      <td>6.7</td>\n",
       "      <td>3.3</td>\n",
       "      <td>5.7</td>\n",
       "      <td>2.5</td>\n",
       "      <td>virginica</td>\n",
       "      <td>22.11</td>\n",
       "    </tr>\n",
       "    <tr>\n",
       "      <th>148</th>\n",
       "      <td>6.2</td>\n",
       "      <td>3.4</td>\n",
       "      <td>5.4</td>\n",
       "      <td>2.3</td>\n",
       "      <td>virginica</td>\n",
       "      <td>21.08</td>\n",
       "    </tr>\n",
       "  </tbody>\n",
       "</table>\n",
       "<p>67 rows × 6 columns</p>\n",
       "</div>"
      ],
      "text/plain": [
       "     sepal_length  sepal_width  petal_length  petal_width    species  \\\n",
       "0             5.1          3.5           1.4          0.2     setosa   \n",
       "2             4.7          3.2           1.3          0.2     setosa   \n",
       "3             4.6          3.1           1.5          0.2     setosa   \n",
       "4             5.0          3.6           1.4          0.2     setosa   \n",
       "5             5.4          3.9           1.7          0.4     setosa   \n",
       "..            ...          ...           ...          ...        ...   \n",
       "140           6.7          3.1           5.6          2.4  virginica   \n",
       "141           6.9          3.1           5.1          2.3  virginica   \n",
       "143           6.8          3.2           5.9          2.3  virginica   \n",
       "144           6.7          3.3           5.7          2.5  virginica   \n",
       "148           6.2          3.4           5.4          2.3  virginica   \n",
       "\n",
       "     sepal_area  \n",
       "0         17.85  \n",
       "2         15.04  \n",
       "3         14.26  \n",
       "4         18.00  \n",
       "5         21.06  \n",
       "..          ...  \n",
       "140       20.77  \n",
       "141       21.39  \n",
       "143       21.76  \n",
       "144       22.11  \n",
       "148       21.08  \n",
       "\n",
       "[67 rows x 6 columns]"
      ]
     },
     "execution_count": 116,
     "metadata": {},
     "output_type": "execute_result"
    }
   ],
   "source": [
    "iris_df[sepal_width_mask]"
   ]
  },
  {
   "cell_type": "code",
   "execution_count": 117,
   "id": "6970e7cb",
   "metadata": {},
   "outputs": [
    {
     "data": {
      "text/plain": [
       "sepal_length       4.4\n",
       "sepal_width        3.1\n",
       "petal_length       1.0\n",
       "petal_width        0.1\n",
       "species         setosa\n",
       "sepal_area       14.08\n",
       "dtype: object"
      ]
     },
     "execution_count": 117,
     "metadata": {},
     "output_type": "execute_result"
    }
   ],
   "source": [
    "iris_df[sepal_width_mask].min()"
   ]
  },
  {
   "cell_type": "code",
   "execution_count": 118,
   "id": "b4587153",
   "metadata": {},
   "outputs": [
    {
     "data": {
      "text/html": [
       "<div>\n",
       "<style scoped>\n",
       "    .dataframe tbody tr th:only-of-type {\n",
       "        vertical-align: middle;\n",
       "    }\n",
       "\n",
       "    .dataframe tbody tr th {\n",
       "        vertical-align: top;\n",
       "    }\n",
       "\n",
       "    .dataframe thead th {\n",
       "        text-align: right;\n",
       "    }\n",
       "</style>\n",
       "<table border=\"1\" class=\"dataframe\">\n",
       "  <thead>\n",
       "    <tr style=\"text-align: right;\">\n",
       "      <th></th>\n",
       "      <th>sepal_length</th>\n",
       "      <th>sepal_width</th>\n",
       "      <th>petal_length</th>\n",
       "      <th>petal_width</th>\n",
       "      <th>sepal_area</th>\n",
       "    </tr>\n",
       "    <tr>\n",
       "      <th>species</th>\n",
       "      <th></th>\n",
       "      <th></th>\n",
       "      <th></th>\n",
       "      <th></th>\n",
       "      <th></th>\n",
       "    </tr>\n",
       "  </thead>\n",
       "  <tbody>\n",
       "    <tr>\n",
       "      <th>setosa</th>\n",
       "      <td>5.0</td>\n",
       "      <td>3.4</td>\n",
       "      <td>1.50</td>\n",
       "      <td>0.2</td>\n",
       "      <td>17.170</td>\n",
       "    </tr>\n",
       "    <tr>\n",
       "      <th>versicolor</th>\n",
       "      <td>5.9</td>\n",
       "      <td>2.8</td>\n",
       "      <td>4.35</td>\n",
       "      <td>1.3</td>\n",
       "      <td>16.385</td>\n",
       "    </tr>\n",
       "    <tr>\n",
       "      <th>virginica</th>\n",
       "      <td>6.5</td>\n",
       "      <td>3.0</td>\n",
       "      <td>5.55</td>\n",
       "      <td>2.0</td>\n",
       "      <td>20.060</td>\n",
       "    </tr>\n",
       "  </tbody>\n",
       "</table>\n",
       "</div>"
      ],
      "text/plain": [
       "            sepal_length  sepal_width  petal_length  petal_width  sepal_area\n",
       "species                                                                     \n",
       "setosa               5.0          3.4          1.50          0.2      17.170\n",
       "versicolor           5.9          2.8          4.35          1.3      16.385\n",
       "virginica            6.5          3.0          5.55          2.0      20.060"
      ]
     },
     "execution_count": 118,
     "metadata": {},
     "output_type": "execute_result"
    }
   ],
   "source": [
    "iris_df.groupby('species').median()"
   ]
  },
  {
   "cell_type": "code",
   "execution_count": null,
   "id": "0b65ee74",
   "metadata": {},
   "outputs": [],
   "source": []
  },
  {
   "cell_type": "markdown",
   "id": "c8b2e1d6",
   "metadata": {},
   "source": [
    "# Seaborn Workbook\n",
    "Welcome to the Seaborn Workbook. Let's start with importing the required libraries."
   ]
  },
  {
   "cell_type": "code",
   "execution_count": 1,
   "id": "1bf7efef",
   "metadata": {},
   "outputs": [],
   "source": [
    "import numpy as np\n",
    "import pandas as pd\n",
    "import seaborn as sns\n",
    "import matplotlib.pyplot as plt"
   ]
  },
  {
   "cell_type": "code",
   "execution_count": 2,
   "id": "a54d17ff",
   "metadata": {},
   "outputs": [
    {
     "data": {
      "text/plain": [
       "('0.11.0', '1.22.2', '1.4.0')"
      ]
     },
     "execution_count": 2,
     "metadata": {},
     "output_type": "execute_result"
    }
   ],
   "source": [
    "sns.__version__, np.__version__, pd.__version__"
   ]
  },
  {
   "cell_type": "code",
   "execution_count": 9,
   "id": "2c9bef25",
   "metadata": {},
   "outputs": [],
   "source": [
    "%matplotlib inline"
   ]
  },
  {
   "cell_type": "markdown",
   "id": "31a0bcb0",
   "metadata": {},
   "source": [
    "Are you ready to prepare the best plots EVER? Let's start with working on real data."
   ]
  },
  {
   "cell_type": "code",
   "execution_count": 4,
   "id": "b6cfc79b",
   "metadata": {},
   "outputs": [
    {
     "name": "stdout",
     "output_type": "stream",
     "text": [
      "<class 'pandas.core.frame.DataFrame'>\n"
     ]
    }
   ],
   "source": [
    "# Read the iris dataset from a CSV file\n",
    "iris_df = pd.read_csv('./iris.csv')\n",
    "\n",
    "# Print data type for df\n",
    "print( type(iris_df) )"
   ]
  },
  {
   "cell_type": "code",
   "execution_count": 5,
   "id": "a49fa7ea",
   "metadata": {},
   "outputs": [
    {
     "data": {
      "text/html": [
       "<div>\n",
       "<style scoped>\n",
       "    .dataframe tbody tr th:only-of-type {\n",
       "        vertical-align: middle;\n",
       "    }\n",
       "\n",
       "    .dataframe tbody tr th {\n",
       "        vertical-align: top;\n",
       "    }\n",
       "\n",
       "    .dataframe thead th {\n",
       "        text-align: right;\n",
       "    }\n",
       "</style>\n",
       "<table border=\"1\" class=\"dataframe\">\n",
       "  <thead>\n",
       "    <tr style=\"text-align: right;\">\n",
       "      <th></th>\n",
       "      <th>sepal_length</th>\n",
       "      <th>sepal_width</th>\n",
       "      <th>petal_length</th>\n",
       "      <th>petal_width</th>\n",
       "      <th>species</th>\n",
       "    </tr>\n",
       "  </thead>\n",
       "  <tbody>\n",
       "    <tr>\n",
       "      <th>0</th>\n",
       "      <td>5.1</td>\n",
       "      <td>3.5</td>\n",
       "      <td>1.4</td>\n",
       "      <td>0.2</td>\n",
       "      <td>setosa</td>\n",
       "    </tr>\n",
       "    <tr>\n",
       "      <th>1</th>\n",
       "      <td>4.9</td>\n",
       "      <td>3.0</td>\n",
       "      <td>1.4</td>\n",
       "      <td>0.2</td>\n",
       "      <td>setosa</td>\n",
       "    </tr>\n",
       "    <tr>\n",
       "      <th>2</th>\n",
       "      <td>4.7</td>\n",
       "      <td>3.2</td>\n",
       "      <td>1.3</td>\n",
       "      <td>0.2</td>\n",
       "      <td>setosa</td>\n",
       "    </tr>\n",
       "    <tr>\n",
       "      <th>3</th>\n",
       "      <td>4.6</td>\n",
       "      <td>3.1</td>\n",
       "      <td>1.5</td>\n",
       "      <td>0.2</td>\n",
       "      <td>setosa</td>\n",
       "    </tr>\n",
       "    <tr>\n",
       "      <th>4</th>\n",
       "      <td>5.0</td>\n",
       "      <td>3.6</td>\n",
       "      <td>1.4</td>\n",
       "      <td>0.2</td>\n",
       "      <td>setosa</td>\n",
       "    </tr>\n",
       "  </tbody>\n",
       "</table>\n",
       "</div>"
      ],
      "text/plain": [
       "   sepal_length  sepal_width  petal_length  petal_width species\n",
       "0           5.1          3.5           1.4          0.2  setosa\n",
       "1           4.9          3.0           1.4          0.2  setosa\n",
       "2           4.7          3.2           1.3          0.2  setosa\n",
       "3           4.6          3.1           1.5          0.2  setosa\n",
       "4           5.0          3.6           1.4          0.2  setosa"
      ]
     },
     "execution_count": 5,
     "metadata": {},
     "output_type": "execute_result"
    }
   ],
   "source": [
    "iris_df.head()"
   ]
  },
  {
   "cell_type": "markdown",
   "id": "768c372b",
   "metadata": {},
   "source": [
    "If you want to explore different data sets, seaborn comes with default examples."
   ]
  },
  {
   "cell_type": "code",
   "execution_count": 6,
   "id": "d9ccc00a",
   "metadata": {},
   "outputs": [],
   "source": [
    "iris_df = sns.load_dataset?"
   ]
  },
  {
   "cell_type": "code",
   "execution_count": 7,
   "id": "08dd1779",
   "metadata": {},
   "outputs": [],
   "source": [
    "iris_df = sns.load_dataset(\"iris\")"
   ]
  },
  {
   "cell_type": "markdown",
   "id": "2c8626d7",
   "metadata": {},
   "source": [
    "### Lmplot and Regplot\n",
    "These are the most simple plotting options for regression."
   ]
  },
  {
   "cell_type": "code",
   "execution_count": 10,
   "id": "d1825097",
   "metadata": {},
   "outputs": [
    {
     "data": {
      "image/png": "[encoded data removed]",
      "text/plain": [
       "<Figure size 360x360 with 1 Axes>"
      ]
     },
     "metadata": {
      "needs_background": "light"
     },
     "output_type": "display_data"
    }
   ],
   "source": [
    "sns.lmplot(x='sepal_length', y='sepal_width', data=iris_df)\n",
    "plt.show()"
   ]
  },
  {
   "cell_type": "markdown",
   "id": "64e7464e",
   "metadata": {},
   "source": [
    "However, if you want to control the size and shape of the plot, you need to use regplot."
   ]
  },
  {
   "cell_type": "code",
   "execution_count": 11,
   "id": "996bd76f",
   "metadata": {},
   "outputs": [
    {
     "data": {
      "text/plain": [
       "<AxesSubplot:xlabel='sepal_length', ylabel='sepal_width'>"
      ]
     },
     "execution_count": 11,
     "metadata": {},
     "output_type": "execute_result"
    },
    {
     "data": {
      "image/png": "[encoded data removed]",
      "text/plain": [
       "<Figure size 360x432 with 1 Axes>"
      ]
     },
     "metadata": {
      "needs_background": "light"
     },
     "output_type": "display_data"
    }
   ],
   "source": [
    "fig, ax = plt.subplots(figsize=(5,6))\n",
    "sns.regplot(x=\"sepal_length\", y=\"sepal_width\", data=iris_df, ax=ax)"
   ]
  },
  {
   "cell_type": "markdown",
   "id": "fa7fc24a",
   "metadata": {},
   "source": [
    "### Relplot\n"
   ]
  },
  {
   "cell_type": "code",
   "execution_count": 12,
   "id": "caf1f00f",
   "metadata": {},
   "outputs": [
    {
     "data": {
      "image/png": "[encoded data removed]",
      "text/plain": [
       "<Figure size 360x360 with 1 Axes>"
      ]
     },
     "metadata": {
      "needs_background": "light"
     },
     "output_type": "display_data"
    }
   ],
   "source": [
    "fig = sns.relplot(data=iris_df, x=\"sepal_length\", y=\"sepal_width\")\n",
    "plt.show()"
   ]
  },
  {
   "cell_type": "code",
   "execution_count": 13,
   "id": "dea9a21c",
   "metadata": {},
   "outputs": [
    {
     "data": {
      "image/png": "[encoded data removed]",
      "text/plain": [
       "<Figure size 444.75x360 with 1 Axes>"
      ]
     },
     "metadata": {
      "needs_background": "light"
     },
     "output_type": "display_data"
    }
   ],
   "source": [
    "sns.relplot(data=iris_df, x=\"sepal_length\", y=\"sepal_width\", hue='species')\n",
    "plt.show()"
   ]
  },
  {
   "cell_type": "code",
   "execution_count": 14,
   "id": "69bf9cc3",
   "metadata": {},
   "outputs": [
    {
     "data": {
      "image/png": "[encoded data removed]",
      "text/plain": [
       "<Figure size 444.75x360 with 1 Axes>"
      ]
     },
     "metadata": {
      "needs_background": "light"
     },
     "output_type": "display_data"
    }
   ],
   "source": [
    "sns.relplot(data=iris_df, x=\"sepal_length\", y=\"sepal_width\", hue='species', size=\"petal_width\")\n",
    "plt.show()"
   ]
  },
  {
   "cell_type": "markdown",
   "id": "2b469b23",
   "metadata": {},
   "source": [
    "What can you tell me about these species?"
   ]
  },
  {
   "cell_type": "markdown",
   "id": "0a29c90f",
   "metadata": {},
   "source": [
    "### Jointplot\n",
    "This plot type is used to plot two variables with bivariate and univariate graphs."
   ]
  },
  {
   "cell_type": "code",
   "execution_count": 15,
   "id": "5645d4a6",
   "metadata": {},
   "outputs": [
    {
     "data": {
      "text/plain": [
       "<seaborn.axisgrid.JointGrid at 0x135cc28b0>"
      ]
     },
     "execution_count": 15,
     "metadata": {},
     "output_type": "execute_result"
    },
    {
     "data": {
      "image/png": "[encoded data removed]",
      "text/plain": [
       "<Figure size 432x432 with 3 Axes>"
      ]
     },
     "metadata": {
      "needs_background": "light"
     },
     "output_type": "display_data"
    }
   ],
   "source": [
    "sns.jointplot(data=iris_df, x=\"petal_length\", y=\"sepal_length\")"
   ]
  },
  {
   "cell_type": "code",
   "execution_count": 16,
   "id": "72b1ceb0",
   "metadata": {},
   "outputs": [
    {
     "data": {
      "text/plain": [
       "<seaborn.axisgrid.JointGrid at 0x136019fa0>"
      ]
     },
     "execution_count": 16,
     "metadata": {},
     "output_type": "execute_result"
    },
    {
     "data": {
      "image/png": "[encoded data removed]",
      "text/plain": [
       "<Figure size 432x432 with 3 Axes>"
      ]
     },
     "metadata": {
      "needs_background": "light"
     },
     "output_type": "display_data"
    }
   ],
   "source": [
    "sns.jointplot(data=iris_df, x=\"petal_length\", y=\"sepal_length\", hue=\"species\")"
   ]
  },
  {
   "cell_type": "markdown",
   "id": "2ec3657c",
   "metadata": {},
   "source": [
    "### Pairplot\n",
    "It explores the pairwise relationship of the whole data set."
   ]
  },
  {
   "cell_type": "code",
   "execution_count": 17,
   "id": "15a65616",
   "metadata": {},
   "outputs": [
    {
     "data": {
      "image/png": "[encoded data removed]",
      "text/plain": [
       "<Figure size 660.75x576 with 20 Axes>"
      ]
     },
     "metadata": {
      "needs_background": "light"
     },
     "output_type": "display_data"
    }
   ],
   "source": [
    "sns.pairplot(data=iris_df, hue=\"species\", height=2.)\n",
    "plt.show()"
   ]
  },
  {
   "cell_type": "markdown",
   "id": "43a866d7",
   "metadata": {},
   "source": [
    "### Countplot\n",
    "Countplot is like a simple bar plot that shows the counts of observations in each category."
   ]
  },
  {
   "cell_type": "code",
   "execution_count": 18,
   "id": "78afbc0c",
   "metadata": {},
   "outputs": [
    {
     "data": {
      "image/png": "[encoded data removed]",
      "text/plain": [
       "<Figure size 576x360 with 1 Axes>"
      ]
     },
     "metadata": {
      "needs_background": "light"
     },
     "output_type": "display_data"
    }
   ],
   "source": [
    "fig, ax = plt.subplots(figsize=(8,5))\n",
    "sns.countplot(y='species', data=iris_df)\n",
    "plt.show()"
   ]
  },
  {
   "cell_type": "markdown",
   "id": "ceee51a5",
   "metadata": {},
   "source": [
    "### Boxplot and Violinplot\n",
    "Boxplot shows the distributions with respect to categories as a box plot. <br>\n",
    "Violinplot is a combination of boxplot and densities of categories."
   ]
  },
  {
   "cell_type": "code",
   "execution_count": 19,
   "id": "57fffdc6",
   "metadata": {},
   "outputs": [
    {
     "data": {
      "image/png": "[encoded data removed]",
      "text/plain": [
       "<Figure size 432x360 with 1 Axes>"
      ]
     },
     "metadata": {
      "needs_background": "light"
     },
     "output_type": "display_data"
    }
   ],
   "source": [
    "fig, ax = plt.subplots(figsize=(6,5))\n",
    "sns.boxplot(x='sepal_length', data=iris_df)\n",
    "plt.show()"
   ]
  },
  {
   "cell_type": "code",
   "execution_count": 20,
   "id": "194ff53a",
   "metadata": {},
   "outputs": [
    {
     "data": {
      "image/png": "[encoded data removed]",
      "text/plain": [
       "<Figure size 432x360 with 1 Axes>"
      ]
     },
     "metadata": {
      "needs_background": "light"
     },
     "output_type": "display_data"
    }
   ],
   "source": [
    "fig, ax = plt.subplots(figsize=(6,5))\n",
    "sns.violinplot(x='sepal_length', data=iris_df)\n",
    "plt.show()"
   ]
  },
  {
   "cell_type": "markdown",
   "id": "87ed3da4",
   "metadata": {},
   "source": [
    "### Heatmap\n",
    "A personal favourite, the heatmap is a rectangular matrix like demonstration of values."
   ]
  },
  {
   "cell_type": "code",
   "execution_count": 21,
   "id": "aca64a4f",
   "metadata": {},
   "outputs": [],
   "source": [
    "corr = iris_df.corr()"
   ]
  },
  {
   "cell_type": "code",
   "execution_count": 22,
   "id": "8855a4b1",
   "metadata": {},
   "outputs": [
    {
     "data": {
      "text/html": [
       "<div>\n",
       "<style scoped>\n",
       "    .dataframe tbody tr th:only-of-type {\n",
       "        vertical-align: middle;\n",
       "    }\n",
       "\n",
       "    .dataframe tbody tr th {\n",
       "        vertical-align: top;\n",
       "    }\n",
       "\n",
       "    .dataframe thead th {\n",
       "        text-align: right;\n",
       "    }\n",
       "</style>\n",
       "<table border=\"1\" class=\"dataframe\">\n",
       "  <thead>\n",
       "    <tr style=\"text-align: right;\">\n",
       "      <th></th>\n",
       "      <th>sepal_length</th>\n",
       "      <th>sepal_width</th>\n",
       "      <th>petal_length</th>\n",
       "      <th>petal_width</th>\n",
       "    </tr>\n",
       "  </thead>\n",
       "  <tbody>\n",
       "    <tr>\n",
       "      <th>sepal_length</th>\n",
       "      <td>1.000000</td>\n",
       "      <td>-0.117570</td>\n",
       "      <td>0.871754</td>\n",
       "      <td>0.817941</td>\n",
       "    </tr>\n",
       "    <tr>\n",
       "      <th>sepal_width</th>\n",
       "      <td>-0.117570</td>\n",
       "      <td>1.000000</td>\n",
       "      <td>-0.428440</td>\n",
       "      <td>-0.366126</td>\n",
       "    </tr>\n",
       "    <tr>\n",
       "      <th>petal_length</th>\n",
       "      <td>0.871754</td>\n",
       "      <td>-0.428440</td>\n",
       "      <td>1.000000</td>\n",
       "      <td>0.962865</td>\n",
       "    </tr>\n",
       "    <tr>\n",
       "      <th>petal_width</th>\n",
       "      <td>0.817941</td>\n",
       "      <td>-0.366126</td>\n",
       "      <td>0.962865</td>\n",
       "      <td>1.000000</td>\n",
       "    </tr>\n",
       "  </tbody>\n",
       "</table>\n",
       "</div>"
      ],
      "text/plain": [
       "              sepal_length  sepal_width  petal_length  petal_width\n",
       "sepal_length      1.000000    -0.117570      0.871754     0.817941\n",
       "sepal_width      -0.117570     1.000000     -0.428440    -0.366126\n",
       "petal_length      0.871754    -0.428440      1.000000     0.962865\n",
       "petal_width       0.817941    -0.366126      0.962865     1.000000"
      ]
     },
     "execution_count": 22,
     "metadata": {},
     "output_type": "execute_result"
    }
   ],
   "source": [
    "corr"
   ]
  },
  {
   "cell_type": "code",
   "execution_count": 23,
   "id": "209fab96",
   "metadata": {},
   "outputs": [
    {
     "data": {
      "image/png": "[encoded data removed]",
      "text/plain": [
       "<Figure size 648x432 with 2 Axes>"
      ]
     },
     "metadata": {
      "needs_background": "light"
     },
     "output_type": "display_data"
    }
   ],
   "source": [
    "# Draw a heatmap with the numeric values in each cell\n",
    "f, ax = plt.subplots(figsize=(9, 6))\n",
    "sns.heatmap(corr*100, annot=True, fmt=\"2.1f\", linewidths=.5, ax=ax, vmin=-100)\n",
    "plt.show()"
   ]
  },
  {
   "cell_type": "code",
   "execution_count": null,
   "id": "5950f0ac",
   "metadata": {},
   "outputs": [],
   "source": []
  }
 ],
 "metadata": {
  "kernelspec": {
   "display_name": "Python 3 (ipykernel)",
   "language": "python",
   "name": "python3"
  },
  "language_info": {
   "codemirror_mode": {
    "name": "ipython",
    "version": 3
   },
   "file_extension": ".py",
   "mimetype": "text/x-python",
   "name": "python",
   "nbconvert_exporter": "python",
   "pygments_lexer": "ipython3",
   "version": "3.8.2"
  }
 },
 "nbformat": 4,
 "nbformat_minor": 5
}
