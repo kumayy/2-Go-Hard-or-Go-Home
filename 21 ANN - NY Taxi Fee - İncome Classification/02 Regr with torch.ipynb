{
 "cells": [
  {
   "cell_type": "markdown",
   "metadata": {},
   "source": [
    "# Linear Regression with PyTroch"
   ]
  },
  {
   "cell_type": "markdown",
   "metadata": {},
   "source": [
    "## Import"
   ]
  },
  {
   "cell_type": "code",
   "execution_count": 121,
   "metadata": {},
   "outputs": [],
   "source": [
    "import torch\n",
    "\n",
    "import numpy as np\n",
    "import matplotlib.pyplot as plt\n",
    "%matplotlib inline"
   ]
  },
  {
   "cell_type": "code",
   "execution_count": 122,
   "metadata": {},
   "outputs": [],
   "source": [
    "import torch.nn as nn"
   ]
  },
  {
   "cell_type": "markdown",
   "metadata": {},
   "source": [
    "## Creating matrix"
   ]
  },
  {
   "cell_type": "code",
   "execution_count": 123,
   "metadata": {},
   "outputs": [],
   "source": [
    "X = torch.linspace(1,50,50).reshape(-1,1)"
   ]
  },
  {
   "cell_type": "code",
   "execution_count": 124,
   "metadata": {},
   "outputs": [
    {
     "data": {
      "text/plain": [
       "tensor([[ 1.],\n",
       "        [ 2.],\n",
       "        [ 3.],\n",
       "        [ 4.],\n",
       "        [ 5.],\n",
       "        [ 6.],\n",
       "        [ 7.],\n",
       "        [ 8.],\n",
       "        [ 9.],\n",
       "        [10.],\n",
       "        [11.],\n",
       "        [12.],\n",
       "        [13.],\n",
       "        [14.],\n",
       "        [15.],\n",
       "        [16.],\n",
       "        [17.],\n",
       "        [18.],\n",
       "        [19.],\n",
       "        [20.],\n",
       "        [21.],\n",
       "        [22.],\n",
       "        [23.],\n",
       "        [24.],\n",
       "        [25.],\n",
       "        [26.],\n",
       "        [27.],\n",
       "        [28.],\n",
       "        [29.],\n",
       "        [30.],\n",
       "        [31.],\n",
       "        [32.],\n",
       "        [33.],\n",
       "        [34.],\n",
       "        [35.],\n",
       "        [36.],\n",
       "        [37.],\n",
       "        [38.],\n",
       "        [39.],\n",
       "        [40.],\n",
       "        [41.],\n",
       "        [42.],\n",
       "        [43.],\n",
       "        [44.],\n",
       "        [45.],\n",
       "        [46.],\n",
       "        [47.],\n",
       "        [48.],\n",
       "        [49.],\n",
       "        [50.]])"
      ]
     },
     "execution_count": 124,
     "metadata": {},
     "output_type": "execute_result"
    }
   ],
   "source": [
    "X"
   ]
  },
  {
   "cell_type": "code",
   "execution_count": 125,
   "metadata": {},
   "outputs": [
    {
     "name": "stdout",
     "output_type": "stream",
     "text": [
      "tensor(0.)\n"
     ]
    }
   ],
   "source": [
    "torch.manual_seed(71)\n",
    "e = torch.randint(-8, 9, (50,1), dtype=torch.float)\n",
    "print(e.sum())"
   ]
  },
  {
   "cell_type": "code",
   "execution_count": 126,
   "metadata": {},
   "outputs": [
    {
     "name": "stdout",
     "output_type": "stream",
     "text": [
      "torch.Size([50, 1])\n"
     ]
    }
   ],
   "source": [
    "y = 2*X +1 +e\n",
    "print(y.shape)"
   ]
  },
  {
   "cell_type": "code",
   "execution_count": 127,
   "metadata": {},
   "outputs": [
    {
     "data": {
      "image/png": "[encoded data removed]",
      "text/plain": [
       "<Figure size 432x288 with 1 Axes>"
      ]
     },
     "metadata": {
      "needs_background": "light"
     },
     "output_type": "display_data"
    }
   ],
   "source": [
    "plt.scatter(X.numpy() , y.numpy())\n",
    "plt.ylabel('y')\n",
    "plt.xlabel('x');"
   ]
  },
  {
   "cell_type": "markdown",
   "metadata": {},
   "source": [
    "## PyTorch model"
   ]
  },
  {
   "cell_type": "code",
   "execution_count": 128,
   "metadata": {},
   "outputs": [
    {
     "name": "stdout",
     "output_type": "stream",
     "text": [
      "Parameter containing:\n",
      "tensor([[0.1060]], requires_grad=True)\n",
      "Parameter containing:\n",
      "tensor([0.9638], requires_grad=True)\n"
     ]
    }
   ],
   "source": [
    "  torch.manual_seed(59)\n",
    "\n",
    "  model = nn.Linear(in_features=1, out_features=1)\n",
    "  print(model.weight)\n",
    "  print(model.bias)"
   ]
  },
  {
   "cell_type": "code",
   "execution_count": 129,
   "metadata": {},
   "outputs": [],
   "source": [
    "class Model(nn.Module):\n",
    "    def __init__(self, in_features, out_features):\n",
    "        super().__init__()\n",
    "        self.linear = nn.Linear(in_features, out_features)\n",
    "\n",
    "    def forward(self, x):\n",
    "        y_pred = self.linear(x)\n",
    "        return y_pred "
   ]
  },
  {
   "cell_type": "code",
   "execution_count": 130,
   "metadata": {},
   "outputs": [
    {
     "name": "stdout",
     "output_type": "stream",
     "text": [
      "Model(\n",
      "  (linear): Linear(in_features=1, out_features=1, bias=True)\n",
      ")\n",
      "Weight:  0.10597813129425049\n",
      "Bias:    0.9637961387634277\n"
     ]
    }
   ],
   "source": [
    "torch.manual_seed(59)\n",
    "model = Model(1,1)\n",
    "print(model)\n",
    "print(\"Weight: \", model.linear.weight.item())\n",
    "print(\"Bias:   \", model.linear.bias.item())"
   ]
  },
  {
   "cell_type": "code",
   "execution_count": 131,
   "metadata": {},
   "outputs": [
    {
     "name": "stdout",
     "output_type": "stream",
     "text": [
      "linear.weight \t 0.10597813129425049\n",
      "linear.bias \t 0.9637961387634277\n"
     ]
    }
   ],
   "source": [
    "for name, param in model.named_parameters():\n",
    "    print(name, \"\\t\", param.item())"
   ]
  },
  {
   "cell_type": "code",
   "execution_count": 132,
   "metadata": {},
   "outputs": [
    {
     "name": "stdout",
     "output_type": "stream",
     "text": [
      "tensor([1.1758], grad_fn=<AddBackward0>)\n"
     ]
    }
   ],
   "source": [
    "x = torch.tensor([2.0])\n",
    "print(model.forward(x))"
   ]
  },
  {
   "cell_type": "code",
   "execution_count": 133,
   "metadata": {},
   "outputs": [
    {
     "data": {
      "text/plain": [
       "array([ 0.        ,  1.02040816,  2.04081633,  3.06122449,  4.08163265,\n",
       "        5.10204082,  6.12244898,  7.14285714,  8.16326531,  9.18367347,\n",
       "       10.20408163, 11.2244898 , 12.24489796, 13.26530612, 14.28571429,\n",
       "       15.30612245, 16.32653061, 17.34693878, 18.36734694, 19.3877551 ,\n",
       "       20.40816327, 21.42857143, 22.44897959, 23.46938776, 24.48979592,\n",
       "       25.51020408, 26.53061224, 27.55102041, 28.57142857, 29.59183673,\n",
       "       30.6122449 , 31.63265306, 32.65306122, 33.67346939, 34.69387755,\n",
       "       35.71428571, 36.73469388, 37.75510204, 38.7755102 , 39.79591837,\n",
       "       40.81632653, 41.83673469, 42.85714286, 43.87755102, 44.89795918,\n",
       "       45.91836735, 46.93877551, 47.95918367, 48.97959184, 50.        ])"
      ]
     },
     "execution_count": 133,
     "metadata": {},
     "output_type": "execute_result"
    }
   ],
   "source": [
    "x1 = np.linspace(0,50,50)\n",
    "x1"
   ]
  },
  {
   "cell_type": "code",
   "execution_count": 134,
   "metadata": {},
   "outputs": [],
   "source": [
    "w1 = 0.1059\n",
    "b1 = 0.9637\n",
    "\n",
    "y1 = w1*x1 + b1"
   ]
  },
  {
   "cell_type": "code",
   "execution_count": 135,
   "metadata": {},
   "outputs": [
    {
     "data": {
      "text/plain": [
       "array([0.9637    , 1.07176122, 1.17982245, 1.28788367, 1.3959449 ,\n",
       "       1.50400612, 1.61206735, 1.72012857, 1.8281898 , 1.93625102,\n",
       "       2.04431224, 2.15237347, 2.26043469, 2.36849592, 2.47655714,\n",
       "       2.58461837, 2.69267959, 2.80074082, 2.90880204, 3.01686327,\n",
       "       3.12492449, 3.23298571, 3.34104694, 3.44910816, 3.55716939,\n",
       "       3.66523061, 3.77329184, 3.88135306, 3.98941429, 4.09747551,\n",
       "       4.20553673, 4.31359796, 4.42165918, 4.52972041, 4.63778163,\n",
       "       4.74584286, 4.85390408, 4.96196531, 5.07002653, 5.17808776,\n",
       "       5.28614898, 5.3942102 , 5.50227143, 5.61033265, 5.71839388,\n",
       "       5.8264551 , 5.93451633, 6.04257755, 6.15063878, 6.2587    ])"
      ]
     },
     "execution_count": 135,
     "metadata": {},
     "output_type": "execute_result"
    }
   ],
   "source": [
    "y1"
   ]
  },
  {
   "cell_type": "code",
   "execution_count": 136,
   "metadata": {},
   "outputs": [
    {
     "data": {
      "text/plain": [
       "Text(0.5, 0, 'x')"
      ]
     },
     "execution_count": 136,
     "metadata": {},
     "output_type": "execute_result"
    },
    {
     "data": {
      "image/png": "[encoded data removed]",
      "text/plain": [
       "<Figure size 432x288 with 1 Axes>"
      ]
     },
     "metadata": {
      "needs_background": "light"
     },
     "output_type": "display_data"
    }
   ],
   "source": [
    "plt.scatter(X.numpy(), y.numpy())\n",
    "plt.plot(x1,y1, \"r\")\n",
    "plt.ylabel('y')\n",
    "plt.xlabel('x')"
   ]
  },
  {
   "cell_type": "markdown",
   "metadata": {},
   "source": [
    "## Loss Func"
   ]
  },
  {
   "cell_type": "code",
   "execution_count": 137,
   "metadata": {},
   "outputs": [],
   "source": [
    "criterion = nn.MSELoss()"
   ]
  },
  {
   "cell_type": "code",
   "execution_count": 138,
   "metadata": {},
   "outputs": [],
   "source": [
    "optimizer = torch.optim.SGD(model.parameters(), lr = 0.001)"
   ]
  },
  {
   "cell_type": "markdown",
   "metadata": {},
   "source": [
    "## Train the Model"
   ]
  },
  {
   "cell_type": "code",
   "execution_count": 139,
   "metadata": {},
   "outputs": [
    {
     "name": "stdout",
     "output_type": "stream",
     "text": [
      "epoch:  1 loss: 3057.21679688 weight: 0.10597813         bias: 0.96379614\n",
      "epoch:  2 loss: 1588.53112793 weight: 3.33490038         bias: 1.06046367\n",
      "epoch:  3 loss: 830.29998779 weight: 1.01483274         bias: 0.99226284\n",
      "epoch:  4 loss: 438.85241699 weight: 2.68179965         bias: 1.04252183\n",
      "epoch:  5 loss: 236.76152039 weight: 1.48402119         bias: 1.00766504\n",
      "epoch:  6 loss: 132.42912292 weight: 2.34460592         bias: 1.03396463\n",
      "epoch:  7 loss: 78.56572723 weight: 1.72622538         bias: 1.01632178\n",
      "epoch:  8 loss: 50.75775909 weight: 2.17050409         bias: 1.03025162\n",
      "epoch:  9 loss: 36.40123367 weight: 1.85124576         bias: 1.02149546\n",
      "epoch: 10 loss: 28.98922920 weight: 2.08060074         bias: 1.02903891\n",
      "epoch: 11 loss: 25.16238213 weight: 1.91576838         bias: 1.02487016\n",
      "epoch: 12 loss: 23.18647385 weight: 2.03416562         bias: 1.02911627\n",
      "epoch: 13 loss: 22.16612625 weight: 1.94905841         bias: 1.02731562\n",
      "epoch: 14 loss: 21.63911057 weight: 2.01017213         bias: 1.02985907\n",
      "epoch: 15 loss: 21.36677170 weight: 1.96622372         bias: 1.02928054\n",
      "epoch: 16 loss: 21.22591782 weight: 1.99776423         bias: 1.03094459\n",
      "epoch: 17 loss: 21.15294647 weight: 1.97506487         bias: 1.03099668\n",
      "epoch: 18 loss: 21.11500931 weight: 1.99133754         bias: 1.03220642\n",
      "epoch: 19 loss: 21.09517670 weight: 1.97960854         bias: 1.03258383\n",
      "epoch: 20 loss: 21.08468437 weight: 1.98799884         bias: 1.03355861\n",
      "epoch: 21 loss: 21.07901382 weight: 1.98193336         bias: 1.03410351\n",
      "epoch: 22 loss: 21.07583046 weight: 1.98625445         bias: 1.03495669\n",
      "epoch: 23 loss: 21.07393837 weight: 1.98311269         bias: 1.03558779\n",
      "epoch: 24 loss: 21.07270050 weight: 1.98533309         bias: 1.03637791\n",
      "epoch: 25 loss: 21.07181931 weight: 1.98370099         bias: 1.03705311\n",
      "epoch: 26 loss: 21.07110596 weight: 1.98483658         bias: 1.03781021\n",
      "epoch: 27 loss: 21.07048607 weight: 1.98398376         bias: 1.03850794\n",
      "epoch: 28 loss: 21.06991386 weight: 1.98455977         bias: 1.03924775\n",
      "epoch: 29 loss: 21.06936836 weight: 1.98410904         bias: 1.03995669\n",
      "epoch: 30 loss: 21.06883812 weight: 1.98439610         bias: 1.04068720\n",
      "epoch: 31 loss: 21.06830788 weight: 1.98415291         bias: 1.04140162\n",
      "epoch: 32 loss: 21.06778145 weight: 1.98429084         bias: 1.04212701\n",
      "epoch: 33 loss: 21.06726074 weight: 1.98415494         bias: 1.04284394\n",
      "epoch: 34 loss: 21.06674004 weight: 1.98421574         bias: 1.04356635\n",
      "epoch: 35 loss: 21.06622505 weight: 1.98413551         bias: 1.04428422\n",
      "epoch: 36 loss: 21.06570816 weight: 1.98415649         bias: 1.04500473\n",
      "epoch: 37 loss: 21.06518745 weight: 1.98410451         bias: 1.04572272\n",
      "epoch: 38 loss: 21.06466866 weight: 1.98410523         bias: 1.04644191\n",
      "epoch: 39 loss: 21.06415749 weight: 1.98406804         bias: 1.04715967\n",
      "epoch: 40 loss: 21.06363678 weight: 1.98405814         bias: 1.04787791\n",
      "epoch: 41 loss: 21.06312561 weight: 1.98402870         bias: 1.04859519\n",
      "epoch: 42 loss: 21.06260681 weight: 1.98401320         bias: 1.04931259\n",
      "epoch: 43 loss: 21.06209564 weight: 1.98398757         bias: 1.05002928\n",
      "epoch: 44 loss: 21.06157684 weight: 1.98396957         bias: 1.05074584\n",
      "epoch: 45 loss: 21.06106949 weight: 1.98394585         bias: 1.05146194\n",
      "epoch: 46 loss: 21.06055450 weight: 1.98392630         bias: 1.05217779\n",
      "epoch: 47 loss: 21.06004333 weight: 1.98390377         bias: 1.05289316\n",
      "epoch: 48 loss: 21.05953217 weight: 1.98388338         bias: 1.05360830\n",
      "epoch: 49 loss: 21.05901337 weight: 1.98386145         bias: 1.05432308\n",
      "epoch: 50 loss: 21.05850983 weight: 1.98384094         bias: 1.05503750\n"
     ]
    }
   ],
   "source": [
    "epochs = 50\n",
    "losses = []\n",
    "\n",
    "for i in range(epochs):\n",
    "    i+=1\n",
    "    y_pred = model.forward(X) # predicting forward pass\n",
    "    loss = criterion(y_pred, y) # calculating loss\n",
    "    losses.append(loss.detach().numpy()) # recording error\n",
    "    print(f'epoch: {i:2} loss: {loss.item():10.8f} weight: {model.linear.weight.item():10.8f} \\\n",
    "        bias: {model.linear.bias.item():10.8f}')\n",
    "    optimizer.zero_grad()\n",
    "    loss.backward()\n",
    "    optimizer.step()"
   ]
  },
  {
   "cell_type": "markdown",
   "metadata": {},
   "source": [
    "## Loss Values and Final Plots"
   ]
  },
  {
   "cell_type": "code",
   "execution_count": 140,
   "metadata": {},
   "outputs": [
    {
     "data": {
      "text/plain": [
       "Text(0, 0.5, 'MSE Loss')"
      ]
     },
     "execution_count": 140,
     "metadata": {},
     "output_type": "execute_result"
    },
    {
     "data": {
      "image/png": "[encoded data removed]",
      "text/plain": [
       "<Figure size 432x288 with 1 Axes>"
      ]
     },
     "metadata": {
      "needs_background": "light"
     },
     "output_type": "display_data"
    }
   ],
   "source": [
    "plt.plot(range(epochs), losses)\n",
    "plt.xlabel(\"Epoch\")\n",
    "plt.ylabel(\"MSE Loss\")"
   ]
  },
  {
   "cell_type": "code",
   "execution_count": 141,
   "metadata": {},
   "outputs": [
    {
     "name": "stdout",
     "output_type": "stream",
     "text": [
      "Current weight: 1.98381913, Current bias: 1.05575156\n",
      "\n",
      "[ 0.          1.02040816  2.04081633  3.06122449  4.08163265  5.10204082\n",
      "  6.12244898  7.14285714  8.16326531  9.18367347 10.20408163 11.2244898\n",
      " 12.24489796 13.26530612 14.28571429 15.30612245 16.32653061 17.34693878\n",
      " 18.36734694 19.3877551  20.40816327 21.42857143 22.44897959 23.46938776\n",
      " 24.48979592 25.51020408 26.53061224 27.55102041 28.57142857 29.59183673\n",
      " 30.6122449  31.63265306 32.65306122 33.67346939 34.69387755 35.71428571\n",
      " 36.73469388 37.75510204 38.7755102  39.79591837 40.81632653 41.83673469\n",
      " 42.85714286 43.87755102 44.89795918 45.91836735 46.93877551 47.95918367\n",
      " 48.97959184 50.        ]\n",
      "[  1.05575156   3.08005679   5.10436203   7.12866726   9.15297249\n",
      "  11.17727772  13.20158295  15.22588818  17.25019342  19.27449865\n",
      "  21.29880388  23.32310911  25.34741434  27.37171957  29.39602481\n",
      "  31.42033004  33.44463527  35.4689405   37.49324573  39.51755096\n",
      "  41.5418562   43.56616143  45.59046666  47.61477189  49.63907712\n",
      "  51.66338236  53.68768759  55.71199282  57.73629805  59.76060328\n",
      "  61.78490851  63.80921375  65.83351898  67.85782421  69.88212944\n",
      "  71.90643467  73.9307399   75.95504514  77.97935037  80.0036556\n",
      "  82.02796083  84.05226606  86.07657129  88.10087653  90.12518176\n",
      "  92.14948699  94.17379222  96.19809745  98.22240268 100.24670792]\n"
     ]
    }
   ],
   "source": [
    "w1,b1 = model.linear.weight.item(), model.linear.bias.item()\n",
    "print(f'Current weight: {w1:.8f}, Current bias: {b1:.8f}')\n",
    "print()\n",
    "\n",
    "y1 = x1*w1 + b1\n",
    "print(x1)\n",
    "print(y1)"
   ]
  },
  {
   "cell_type": "code",
   "execution_count": 142,
   "metadata": {},
   "outputs": [
    {
     "data": {
      "image/png": "[encoded data removed]",
      "text/plain": [
       "<Figure size 432x288 with 1 Axes>"
      ]
     },
     "metadata": {
      "needs_background": "light"
     },
     "output_type": "display_data"
    }
   ],
   "source": [
    "plt.scatter(X.numpy(), y.numpy())\n",
    "plt.plot(x1,y1,'r')\n",
    "plt.title('Current Model')\n",
    "plt.ylabel('y')\n",
    "plt.xlabel('x');"
   ]
  },
  {
   "cell_type": "code",
   "execution_count": null,
   "metadata": {},
   "outputs": [],
   "source": []
  }
 ],
 "metadata": {
  "kernelspec": {
   "display_name": "Python 3.10.4 64-bit",
   "language": "python",
   "name": "python3"
  },
  "language_info": {
   "codemirror_mode": {
    "name": "ipython",
    "version": 3
   },
   "file_extension": ".py",
   "mimetype": "text/x-python",
   "name": "python",
   "nbconvert_exporter": "python",
   "pygments_lexer": "ipython3",
   "version": "3.10.4"
  },
  "orig_nbformat": 4,
  "vscode": {
   "interpreter": {
    "hash": "b3e7da72a39f7a17a6d97a8d06ce72155efa3380655b125308e89f51b377b73c"
   }
  }
 },
 "nbformat": 4,
 "nbformat_minor": 2
}
